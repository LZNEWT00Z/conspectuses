{
 "cells": [
  {
   "cell_type": "markdown",
   "metadata": {},
   "source": [
    "# LINUX Command Line Fundamentals"
   ]
  },
  {
   "cell_type": "markdown",
   "metadata": {},
   "source": [
    "Objectives:\n",
    "\n",
    "- Define what the command line is\n",
    "- Learn command line nagigation and file structure\n",
    "- Learn to manipulate files and folders via command line"
   ]
  },
  {
   "cell_type": "markdown",
   "metadata": {},
   "source": [
    "**The command line** (or terminal) is a faster and more powerful way to maneuver your operating system than by using a `GUI` (**g**raphical **u**ser **i**nterface), such as Windows Explorer or Mac Finder. "
   ]
  },
  {
   "cell_type": "markdown",
   "metadata": {},
   "source": [
    "Use special keywords to do everything you can with `GUI` _and more_."
   ]
  },
  {
   "cell_type": "markdown",
   "metadata": {},
   "source": [
    "Especially in this course:\n",
    "\n",
    "- navigate around\n",
    "- create and remove directories and files\n",
    "- move, copy, and paste things\n",
    "- use version control (git) to keep track of changes\n",
    "- execute Python scripts"
   ]
  },
  {
   "cell_type": "markdown",
   "metadata": {},
   "source": [
    "**OS File Structure**\n",
    "\n",
    "Operating Systems organize their folders in a hierarchy (a tree) with parents and children, all relative to a base **root** directory.\n",
    "\n",
    "Files and directories have **absolute paths** based on the root, where each additional level down adds a \"/\".\n",
    "\n",
    "Example in my case: absolute path of my user directory (anton) is `/home/anton`. This user directory called \"home\" which also known as \"~\". This is the default directory upon opening the terminal.\n",
    "\n",
    "How you find your current location? Use `pwd`.\n",
    "\n",
    "The command \"**`pwd`**\" (**p**rint **w**orking **d**irectory) will tell you the full _absolute path_ of where you're at!"
   ]
  },
  {
   "cell_type": "markdown",
   "metadata": {},
   "source": [
    "**Navigating *Absolutely***\n",
    "\n",
    "The command \"**`cd`**\" (\"**c**hange **d**irectory\") followed by the absolute path of the folder will navigate you directly there.\n",
    "\n",
    "Example:\n",
    "\n",
    "    pwd\n",
    "    /home/anton\n",
    "    cd /\n",
    "    pwd\n",
    "    /\n",
    "\n",
    "**Navigating *Relatively***\n",
    "\n",
    "The dot \".\" stands for current directory, and dot-dot \"..\" stands for parent directory. This allows for relative navigation:\n",
    "\n",
    "    pwd\n",
    "    /home/anton\n",
    "    cd ..\n",
    "    pwd\n",
    "    /home"
   ]
  },
  {
   "cell_type": "markdown",
   "metadata": {},
   "source": [
    "**What's Inside?**\n",
    "\n",
    "The keyword \"**`ls`**\" will \"**l**i**s**t\" the contents of a directory. You can supply **options** (*they start with a dash and follow the function, i.e. `ls -a` or `ls -al` or `ls -l`, etc.*) as \"**-a**\" to list **a**ll files (including hidden ones), or \"**-l**\" for a **l**onger format.\n",
    "\n",
    "    pwd\n",
    "    /home/anton\n",
    "    ls\n",
    "    anaconda3 Downloads         etc.\n",
    "    Desktop   examples.desktop  etc.\n",
    "    Documents Music             etc.\n",
    "    cd Downloads #you don't need to type the whole directory\n",
    "    ls\n",
    "    filename.file\n",
    "    filename2.file\n",
    "    filename3.file\n",
    "    Directory\n",
    "    open filename.file #opens filename.file"
   ]
  },
  {
   "cell_type": "markdown",
   "metadata": {},
   "source": [
    "**Creating Directories**\n",
    "\n",
    "The command \"**`mkdir`**\" (\"**m**a**k**e **di**rectory\") followed by the name of the new directory will create a new child directory inside the current directory.\n",
    "\n",
    "    pwd\n",
    "    /home/anton\n",
    "    mkdir test #the directory is created\n",
    "    cd test\n",
    "    mkdir test1 test2 #you can create multiple directories\n",
    "    pwd\n",
    "    /home/anton/test\n",
    "    ls\n",
    "    test1 test2"
   ]
  },
  {
   "cell_type": "markdown",
   "metadata": {},
   "source": [
    "**Creating Files**\n",
    "\n",
    "The command \"**`touch`**\" followed by the filename and file-type extension will create a new file of that type. It also can be used to refresh an update date of the file if you use it on an existing file.\n",
    "\n",
    "    pwd\n",
    "    home/anton/\n",
    "    cd /home/anton/test/test1\n",
    "    touch test.txt\n",
    "    ls\n",
    "    test.txt\n",
    "    cd ..\n",
    "    pwd\n",
    "    home/anton/test/\n",
    "    touch test2/test2.txt #will create a file in the test2 directory"
   ]
  },
  {
   "cell_type": "markdown",
   "metadata": {},
   "source": [
    "**Moving / Renaming Things**\n",
    "\n",
    "Files can be moved or renamed using the \"**`mv`**\" (\"**m**o**v**e\") keyword, which takes two arguments: the source and the destination.\n",
    "\n",
    "    cd /home/anton/test/test1\n",
    "    ls\n",
    "    test.txt\n",
    "    mv test.txt renamed.txt #renames the file\n",
    "    ls\n",
    "    renamed.txt\n",
    "    mv renamed.txt ../ #moves the file to the parent directory\n",
    "    ls\n",
    "    cd ..\n",
    "    ls\n",
    "    renamed.txt test1 test2\n",
    "    mv renamed.txt test2 #moves the file to another directory\n",
    "    cd ~\n",
    "    mv /home/anton/test/test2/renamed.txt /home/anton /test/test1 #moving the file using absolute path\n",
    "    ls /home/anton/test/test1\n",
    "    renamed.txt"
   ]
  },
  {
   "cell_type": "markdown",
   "metadata": {},
   "source": [
    "**Removing Files**\n",
    "\n",
    "**Files** can be deleted using the \"**`rm`**\" (\"**r**e**m**ove\") keyword.\n",
    "\n",
    "    rm /home/anton/test/test1/renamed.txt\n",
    "    ls /home/anton/test/test1\n",
    "    "
   ]
  },
  {
   "cell_type": "markdown",
   "metadata": {},
   "source": [
    "**Removing Directories**\n",
    "\n",
    "Directories can be deleted using two commands: \n",
    "- if the directory is empty you can use \"**`rmdir`**\" (\"**r**e**m**ove **dir**ectory\") keyword\n",
    "- if the directory is not empty you can use \"**`rm`**\" keyword, with added option **-r** (\"**r**ecursive\"). You can also use \"**-f**\" (\"**f**orce\") to prevent warnings.\n",
    "----\n",
    "\n",
    "    rm -rf /home/anton/test/test1\n",
    "    ls /home/anton/test\n",
    "    test2\n",
    "\n",
    "**WARNING: \"rm -rf\" is a dangerous command! Be extremely careful what folder you pass to it because you will never get it back.**\n",
    "____\n",
    "\n",
    "*!NB: you can read a manual on each command using* **`man`** *command (i.e. `man rm`). To leave a manual just press q.*"
   ]
  }
 ],
 "metadata": {
  "kernelspec": {
   "display_name": "Python 3",
   "language": "python",
   "name": "python3"
  },
  "language_info": {
   "codemirror_mode": {
    "name": "ipython",
    "version": 3
   },
   "file_extension": ".py",
   "mimetype": "text/x-python",
   "name": "python",
   "nbconvert_exporter": "python",
   "pygments_lexer": "ipython3",
   "version": "3.6.5"
  }
 },
 "nbformat": 4,
 "nbformat_minor": 2
}
