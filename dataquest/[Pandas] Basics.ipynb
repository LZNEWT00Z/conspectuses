{
 "cells": [
  {
   "cell_type": "markdown",
   "metadata": {},
   "source": [
    "# Pandas basics\n",
    "---"
   ]
  },
  {
   "cell_type": "markdown",
   "metadata": {},
   "source": [
    "`NumPy` provides fundamental structures and tools that makes working with data easier, but there are several things that limit its usefulness as a single tool when working with data:\n",
    "\n",
    "* The lack of support for column names forces us to frame the questions we want to answer as multi-dimensional array operations.\n",
    "* Support for only one data type per ndarray makes it more difficult to work with data that contains both numeric and string data.\n",
    "* There are lots of low level methods, however there are many common analysis patterns that don't have pre-built methods.\n",
    "\n",
    "The `pandas` library provides solutions to all of these pain points and more. Pandas is not so much a replacement for NumPy as an extension of NumPy."
   ]
  },
  {
   "cell_type": "code",
   "execution_count": 1,
   "metadata": {},
   "outputs": [],
   "source": [
    "import pandas as pd"
   ]
  },
  {
   "cell_type": "markdown",
   "metadata": {},
   "source": [
    "With pandas we'll inspect the f500.csv dataset. Pandas has a method to read csv ([`pandas.read_csv()`](http://pandas.pydata.org/pandas-docs/stable/generated/pandas.read_csv.html)). Pandas has a similar attribute `.shape`, like NumPy."
   ]
  },
  {
   "cell_type": "code",
   "execution_count": 2,
   "metadata": {},
   "outputs": [],
   "source": [
    "import pandas as pd\n",
    "f500 = pd.read_csv(\"f500.csv\", index_col=0)\n",
    "f500.index.name = None # deletes the name of the file from the table, it's optional\n",
    "f500_type = type(f500)\n",
    "f500_shape = f500.shape"
   ]
  },
  {
   "cell_type": "code",
   "execution_count": 3,
   "metadata": {},
   "outputs": [
    {
     "name": "stdout",
     "output_type": "stream",
     "text": [
      "<class 'pandas.core.frame.DataFrame'> (500, 16)\n"
     ]
    }
   ],
   "source": [
    "print(f500_type, f500_shape)"
   ]
  },
  {
   "cell_type": "markdown",
   "metadata": {},
   "source": [
    "[`pandas.DataFrame()`](http://pandas.pydata.org/pandas-docs/stable/generated/pandas.DataFrame.html#pandas.DataFrame) objects/type, or just dataframes, is the primary pandas data structure (the second one is series). DataFrames have 2 dimensions (rows, columns).\n",
    "\n",
    "We can use the [`DataFrame.dtypes`](http://pandas.pydata.org/pandas-docs/stable/generated/pandas.DataFrame.dtypes.html#pandas.DataFrame.dtypes) attribute (similar to NumPy's [`ndarray.dtype`](http://docs.scipy.org/doc/numpy-1.14.2/reference/generated/numpy.ndarray.dtype.html#numpy.ndarray.dtype) attribute) to return information about the types of each column. Let's see what this would return for our selection of data above:"
   ]
  },
  {
   "cell_type": "code",
   "execution_count": 4,
   "metadata": {},
   "outputs": [
    {
     "name": "stdout",
     "output_type": "stream",
     "text": [
      "rank                          int64\n",
      "revenues                      int64\n",
      "revenue_change              float64\n",
      "profits                     float64\n",
      "assets                        int64\n",
      "profit_change               float64\n",
      "ceo                          object\n",
      "industry                     object\n",
      "sector                       object\n",
      "previous_rank                 int64\n",
      "country                      object\n",
      "hq_location                  object\n",
      "website                      object\n",
      "years_on_global_500_list      int64\n",
      "employees                     int64\n",
      "total_stockholder_equity      int64\n",
      "dtype: object\n"
     ]
    }
   ],
   "source": [
    "print(f500.dtypes)"
   ]
  },
  {
   "cell_type": "markdown",
   "metadata": {},
   "source": [
    "A few handy methods we can use to get some high-level information about our dataframe:\n",
    "\n",
    "* If we wanted to view the first few rows of our dataframe, we can use the [`DataFrame.head()`](http://pandas.pydata.org/pandas-docs/stable/generated/pandas.DataFrame.head.html) method, which returns the first five rows of our dataframe. The `DataFrame.head()` method also accepts an optional integer parameter which specifies the number of rows. We could use `f500.head(10)` to return the first 10 rows of our f500 dataframe.\n",
    "* Similar in function to `DataFrame.head()`, we can use the [`DataFrame.tail()`](http://pandas.pydata.org/pandas-docs/stable/generated/pandas.DataFrame.tail.html) method, to shows us the last rows of our dataframe. The `DataFrame.tail()` method accepts an optional integer parameter to specify the number of rows, defaulting to five.\n",
    "* If we wanted to get an overview of all the dtypes used in our dataframe, along with its shape and some extra information, we could use the [`DataFrame.info()`](http://pandas.pydata.org/pandas-docs/stable/generated/pandas.DataFrame.info.html#pandas.DataFrame.info) method. Note that `DataFrame.info()` prints the information, rather than returning it, so we can't assign it to a variable.\n",
    "\n",
    "Let's practice using these three new methods:"
   ]
  },
  {
   "cell_type": "code",
   "execution_count": 5,
   "metadata": {},
   "outputs": [
    {
     "name": "stdout",
     "output_type": "stream",
     "text": [
      "<class 'pandas.core.frame.DataFrame'>\n",
      "Index: 500 entries, Walmart to AutoNation\n",
      "Data columns (total 16 columns):\n",
      "rank                        500 non-null int64\n",
      "revenues                    500 non-null int64\n",
      "revenue_change              498 non-null float64\n",
      "profits                     499 non-null float64\n",
      "assets                      500 non-null int64\n",
      "profit_change               436 non-null float64\n",
      "ceo                         500 non-null object\n",
      "industry                    500 non-null object\n",
      "sector                      500 non-null object\n",
      "previous_rank               500 non-null int64\n",
      "country                     500 non-null object\n",
      "hq_location                 500 non-null object\n",
      "website                     500 non-null object\n",
      "years_on_global_500_list    500 non-null int64\n",
      "employees                   500 non-null int64\n",
      "total_stockholder_equity    500 non-null int64\n",
      "dtypes: float64(3), int64(7), object(6)\n",
      "memory usage: 66.4+ KB\n"
     ]
    }
   ],
   "source": [
    "f500_head = f500.head(6)\n",
    "f500_tail = f500.tail(8)\n",
    "f500.info()"
   ]
  },
  {
   "cell_type": "code",
   "execution_count": 6,
   "metadata": {},
   "outputs": [
    {
     "data": {
      "text/html": [
       "<div>\n",
       "<style scoped>\n",
       "    .dataframe tbody tr th:only-of-type {\n",
       "        vertical-align: middle;\n",
       "    }\n",
       "\n",
       "    .dataframe tbody tr th {\n",
       "        vertical-align: top;\n",
       "    }\n",
       "\n",
       "    .dataframe thead th {\n",
       "        text-align: right;\n",
       "    }\n",
       "</style>\n",
       "<table border=\"1\" class=\"dataframe\">\n",
       "  <thead>\n",
       "    <tr style=\"text-align: right;\">\n",
       "      <th></th>\n",
       "      <th>rank</th>\n",
       "      <th>revenues</th>\n",
       "      <th>revenue_change</th>\n",
       "      <th>profits</th>\n",
       "      <th>assets</th>\n",
       "      <th>profit_change</th>\n",
       "      <th>ceo</th>\n",
       "      <th>industry</th>\n",
       "      <th>sector</th>\n",
       "      <th>previous_rank</th>\n",
       "      <th>country</th>\n",
       "      <th>hq_location</th>\n",
       "      <th>website</th>\n",
       "      <th>years_on_global_500_list</th>\n",
       "      <th>employees</th>\n",
       "      <th>total_stockholder_equity</th>\n",
       "    </tr>\n",
       "  </thead>\n",
       "  <tbody>\n",
       "    <tr>\n",
       "      <th>Walmart</th>\n",
       "      <td>1</td>\n",
       "      <td>485873</td>\n",
       "      <td>0.8</td>\n",
       "      <td>13643.0</td>\n",
       "      <td>198825</td>\n",
       "      <td>-7.2</td>\n",
       "      <td>C. Douglas McMillon</td>\n",
       "      <td>General Merchandisers</td>\n",
       "      <td>Retailing</td>\n",
       "      <td>1</td>\n",
       "      <td>USA</td>\n",
       "      <td>Bentonville, AR</td>\n",
       "      <td>http://www.walmart.com</td>\n",
       "      <td>23</td>\n",
       "      <td>2300000</td>\n",
       "      <td>77798</td>\n",
       "    </tr>\n",
       "    <tr>\n",
       "      <th>State Grid</th>\n",
       "      <td>2</td>\n",
       "      <td>315199</td>\n",
       "      <td>-4.4</td>\n",
       "      <td>9571.3</td>\n",
       "      <td>489838</td>\n",
       "      <td>-6.2</td>\n",
       "      <td>Kou Wei</td>\n",
       "      <td>Utilities</td>\n",
       "      <td>Energy</td>\n",
       "      <td>2</td>\n",
       "      <td>China</td>\n",
       "      <td>Beijing, China</td>\n",
       "      <td>http://www.sgcc.com.cn</td>\n",
       "      <td>17</td>\n",
       "      <td>926067</td>\n",
       "      <td>209456</td>\n",
       "    </tr>\n",
       "    <tr>\n",
       "      <th>Sinopec Group</th>\n",
       "      <td>3</td>\n",
       "      <td>267518</td>\n",
       "      <td>-9.1</td>\n",
       "      <td>1257.9</td>\n",
       "      <td>310726</td>\n",
       "      <td>-65.0</td>\n",
       "      <td>Wang Yupu</td>\n",
       "      <td>Petroleum Refining</td>\n",
       "      <td>Energy</td>\n",
       "      <td>4</td>\n",
       "      <td>China</td>\n",
       "      <td>Beijing, China</td>\n",
       "      <td>http://www.sinopec.com</td>\n",
       "      <td>19</td>\n",
       "      <td>713288</td>\n",
       "      <td>106523</td>\n",
       "    </tr>\n",
       "    <tr>\n",
       "      <th>China National Petroleum</th>\n",
       "      <td>4</td>\n",
       "      <td>262573</td>\n",
       "      <td>-12.3</td>\n",
       "      <td>1867.5</td>\n",
       "      <td>585619</td>\n",
       "      <td>-73.7</td>\n",
       "      <td>Zhang Jianhua</td>\n",
       "      <td>Petroleum Refining</td>\n",
       "      <td>Energy</td>\n",
       "      <td>3</td>\n",
       "      <td>China</td>\n",
       "      <td>Beijing, China</td>\n",
       "      <td>http://www.cnpc.com.cn</td>\n",
       "      <td>17</td>\n",
       "      <td>1512048</td>\n",
       "      <td>301893</td>\n",
       "    </tr>\n",
       "    <tr>\n",
       "      <th>Toyota Motor</th>\n",
       "      <td>5</td>\n",
       "      <td>254694</td>\n",
       "      <td>7.7</td>\n",
       "      <td>16899.3</td>\n",
       "      <td>437575</td>\n",
       "      <td>-12.3</td>\n",
       "      <td>Akio Toyoda</td>\n",
       "      <td>Motor Vehicles and Parts</td>\n",
       "      <td>Motor Vehicles &amp; Parts</td>\n",
       "      <td>8</td>\n",
       "      <td>Japan</td>\n",
       "      <td>Toyota, Japan</td>\n",
       "      <td>http://www.toyota-global.com</td>\n",
       "      <td>23</td>\n",
       "      <td>364445</td>\n",
       "      <td>157210</td>\n",
       "    </tr>\n",
       "    <tr>\n",
       "      <th>Volkswagen</th>\n",
       "      <td>6</td>\n",
       "      <td>240264</td>\n",
       "      <td>1.5</td>\n",
       "      <td>5937.3</td>\n",
       "      <td>432116</td>\n",
       "      <td>NaN</td>\n",
       "      <td>Matthias Muller</td>\n",
       "      <td>Motor Vehicles and Parts</td>\n",
       "      <td>Motor Vehicles &amp; Parts</td>\n",
       "      <td>7</td>\n",
       "      <td>Germany</td>\n",
       "      <td>Wolfsburg, Germany</td>\n",
       "      <td>http://www.volkswagen.com</td>\n",
       "      <td>23</td>\n",
       "      <td>626715</td>\n",
       "      <td>97753</td>\n",
       "    </tr>\n",
       "  </tbody>\n",
       "</table>\n",
       "</div>"
      ],
      "text/plain": [
       "                          rank  revenues  revenue_change  profits  assets  \\\n",
       "Walmart                      1    485873             0.8  13643.0  198825   \n",
       "State Grid                   2    315199            -4.4   9571.3  489838   \n",
       "Sinopec Group                3    267518            -9.1   1257.9  310726   \n",
       "China National Petroleum     4    262573           -12.3   1867.5  585619   \n",
       "Toyota Motor                 5    254694             7.7  16899.3  437575   \n",
       "Volkswagen                   6    240264             1.5   5937.3  432116   \n",
       "\n",
       "                          profit_change                  ceo  \\\n",
       "Walmart                            -7.2  C. Douglas McMillon   \n",
       "State Grid                         -6.2              Kou Wei   \n",
       "Sinopec Group                     -65.0            Wang Yupu   \n",
       "China National Petroleum          -73.7        Zhang Jianhua   \n",
       "Toyota Motor                      -12.3          Akio Toyoda   \n",
       "Volkswagen                          NaN      Matthias Muller   \n",
       "\n",
       "                                          industry                  sector  \\\n",
       "Walmart                      General Merchandisers               Retailing   \n",
       "State Grid                               Utilities                  Energy   \n",
       "Sinopec Group                   Petroleum Refining                  Energy   \n",
       "China National Petroleum        Petroleum Refining                  Energy   \n",
       "Toyota Motor              Motor Vehicles and Parts  Motor Vehicles & Parts   \n",
       "Volkswagen                Motor Vehicles and Parts  Motor Vehicles & Parts   \n",
       "\n",
       "                          previous_rank  country         hq_location  \\\n",
       "Walmart                               1      USA     Bentonville, AR   \n",
       "State Grid                            2    China      Beijing, China   \n",
       "Sinopec Group                         4    China      Beijing, China   \n",
       "China National Petroleum              3    China      Beijing, China   \n",
       "Toyota Motor                          8    Japan       Toyota, Japan   \n",
       "Volkswagen                            7  Germany  Wolfsburg, Germany   \n",
       "\n",
       "                                               website  \\\n",
       "Walmart                         http://www.walmart.com   \n",
       "State Grid                      http://www.sgcc.com.cn   \n",
       "Sinopec Group                   http://www.sinopec.com   \n",
       "China National Petroleum        http://www.cnpc.com.cn   \n",
       "Toyota Motor              http://www.toyota-global.com   \n",
       "Volkswagen                   http://www.volkswagen.com   \n",
       "\n",
       "                          years_on_global_500_list  employees  \\\n",
       "Walmart                                         23    2300000   \n",
       "State Grid                                      17     926067   \n",
       "Sinopec Group                                   19     713288   \n",
       "China National Petroleum                        17    1512048   \n",
       "Toyota Motor                                    23     364445   \n",
       "Volkswagen                                      23     626715   \n",
       "\n",
       "                          total_stockholder_equity  \n",
       "Walmart                                      77798  \n",
       "State Grid                                  209456  \n",
       "Sinopec Group                               106523  \n",
       "China National Petroleum                    301893  \n",
       "Toyota Motor                                157210  \n",
       "Volkswagen                                   97753  "
      ]
     },
     "execution_count": 6,
     "metadata": {},
     "output_type": "execute_result"
    }
   ],
   "source": [
    "f500_head"
   ]
  },
  {
   "cell_type": "code",
   "execution_count": 7,
   "metadata": {},
   "outputs": [
    {
     "data": {
      "text/html": [
       "<div>\n",
       "<style scoped>\n",
       "    .dataframe tbody tr th:only-of-type {\n",
       "        vertical-align: middle;\n",
       "    }\n",
       "\n",
       "    .dataframe tbody tr th {\n",
       "        vertical-align: top;\n",
       "    }\n",
       "\n",
       "    .dataframe thead th {\n",
       "        text-align: right;\n",
       "    }\n",
       "</style>\n",
       "<table border=\"1\" class=\"dataframe\">\n",
       "  <thead>\n",
       "    <tr style=\"text-align: right;\">\n",
       "      <th></th>\n",
       "      <th>rank</th>\n",
       "      <th>revenues</th>\n",
       "      <th>revenue_change</th>\n",
       "      <th>profits</th>\n",
       "      <th>assets</th>\n",
       "      <th>profit_change</th>\n",
       "      <th>ceo</th>\n",
       "      <th>industry</th>\n",
       "      <th>sector</th>\n",
       "      <th>previous_rank</th>\n",
       "      <th>country</th>\n",
       "      <th>hq_location</th>\n",
       "      <th>website</th>\n",
       "      <th>years_on_global_500_list</th>\n",
       "      <th>employees</th>\n",
       "      <th>total_stockholder_equity</th>\n",
       "    </tr>\n",
       "  </thead>\n",
       "  <tbody>\n",
       "    <tr>\n",
       "      <th>Telecom Italia</th>\n",
       "      <td>493</td>\n",
       "      <td>21941</td>\n",
       "      <td>-17.4</td>\n",
       "      <td>1999.4</td>\n",
       "      <td>74295</td>\n",
       "      <td>NaN</td>\n",
       "      <td>Flavio Cattaneo</td>\n",
       "      <td>Telecommunications</td>\n",
       "      <td>Telecommunications</td>\n",
       "      <td>404</td>\n",
       "      <td>Italy</td>\n",
       "      <td>Milan, Italy</td>\n",
       "      <td>http://www.telecomitalia.com</td>\n",
       "      <td>18</td>\n",
       "      <td>61227</td>\n",
       "      <td>22366</td>\n",
       "    </tr>\n",
       "    <tr>\n",
       "      <th>Xiamen ITG Holding Group</th>\n",
       "      <td>494</td>\n",
       "      <td>21930</td>\n",
       "      <td>34.3</td>\n",
       "      <td>35.6</td>\n",
       "      <td>12161</td>\n",
       "      <td>-25.1</td>\n",
       "      <td>Xu Xiaoxi</td>\n",
       "      <td>Trading</td>\n",
       "      <td>Wholesalers</td>\n",
       "      <td>0</td>\n",
       "      <td>China</td>\n",
       "      <td>Xiamen, China</td>\n",
       "      <td>http://www.itgholding.com.cn</td>\n",
       "      <td>1</td>\n",
       "      <td>18454</td>\n",
       "      <td>1066</td>\n",
       "    </tr>\n",
       "    <tr>\n",
       "      <th>Xinjiang Guanghui Industry Investment</th>\n",
       "      <td>495</td>\n",
       "      <td>21919</td>\n",
       "      <td>31.1</td>\n",
       "      <td>251.8</td>\n",
       "      <td>31957</td>\n",
       "      <td>49.9</td>\n",
       "      <td>Shang Jiqiang</td>\n",
       "      <td>Trading</td>\n",
       "      <td>Wholesalers</td>\n",
       "      <td>0</td>\n",
       "      <td>China</td>\n",
       "      <td>Urumqi, China</td>\n",
       "      <td>http://www.guanghui.com</td>\n",
       "      <td>1</td>\n",
       "      <td>65616</td>\n",
       "      <td>4563</td>\n",
       "    </tr>\n",
       "    <tr>\n",
       "      <th>Teva Pharmaceutical Industries</th>\n",
       "      <td>496</td>\n",
       "      <td>21903</td>\n",
       "      <td>11.5</td>\n",
       "      <td>329.0</td>\n",
       "      <td>92890</td>\n",
       "      <td>-79.3</td>\n",
       "      <td>Yitzhak Peterburg</td>\n",
       "      <td>Pharmaceuticals</td>\n",
       "      <td>Health Care</td>\n",
       "      <td>0</td>\n",
       "      <td>Israel</td>\n",
       "      <td>Petach Tikva, Israel</td>\n",
       "      <td>http://www.tevapharm.com</td>\n",
       "      <td>1</td>\n",
       "      <td>56960</td>\n",
       "      <td>33337</td>\n",
       "    </tr>\n",
       "    <tr>\n",
       "      <th>New China Life Insurance</th>\n",
       "      <td>497</td>\n",
       "      <td>21796</td>\n",
       "      <td>-13.3</td>\n",
       "      <td>743.9</td>\n",
       "      <td>100609</td>\n",
       "      <td>-45.6</td>\n",
       "      <td>Wan Feng</td>\n",
       "      <td>Insurance: Life, Health (stock)</td>\n",
       "      <td>Financials</td>\n",
       "      <td>427</td>\n",
       "      <td>China</td>\n",
       "      <td>Beijing, China</td>\n",
       "      <td>http://www.newchinalife.com</td>\n",
       "      <td>2</td>\n",
       "      <td>54378</td>\n",
       "      <td>8507</td>\n",
       "    </tr>\n",
       "    <tr>\n",
       "      <th>Wm. Morrison Supermarkets</th>\n",
       "      <td>498</td>\n",
       "      <td>21741</td>\n",
       "      <td>-11.3</td>\n",
       "      <td>406.4</td>\n",
       "      <td>11630</td>\n",
       "      <td>20.4</td>\n",
       "      <td>David T. Potts</td>\n",
       "      <td>Food and Drug Stores</td>\n",
       "      <td>Food &amp; Drug Stores</td>\n",
       "      <td>437</td>\n",
       "      <td>Britain</td>\n",
       "      <td>Bradford, Britain</td>\n",
       "      <td>http://www.morrisons.com</td>\n",
       "      <td>13</td>\n",
       "      <td>77210</td>\n",
       "      <td>5111</td>\n",
       "    </tr>\n",
       "    <tr>\n",
       "      <th>TUI</th>\n",
       "      <td>499</td>\n",
       "      <td>21655</td>\n",
       "      <td>-5.5</td>\n",
       "      <td>1151.7</td>\n",
       "      <td>16247</td>\n",
       "      <td>195.5</td>\n",
       "      <td>Friedrich Joussen</td>\n",
       "      <td>Travel Services</td>\n",
       "      <td>Business Services</td>\n",
       "      <td>467</td>\n",
       "      <td>Germany</td>\n",
       "      <td>Hanover, Germany</td>\n",
       "      <td>http://www.tuigroup.com</td>\n",
       "      <td>23</td>\n",
       "      <td>66779</td>\n",
       "      <td>3006</td>\n",
       "    </tr>\n",
       "    <tr>\n",
       "      <th>AutoNation</th>\n",
       "      <td>500</td>\n",
       "      <td>21609</td>\n",
       "      <td>3.6</td>\n",
       "      <td>430.5</td>\n",
       "      <td>10060</td>\n",
       "      <td>-2.7</td>\n",
       "      <td>Michael J. Jackson</td>\n",
       "      <td>Specialty Retailers</td>\n",
       "      <td>Retailing</td>\n",
       "      <td>0</td>\n",
       "      <td>USA</td>\n",
       "      <td>Fort Lauderdale, FL</td>\n",
       "      <td>http://www.autonation.com</td>\n",
       "      <td>12</td>\n",
       "      <td>26000</td>\n",
       "      <td>2310</td>\n",
       "    </tr>\n",
       "  </tbody>\n",
       "</table>\n",
       "</div>"
      ],
      "text/plain": [
       "                                       rank  revenues  revenue_change  \\\n",
       "Telecom Italia                          493     21941           -17.4   \n",
       "Xiamen ITG Holding Group                494     21930            34.3   \n",
       "Xinjiang Guanghui Industry Investment   495     21919            31.1   \n",
       "Teva Pharmaceutical Industries          496     21903            11.5   \n",
       "New China Life Insurance                497     21796           -13.3   \n",
       "Wm. Morrison Supermarkets               498     21741           -11.3   \n",
       "TUI                                     499     21655            -5.5   \n",
       "AutoNation                              500     21609             3.6   \n",
       "\n",
       "                                       profits  assets  profit_change  \\\n",
       "Telecom Italia                          1999.4   74295            NaN   \n",
       "Xiamen ITG Holding Group                  35.6   12161          -25.1   \n",
       "Xinjiang Guanghui Industry Investment    251.8   31957           49.9   \n",
       "Teva Pharmaceutical Industries           329.0   92890          -79.3   \n",
       "New China Life Insurance                 743.9  100609          -45.6   \n",
       "Wm. Morrison Supermarkets                406.4   11630           20.4   \n",
       "TUI                                     1151.7   16247          195.5   \n",
       "AutoNation                               430.5   10060           -2.7   \n",
       "\n",
       "                                                      ceo  \\\n",
       "Telecom Italia                            Flavio Cattaneo   \n",
       "Xiamen ITG Holding Group                        Xu Xiaoxi   \n",
       "Xinjiang Guanghui Industry Investment       Shang Jiqiang   \n",
       "Teva Pharmaceutical Industries          Yitzhak Peterburg   \n",
       "New China Life Insurance                         Wan Feng   \n",
       "Wm. Morrison Supermarkets                  David T. Potts   \n",
       "TUI                                     Friedrich Joussen   \n",
       "AutoNation                             Michael J. Jackson   \n",
       "\n",
       "                                                              industry  \\\n",
       "Telecom Italia                                      Telecommunications   \n",
       "Xiamen ITG Holding Group                                       Trading   \n",
       "Xinjiang Guanghui Industry Investment                          Trading   \n",
       "Teva Pharmaceutical Industries                         Pharmaceuticals   \n",
       "New China Life Insurance               Insurance: Life, Health (stock)   \n",
       "Wm. Morrison Supermarkets                         Food and Drug Stores   \n",
       "TUI                                                    Travel Services   \n",
       "AutoNation                                         Specialty Retailers   \n",
       "\n",
       "                                                   sector  previous_rank  \\\n",
       "Telecom Italia                         Telecommunications            404   \n",
       "Xiamen ITG Holding Group                      Wholesalers              0   \n",
       "Xinjiang Guanghui Industry Investment         Wholesalers              0   \n",
       "Teva Pharmaceutical Industries                Health Care              0   \n",
       "New China Life Insurance                       Financials            427   \n",
       "Wm. Morrison Supermarkets              Food & Drug Stores            437   \n",
       "TUI                                     Business Services            467   \n",
       "AutoNation                                      Retailing              0   \n",
       "\n",
       "                                       country           hq_location  \\\n",
       "Telecom Italia                           Italy          Milan, Italy   \n",
       "Xiamen ITG Holding Group                 China         Xiamen, China   \n",
       "Xinjiang Guanghui Industry Investment    China         Urumqi, China   \n",
       "Teva Pharmaceutical Industries          Israel  Petach Tikva, Israel   \n",
       "New China Life Insurance                 China        Beijing, China   \n",
       "Wm. Morrison Supermarkets              Britain     Bradford, Britain   \n",
       "TUI                                    Germany      Hanover, Germany   \n",
       "AutoNation                                 USA   Fort Lauderdale, FL   \n",
       "\n",
       "                                                            website  \\\n",
       "Telecom Italia                         http://www.telecomitalia.com   \n",
       "Xiamen ITG Holding Group               http://www.itgholding.com.cn   \n",
       "Xinjiang Guanghui Industry Investment       http://www.guanghui.com   \n",
       "Teva Pharmaceutical Industries             http://www.tevapharm.com   \n",
       "New China Life Insurance                http://www.newchinalife.com   \n",
       "Wm. Morrison Supermarkets                  http://www.morrisons.com   \n",
       "TUI                                         http://www.tuigroup.com   \n",
       "AutoNation                                http://www.autonation.com   \n",
       "\n",
       "                                       years_on_global_500_list  employees  \\\n",
       "Telecom Italia                                               18      61227   \n",
       "Xiamen ITG Holding Group                                      1      18454   \n",
       "Xinjiang Guanghui Industry Investment                         1      65616   \n",
       "Teva Pharmaceutical Industries                                1      56960   \n",
       "New China Life Insurance                                      2      54378   \n",
       "Wm. Morrison Supermarkets                                    13      77210   \n",
       "TUI                                                          23      66779   \n",
       "AutoNation                                                   12      26000   \n",
       "\n",
       "                                       total_stockholder_equity  \n",
       "Telecom Italia                                            22366  \n",
       "Xiamen ITG Holding Group                                   1066  \n",
       "Xinjiang Guanghui Industry Investment                      4563  \n",
       "Teva Pharmaceutical Industries                            33337  \n",
       "New China Life Insurance                                   8507  \n",
       "Wm. Morrison Supermarkets                                  5111  \n",
       "TUI                                                        3006  \n",
       "AutoNation                                                 2310  "
      ]
     },
     "execution_count": 7,
     "metadata": {},
     "output_type": "execute_result"
    }
   ],
   "source": [
    "f500_tail"
   ]
  },
  {
   "cell_type": "markdown",
   "metadata": {},
   "source": [
    "Because our axes in pandas have labels, we can select data using those labels, unlike in NumPy where we needed to know the exact index location. To do this, we use the [`DataFrame.loc[]`](http://pandas.pydata.org/pandas-docs/stable/generated/pandas.DataFrame.loc.html#pandas.DataFrame.loc) method.\n",
    "\n",
    "The syntax for the `DataFrame.loc[]` method is:\n",
    "\n",
    "```python\n",
    "df.loc[row, column]\n",
    "```\n",
    "\n",
    "Where row and column refer to row and column labels respectively, and can be one of:\n",
    "\n",
    "* A single label\n",
    "* A list or array of labels\n",
    "* A slice object with labels\n",
    "* A boolean array\n",
    "\n",
    "Here's an example of using this method:"
   ]
  },
  {
   "cell_type": "code",
   "execution_count": 8,
   "metadata": {},
   "outputs": [],
   "source": [
    "industries = f500.loc[:,\"industry\"]\n",
    "previous = f500.loc[:,[\"rank\",\"previous_rank\",\"years_on_global_500_list\"]]\n",
    "financial_data = f500.loc[:,\"revenues\":\"profit_change\"]"
   ]
  },
  {
   "cell_type": "code",
   "execution_count": 9,
   "metadata": {},
   "outputs": [
    {
     "data": {
      "text/plain": [
       "Walmart                        General Merchandisers\n",
       "State Grid                                 Utilities\n",
       "Sinopec Group                     Petroleum Refining\n",
       "China National Petroleum          Petroleum Refining\n",
       "Toyota Motor                Motor Vehicles and Parts\n",
       "Name: industry, dtype: object"
      ]
     },
     "execution_count": 9,
     "metadata": {},
     "output_type": "execute_result"
    }
   ],
   "source": [
    "industries.head()"
   ]
  },
  {
   "cell_type": "code",
   "execution_count": 10,
   "metadata": {},
   "outputs": [
    {
     "data": {
      "text/html": [
       "<div>\n",
       "<style scoped>\n",
       "    .dataframe tbody tr th:only-of-type {\n",
       "        vertical-align: middle;\n",
       "    }\n",
       "\n",
       "    .dataframe tbody tr th {\n",
       "        vertical-align: top;\n",
       "    }\n",
       "\n",
       "    .dataframe thead th {\n",
       "        text-align: right;\n",
       "    }\n",
       "</style>\n",
       "<table border=\"1\" class=\"dataframe\">\n",
       "  <thead>\n",
       "    <tr style=\"text-align: right;\">\n",
       "      <th></th>\n",
       "      <th>rank</th>\n",
       "      <th>previous_rank</th>\n",
       "      <th>years_on_global_500_list</th>\n",
       "    </tr>\n",
       "  </thead>\n",
       "  <tbody>\n",
       "    <tr>\n",
       "      <th>Walmart</th>\n",
       "      <td>1</td>\n",
       "      <td>1</td>\n",
       "      <td>23</td>\n",
       "    </tr>\n",
       "    <tr>\n",
       "      <th>State Grid</th>\n",
       "      <td>2</td>\n",
       "      <td>2</td>\n",
       "      <td>17</td>\n",
       "    </tr>\n",
       "    <tr>\n",
       "      <th>Sinopec Group</th>\n",
       "      <td>3</td>\n",
       "      <td>4</td>\n",
       "      <td>19</td>\n",
       "    </tr>\n",
       "    <tr>\n",
       "      <th>China National Petroleum</th>\n",
       "      <td>4</td>\n",
       "      <td>3</td>\n",
       "      <td>17</td>\n",
       "    </tr>\n",
       "    <tr>\n",
       "      <th>Toyota Motor</th>\n",
       "      <td>5</td>\n",
       "      <td>8</td>\n",
       "      <td>23</td>\n",
       "    </tr>\n",
       "  </tbody>\n",
       "</table>\n",
       "</div>"
      ],
      "text/plain": [
       "                          rank  previous_rank  years_on_global_500_list\n",
       "Walmart                      1              1                        23\n",
       "State Grid                   2              2                        17\n",
       "Sinopec Group                3              4                        19\n",
       "China National Petroleum     4              3                        17\n",
       "Toyota Motor                 5              8                        23"
      ]
     },
     "execution_count": 10,
     "metadata": {},
     "output_type": "execute_result"
    }
   ],
   "source": [
    "previous.head()"
   ]
  },
  {
   "cell_type": "code",
   "execution_count": 11,
   "metadata": {},
   "outputs": [
    {
     "data": {
      "text/html": [
       "<div>\n",
       "<style scoped>\n",
       "    .dataframe tbody tr th:only-of-type {\n",
       "        vertical-align: middle;\n",
       "    }\n",
       "\n",
       "    .dataframe tbody tr th {\n",
       "        vertical-align: top;\n",
       "    }\n",
       "\n",
       "    .dataframe thead th {\n",
       "        text-align: right;\n",
       "    }\n",
       "</style>\n",
       "<table border=\"1\" class=\"dataframe\">\n",
       "  <thead>\n",
       "    <tr style=\"text-align: right;\">\n",
       "      <th></th>\n",
       "      <th>revenues</th>\n",
       "      <th>revenue_change</th>\n",
       "      <th>profits</th>\n",
       "      <th>assets</th>\n",
       "      <th>profit_change</th>\n",
       "    </tr>\n",
       "  </thead>\n",
       "  <tbody>\n",
       "    <tr>\n",
       "      <th>Walmart</th>\n",
       "      <td>485873</td>\n",
       "      <td>0.8</td>\n",
       "      <td>13643.0</td>\n",
       "      <td>198825</td>\n",
       "      <td>-7.2</td>\n",
       "    </tr>\n",
       "    <tr>\n",
       "      <th>State Grid</th>\n",
       "      <td>315199</td>\n",
       "      <td>-4.4</td>\n",
       "      <td>9571.3</td>\n",
       "      <td>489838</td>\n",
       "      <td>-6.2</td>\n",
       "    </tr>\n",
       "    <tr>\n",
       "      <th>Sinopec Group</th>\n",
       "      <td>267518</td>\n",
       "      <td>-9.1</td>\n",
       "      <td>1257.9</td>\n",
       "      <td>310726</td>\n",
       "      <td>-65.0</td>\n",
       "    </tr>\n",
       "    <tr>\n",
       "      <th>China National Petroleum</th>\n",
       "      <td>262573</td>\n",
       "      <td>-12.3</td>\n",
       "      <td>1867.5</td>\n",
       "      <td>585619</td>\n",
       "      <td>-73.7</td>\n",
       "    </tr>\n",
       "    <tr>\n",
       "      <th>Toyota Motor</th>\n",
       "      <td>254694</td>\n",
       "      <td>7.7</td>\n",
       "      <td>16899.3</td>\n",
       "      <td>437575</td>\n",
       "      <td>-12.3</td>\n",
       "    </tr>\n",
       "  </tbody>\n",
       "</table>\n",
       "</div>"
      ],
      "text/plain": [
       "                          revenues  revenue_change  profits  assets  \\\n",
       "Walmart                     485873             0.8  13643.0  198825   \n",
       "State Grid                  315199            -4.4   9571.3  489838   \n",
       "Sinopec Group               267518            -9.1   1257.9  310726   \n",
       "China National Petroleum    262573           -12.3   1867.5  585619   \n",
       "Toyota Motor                254694             7.7  16899.3  437575   \n",
       "\n",
       "                          profit_change  \n",
       "Walmart                            -7.2  \n",
       "State Grid                         -6.2  \n",
       "Sinopec Group                     -65.0  \n",
       "China National Petroleum          -73.7  \n",
       "Toyota Motor                      -12.3  "
      ]
     },
     "execution_count": 11,
     "metadata": {},
     "output_type": "execute_result"
    }
   ],
   "source": [
    "financial_data.head()"
   ]
  },
  {
   "cell_type": "markdown",
   "metadata": {},
   "source": [
    "Instead of `df.loc[:,\"col1\"]` you can use `df[\"col1\"]` to select columns. This works for single columns and lists of columns but not for column slices.\n",
    "\n",
    "Instead of `df.loc[:,\"col1\"]` you can use `df.col1`. This shortcut does not work for labels that contain spaces or special characters.\n",
    "\n",
    "Here are some examples:"
   ]
  },
  {
   "cell_type": "code",
   "execution_count": 12,
   "metadata": {},
   "outputs": [],
   "source": [
    "countries = f500[\"country\"]\n",
    "revenues_years = f500[[\"revenues\", \"years_on_global_500_list\"]]\n",
    "ceo_to_sector = f500.loc[:,\"ceo\":\"sector\"]"
   ]
  },
  {
   "cell_type": "markdown",
   "metadata": {},
   "source": [
    "**Series** is the pandas type for one-dimensional objects. Anytime you see a 1D pandas object, it will be a series, and anytime you see a 2D pandas object, it will be a dataframe.\n",
    "\n",
    "A dataframe can be seen as being a collection of series objects, which is similar to how pandas stores the data behind the scenes. Single row or single column can be seen as series objects if they contain one dtype. Series objects also contain indeces, so we can use `.loc[]` method as well (though using just square brackets will be more convenient). Here's an example:"
   ]
  },
  {
   "cell_type": "code",
   "execution_count": 13,
   "metadata": {},
   "outputs": [],
   "source": [
    "ceos = f500['ceo']\n",
    "ceos = f500[\"ceo\"]\n",
    "walmart = ceos[\"Walmart\"]\n",
    "apple_to_samsung = ceos[\"Apple\":\"Samsung Electronics\"]\n",
    "oil_companies = ceos[[\"Exxon Mobil\", \"BP\", \"Chevron\"]]"
   ]
  },
  {
   "cell_type": "markdown",
   "metadata": {},
   "source": [
    "Let's see the type of a row and a column from our dataset:"
   ]
  },
  {
   "cell_type": "code",
   "execution_count": 14,
   "metadata": {},
   "outputs": [
    {
     "name": "stdout",
     "output_type": "stream",
     "text": [
      "<class 'pandas.core.series.Series'>\n",
      "<class 'pandas.core.series.Series'>\n",
      "rank                                             1\n",
      "revenues                                    485873\n",
      "revenue_change                                 0.8\n",
      "profits                                      13643\n",
      "assets                                      198825\n",
      "profit_change                                 -7.2\n",
      "ceo                            C. Douglas McMillon\n",
      "industry                     General Merchandisers\n",
      "sector                                   Retailing\n",
      "previous_rank                                    1\n",
      "country                                        USA\n",
      "hq_location                        Bentonville, AR\n",
      "website                     http://www.walmart.com\n",
      "years_on_global_500_list                        23\n",
      "employees                                  2300000\n",
      "total_stockholder_equity                     77798\n",
      "Name: Walmart, dtype: object\n"
     ]
    }
   ],
   "source": [
    "a_row = f500.loc[\"Walmart\"]\n",
    "a_column = f500.loc[:, \"revenues\"]\n",
    "print(type(a_row))\n",
    "print(type(a_column))\n",
    "print(a_row)"
   ]
  },
  {
   "cell_type": "markdown",
   "metadata": {},
   "source": [
    "We can see that `a_row` is a series object and the dtype of `a_row` is `object`, which means that all the items from the row were transformed to string (in order to have only one data type in the whole series object). Let's use all of these methods and try to extract some rows, columns and combinations of them:"
   ]
  },
  {
   "cell_type": "code",
   "execution_count": 15,
   "metadata": {},
   "outputs": [],
   "source": [
    "drink_companies = f500.loc[[\"Anheuser-Busch InBev\", \"Coca-Cola\", \"Heineken Holding\"], :]\n",
    "big_movers = f500.loc[[\"Aviva\", \"HP\", \"JD.com\", \"BHP Billiton\"], [\"rank\", \"previous_rank\"]]\n",
    "middle_companies = f500.loc[\"Tata Motors\":\"Nationwide\", \"rank\":\"country\"]"
   ]
  },
  {
   "cell_type": "markdown",
   "metadata": {},
   "source": [
    "How to quickly analyze a dataset? First of all, we can use [`Series.describe()`](http://pandas.pydata.org/pandas-docs/stable/reference/api/pandas.Series.describe.html) method, which returns some descriptive statistics on the data contained within a specific pandas series. Let's look at an example:"
   ]
  },
  {
   "cell_type": "code",
   "execution_count": 16,
   "metadata": {},
   "outputs": [
    {
     "data": {
      "text/plain": [
       "count       500.000000\n",
       "mean      55416.358000\n",
       "std       45725.478963\n",
       "min       21609.000000\n",
       "25%       29003.000000\n",
       "50%       40236.000000\n",
       "75%       63926.750000\n",
       "max      485873.000000\n",
       "Name: revenues, dtype: float64"
      ]
     },
     "execution_count": 16,
     "metadata": {},
     "output_type": "execute_result"
    }
   ],
   "source": [
    "revs = f500[\"revenues\"]\n",
    "revs.describe()"
   ]
  },
  {
   "cell_type": "markdown",
   "metadata": {},
   "source": [
    "The method tells us how many non-null values are contained in the series, the mean and [standard deviation](https://www.quora.com/What-is-standard-deviation-1), along with the minimum, maximum and [quartile](https://en.wikipedia.org/wiki/Quartile) values.\n",
    "\n",
    "We can also skip variable declaration and just use the `.describe()` method using `.loc[]` (or just square brackets) method:\n",
    "\n",
    "```python\n",
    "f500[\"revenues\"].describe()\n",
    "```"
   ]
  },
  {
   "cell_type": "code",
   "execution_count": 17,
   "metadata": {},
   "outputs": [
    {
     "data": {
      "text/plain": [
       "count    5.000000e+02\n",
       "mean     2.436323e+05\n",
       "std      4.851937e+05\n",
       "min      3.717000e+03\n",
       "25%      3.658850e+04\n",
       "50%      7.326150e+04\n",
       "75%      1.805640e+05\n",
       "max      3.473238e+06\n",
       "Name: assets, dtype: float64"
      ]
     },
     "execution_count": 17,
     "metadata": {},
     "output_type": "execute_result"
    }
   ],
   "source": [
    "f500[\"assets\"].describe()"
   ]
  },
  {
   "cell_type": "markdown",
   "metadata": {},
   "source": [
    "Because the values for this column are too long to display neatly, pandas has displayed them in **E-notation**, a type of scientific notation. \n",
    "\n",
    "Basically, in `N.nnnnnne+PP`:\n",
    "\n",
    "* `N` means *integer*\n",
    "* `n` means *decimal*\n",
    "* `e` means *ten*\n",
    "* `+PP` means the *power* of ten\n",
    "\n",
    "So `2.436323e+05` is the same as `2.436323 * 10 ** 5`."
   ]
  },
  {
   "cell_type": "markdown",
   "metadata": {},
   "source": [
    "We can use `.describe()` method on a series object with strings, the result will be different:"
   ]
  },
  {
   "cell_type": "code",
   "execution_count": 18,
   "metadata": {},
   "outputs": [
    {
     "data": {
      "text/plain": [
       "count     500\n",
       "unique     34\n",
       "top       USA\n",
       "freq      132\n",
       "Name: country, dtype: object"
      ]
     },
     "execution_count": 18,
     "metadata": {},
     "output_type": "execute_result"
    }
   ],
   "source": [
    "f500[\"country\"].describe()"
   ]
  },
  {
   "cell_type": "markdown",
   "metadata": {},
   "source": [
    "DataFrame objects also have a [DataFrame.describe()](http://pandas.pydata.org/pandas-docs/stable/reference/api/pandas.DataFrame.describe.html) method that returns these same statistics for every column. One difference is that you need to specify manually if you want to see the statistics for the non-numeric columns. By default, `DataFrame.describe()` will return statistics for only numeric columns. If we wanted to get just the object columns, we need to use the `include=['O']` parameter when using the dataframe version of describe:"
   ]
  },
  {
   "cell_type": "code",
   "execution_count": 19,
   "metadata": {},
   "outputs": [
    {
     "data": {
      "text/html": [
       "<div>\n",
       "<style scoped>\n",
       "    .dataframe tbody tr th:only-of-type {\n",
       "        vertical-align: middle;\n",
       "    }\n",
       "\n",
       "    .dataframe tbody tr th {\n",
       "        vertical-align: top;\n",
       "    }\n",
       "\n",
       "    .dataframe thead th {\n",
       "        text-align: right;\n",
       "    }\n",
       "</style>\n",
       "<table border=\"1\" class=\"dataframe\">\n",
       "  <thead>\n",
       "    <tr style=\"text-align: right;\">\n",
       "      <th></th>\n",
       "      <th>ceo</th>\n",
       "      <th>industry</th>\n",
       "      <th>sector</th>\n",
       "      <th>country</th>\n",
       "      <th>hq_location</th>\n",
       "      <th>website</th>\n",
       "    </tr>\n",
       "  </thead>\n",
       "  <tbody>\n",
       "    <tr>\n",
       "      <th>count</th>\n",
       "      <td>500</td>\n",
       "      <td>500</td>\n",
       "      <td>500</td>\n",
       "      <td>500</td>\n",
       "      <td>500</td>\n",
       "      <td>500</td>\n",
       "    </tr>\n",
       "    <tr>\n",
       "      <th>unique</th>\n",
       "      <td>500</td>\n",
       "      <td>58</td>\n",
       "      <td>21</td>\n",
       "      <td>34</td>\n",
       "      <td>235</td>\n",
       "      <td>500</td>\n",
       "    </tr>\n",
       "    <tr>\n",
       "      <th>top</th>\n",
       "      <td>Gao Hongwei</td>\n",
       "      <td>Banks: Commercial and Savings</td>\n",
       "      <td>Financials</td>\n",
       "      <td>USA</td>\n",
       "      <td>Beijing, China</td>\n",
       "      <td>http://www.lyb.com</td>\n",
       "    </tr>\n",
       "    <tr>\n",
       "      <th>freq</th>\n",
       "      <td>1</td>\n",
       "      <td>51</td>\n",
       "      <td>118</td>\n",
       "      <td>132</td>\n",
       "      <td>56</td>\n",
       "      <td>1</td>\n",
       "    </tr>\n",
       "  </tbody>\n",
       "</table>\n",
       "</div>"
      ],
      "text/plain": [
       "                ceo                       industry      sector country  \\\n",
       "count           500                            500         500     500   \n",
       "unique          500                             58          21      34   \n",
       "top     Gao Hongwei  Banks: Commercial and Savings  Financials     USA   \n",
       "freq              1                             51         118     132   \n",
       "\n",
       "           hq_location             website  \n",
       "count              500                 500  \n",
       "unique             235                 500  \n",
       "top     Beijing, China  http://www.lyb.com  \n",
       "freq                56                   1  "
      ]
     },
     "execution_count": 19,
     "metadata": {},
     "output_type": "execute_result"
    }
   ],
   "source": [
    "f500.describe(include=[\"O\"])"
   ]
  },
  {
   "cell_type": "code",
   "execution_count": 20,
   "metadata": {},
   "outputs": [
    {
     "data": {
      "text/html": [
       "<div>\n",
       "<style scoped>\n",
       "    .dataframe tbody tr th:only-of-type {\n",
       "        vertical-align: middle;\n",
       "    }\n",
       "\n",
       "    .dataframe tbody tr th {\n",
       "        vertical-align: top;\n",
       "    }\n",
       "\n",
       "    .dataframe thead th {\n",
       "        text-align: right;\n",
       "    }\n",
       "</style>\n",
       "<table border=\"1\" class=\"dataframe\">\n",
       "  <thead>\n",
       "    <tr style=\"text-align: right;\">\n",
       "      <th></th>\n",
       "      <th>rank</th>\n",
       "      <th>revenues</th>\n",
       "      <th>revenue_change</th>\n",
       "      <th>profits</th>\n",
       "      <th>assets</th>\n",
       "      <th>profit_change</th>\n",
       "      <th>previous_rank</th>\n",
       "      <th>years_on_global_500_list</th>\n",
       "      <th>employees</th>\n",
       "      <th>total_stockholder_equity</th>\n",
       "    </tr>\n",
       "  </thead>\n",
       "  <tbody>\n",
       "    <tr>\n",
       "      <th>count</th>\n",
       "      <td>500.000000</td>\n",
       "      <td>500.000000</td>\n",
       "      <td>498.000000</td>\n",
       "      <td>499.000000</td>\n",
       "      <td>5.000000e+02</td>\n",
       "      <td>436.000000</td>\n",
       "      <td>500.000000</td>\n",
       "      <td>500.000000</td>\n",
       "      <td>5.000000e+02</td>\n",
       "      <td>500.000000</td>\n",
       "    </tr>\n",
       "    <tr>\n",
       "      <th>mean</th>\n",
       "      <td>250.500000</td>\n",
       "      <td>55416.358000</td>\n",
       "      <td>4.538353</td>\n",
       "      <td>3055.203206</td>\n",
       "      <td>2.436323e+05</td>\n",
       "      <td>24.152752</td>\n",
       "      <td>222.134000</td>\n",
       "      <td>15.036000</td>\n",
       "      <td>1.339983e+05</td>\n",
       "      <td>30628.076000</td>\n",
       "    </tr>\n",
       "    <tr>\n",
       "      <th>std</th>\n",
       "      <td>144.481833</td>\n",
       "      <td>45725.478963</td>\n",
       "      <td>28.549067</td>\n",
       "      <td>5171.981071</td>\n",
       "      <td>4.851937e+05</td>\n",
       "      <td>437.509566</td>\n",
       "      <td>146.941961</td>\n",
       "      <td>7.932752</td>\n",
       "      <td>1.700878e+05</td>\n",
       "      <td>43642.576833</td>\n",
       "    </tr>\n",
       "    <tr>\n",
       "      <th>min</th>\n",
       "      <td>1.000000</td>\n",
       "      <td>21609.000000</td>\n",
       "      <td>-67.300000</td>\n",
       "      <td>-13038.000000</td>\n",
       "      <td>3.717000e+03</td>\n",
       "      <td>-793.700000</td>\n",
       "      <td>0.000000</td>\n",
       "      <td>1.000000</td>\n",
       "      <td>3.280000e+02</td>\n",
       "      <td>-59909.000000</td>\n",
       "    </tr>\n",
       "    <tr>\n",
       "      <th>25%</th>\n",
       "      <td>125.750000</td>\n",
       "      <td>29003.000000</td>\n",
       "      <td>-5.900000</td>\n",
       "      <td>556.950000</td>\n",
       "      <td>3.658850e+04</td>\n",
       "      <td>-22.775000</td>\n",
       "      <td>92.750000</td>\n",
       "      <td>7.000000</td>\n",
       "      <td>4.293250e+04</td>\n",
       "      <td>7553.750000</td>\n",
       "    </tr>\n",
       "    <tr>\n",
       "      <th>50%</th>\n",
       "      <td>250.500000</td>\n",
       "      <td>40236.000000</td>\n",
       "      <td>0.550000</td>\n",
       "      <td>1761.600000</td>\n",
       "      <td>7.326150e+04</td>\n",
       "      <td>-0.350000</td>\n",
       "      <td>219.500000</td>\n",
       "      <td>17.000000</td>\n",
       "      <td>9.291050e+04</td>\n",
       "      <td>15809.500000</td>\n",
       "    </tr>\n",
       "    <tr>\n",
       "      <th>75%</th>\n",
       "      <td>375.250000</td>\n",
       "      <td>63926.750000</td>\n",
       "      <td>6.975000</td>\n",
       "      <td>3954.000000</td>\n",
       "      <td>1.805640e+05</td>\n",
       "      <td>17.700000</td>\n",
       "      <td>347.250000</td>\n",
       "      <td>23.000000</td>\n",
       "      <td>1.689172e+05</td>\n",
       "      <td>37828.500000</td>\n",
       "    </tr>\n",
       "    <tr>\n",
       "      <th>max</th>\n",
       "      <td>500.000000</td>\n",
       "      <td>485873.000000</td>\n",
       "      <td>442.300000</td>\n",
       "      <td>45687.000000</td>\n",
       "      <td>3.473238e+06</td>\n",
       "      <td>8909.500000</td>\n",
       "      <td>500.000000</td>\n",
       "      <td>23.000000</td>\n",
       "      <td>2.300000e+06</td>\n",
       "      <td>301893.000000</td>\n",
       "    </tr>\n",
       "  </tbody>\n",
       "</table>\n",
       "</div>"
      ],
      "text/plain": [
       "             rank       revenues  revenue_change       profits        assets  \\\n",
       "count  500.000000     500.000000      498.000000    499.000000  5.000000e+02   \n",
       "mean   250.500000   55416.358000        4.538353   3055.203206  2.436323e+05   \n",
       "std    144.481833   45725.478963       28.549067   5171.981071  4.851937e+05   \n",
       "min      1.000000   21609.000000      -67.300000 -13038.000000  3.717000e+03   \n",
       "25%    125.750000   29003.000000       -5.900000    556.950000  3.658850e+04   \n",
       "50%    250.500000   40236.000000        0.550000   1761.600000  7.326150e+04   \n",
       "75%    375.250000   63926.750000        6.975000   3954.000000  1.805640e+05   \n",
       "max    500.000000  485873.000000      442.300000  45687.000000  3.473238e+06   \n",
       "\n",
       "       profit_change  previous_rank  years_on_global_500_list     employees  \\\n",
       "count     436.000000     500.000000                500.000000  5.000000e+02   \n",
       "mean       24.152752     222.134000                 15.036000  1.339983e+05   \n",
       "std       437.509566     146.941961                  7.932752  1.700878e+05   \n",
       "min      -793.700000       0.000000                  1.000000  3.280000e+02   \n",
       "25%       -22.775000      92.750000                  7.000000  4.293250e+04   \n",
       "50%        -0.350000     219.500000                 17.000000  9.291050e+04   \n",
       "75%        17.700000     347.250000                 23.000000  1.689172e+05   \n",
       "max      8909.500000     500.000000                 23.000000  2.300000e+06   \n",
       "\n",
       "       total_stockholder_equity  \n",
       "count                500.000000  \n",
       "mean               30628.076000  \n",
       "std                43642.576833  \n",
       "min               -59909.000000  \n",
       "25%                 7553.750000  \n",
       "50%                15809.500000  \n",
       "75%                37828.500000  \n",
       "max               301893.000000  "
      ]
     },
     "execution_count": 20,
     "metadata": {},
     "output_type": "execute_result"
    }
   ],
   "source": [
    "f500.describe()"
   ]
  },
  {
   "cell_type": "code",
   "execution_count": 21,
   "metadata": {},
   "outputs": [
    {
     "data": {
      "text/html": [
       "<div>\n",
       "<style scoped>\n",
       "    .dataframe tbody tr th:only-of-type {\n",
       "        vertical-align: middle;\n",
       "    }\n",
       "\n",
       "    .dataframe tbody tr th {\n",
       "        vertical-align: top;\n",
       "    }\n",
       "\n",
       "    .dataframe thead th {\n",
       "        text-align: right;\n",
       "    }\n",
       "</style>\n",
       "<table border=\"1\" class=\"dataframe\">\n",
       "  <thead>\n",
       "    <tr style=\"text-align: right;\">\n",
       "      <th></th>\n",
       "      <th>rank</th>\n",
       "      <th>revenues</th>\n",
       "      <th>revenue_change</th>\n",
       "      <th>profits</th>\n",
       "      <th>assets</th>\n",
       "      <th>profit_change</th>\n",
       "      <th>ceo</th>\n",
       "      <th>industry</th>\n",
       "      <th>sector</th>\n",
       "      <th>previous_rank</th>\n",
       "      <th>country</th>\n",
       "      <th>hq_location</th>\n",
       "      <th>website</th>\n",
       "      <th>years_on_global_500_list</th>\n",
       "      <th>employees</th>\n",
       "      <th>total_stockholder_equity</th>\n",
       "    </tr>\n",
       "  </thead>\n",
       "  <tbody>\n",
       "    <tr>\n",
       "      <th>count</th>\n",
       "      <td>500.000000</td>\n",
       "      <td>500.000000</td>\n",
       "      <td>498.000000</td>\n",
       "      <td>499.000000</td>\n",
       "      <td>5.000000e+02</td>\n",
       "      <td>436.000000</td>\n",
       "      <td>500</td>\n",
       "      <td>500</td>\n",
       "      <td>500</td>\n",
       "      <td>500.000000</td>\n",
       "      <td>500</td>\n",
       "      <td>500</td>\n",
       "      <td>500</td>\n",
       "      <td>500.000000</td>\n",
       "      <td>5.000000e+02</td>\n",
       "      <td>500.000000</td>\n",
       "    </tr>\n",
       "    <tr>\n",
       "      <th>unique</th>\n",
       "      <td>NaN</td>\n",
       "      <td>NaN</td>\n",
       "      <td>NaN</td>\n",
       "      <td>NaN</td>\n",
       "      <td>NaN</td>\n",
       "      <td>NaN</td>\n",
       "      <td>500</td>\n",
       "      <td>58</td>\n",
       "      <td>21</td>\n",
       "      <td>NaN</td>\n",
       "      <td>34</td>\n",
       "      <td>235</td>\n",
       "      <td>500</td>\n",
       "      <td>NaN</td>\n",
       "      <td>NaN</td>\n",
       "      <td>NaN</td>\n",
       "    </tr>\n",
       "    <tr>\n",
       "      <th>top</th>\n",
       "      <td>NaN</td>\n",
       "      <td>NaN</td>\n",
       "      <td>NaN</td>\n",
       "      <td>NaN</td>\n",
       "      <td>NaN</td>\n",
       "      <td>NaN</td>\n",
       "      <td>Gao Hongwei</td>\n",
       "      <td>Banks: Commercial and Savings</td>\n",
       "      <td>Financials</td>\n",
       "      <td>NaN</td>\n",
       "      <td>USA</td>\n",
       "      <td>Beijing, China</td>\n",
       "      <td>http://www.lyb.com</td>\n",
       "      <td>NaN</td>\n",
       "      <td>NaN</td>\n",
       "      <td>NaN</td>\n",
       "    </tr>\n",
       "    <tr>\n",
       "      <th>freq</th>\n",
       "      <td>NaN</td>\n",
       "      <td>NaN</td>\n",
       "      <td>NaN</td>\n",
       "      <td>NaN</td>\n",
       "      <td>NaN</td>\n",
       "      <td>NaN</td>\n",
       "      <td>1</td>\n",
       "      <td>51</td>\n",
       "      <td>118</td>\n",
       "      <td>NaN</td>\n",
       "      <td>132</td>\n",
       "      <td>56</td>\n",
       "      <td>1</td>\n",
       "      <td>NaN</td>\n",
       "      <td>NaN</td>\n",
       "      <td>NaN</td>\n",
       "    </tr>\n",
       "    <tr>\n",
       "      <th>mean</th>\n",
       "      <td>250.500000</td>\n",
       "      <td>55416.358000</td>\n",
       "      <td>4.538353</td>\n",
       "      <td>3055.203206</td>\n",
       "      <td>2.436323e+05</td>\n",
       "      <td>24.152752</td>\n",
       "      <td>NaN</td>\n",
       "      <td>NaN</td>\n",
       "      <td>NaN</td>\n",
       "      <td>222.134000</td>\n",
       "      <td>NaN</td>\n",
       "      <td>NaN</td>\n",
       "      <td>NaN</td>\n",
       "      <td>15.036000</td>\n",
       "      <td>1.339983e+05</td>\n",
       "      <td>30628.076000</td>\n",
       "    </tr>\n",
       "    <tr>\n",
       "      <th>std</th>\n",
       "      <td>144.481833</td>\n",
       "      <td>45725.478963</td>\n",
       "      <td>28.549067</td>\n",
       "      <td>5171.981071</td>\n",
       "      <td>4.851937e+05</td>\n",
       "      <td>437.509566</td>\n",
       "      <td>NaN</td>\n",
       "      <td>NaN</td>\n",
       "      <td>NaN</td>\n",
       "      <td>146.941961</td>\n",
       "      <td>NaN</td>\n",
       "      <td>NaN</td>\n",
       "      <td>NaN</td>\n",
       "      <td>7.932752</td>\n",
       "      <td>1.700878e+05</td>\n",
       "      <td>43642.576833</td>\n",
       "    </tr>\n",
       "    <tr>\n",
       "      <th>min</th>\n",
       "      <td>1.000000</td>\n",
       "      <td>21609.000000</td>\n",
       "      <td>-67.300000</td>\n",
       "      <td>-13038.000000</td>\n",
       "      <td>3.717000e+03</td>\n",
       "      <td>-793.700000</td>\n",
       "      <td>NaN</td>\n",
       "      <td>NaN</td>\n",
       "      <td>NaN</td>\n",
       "      <td>0.000000</td>\n",
       "      <td>NaN</td>\n",
       "      <td>NaN</td>\n",
       "      <td>NaN</td>\n",
       "      <td>1.000000</td>\n",
       "      <td>3.280000e+02</td>\n",
       "      <td>-59909.000000</td>\n",
       "    </tr>\n",
       "    <tr>\n",
       "      <th>25%</th>\n",
       "      <td>125.750000</td>\n",
       "      <td>29003.000000</td>\n",
       "      <td>-5.900000</td>\n",
       "      <td>556.950000</td>\n",
       "      <td>3.658850e+04</td>\n",
       "      <td>-22.775000</td>\n",
       "      <td>NaN</td>\n",
       "      <td>NaN</td>\n",
       "      <td>NaN</td>\n",
       "      <td>92.750000</td>\n",
       "      <td>NaN</td>\n",
       "      <td>NaN</td>\n",
       "      <td>NaN</td>\n",
       "      <td>7.000000</td>\n",
       "      <td>4.293250e+04</td>\n",
       "      <td>7553.750000</td>\n",
       "    </tr>\n",
       "    <tr>\n",
       "      <th>50%</th>\n",
       "      <td>250.500000</td>\n",
       "      <td>40236.000000</td>\n",
       "      <td>0.550000</td>\n",
       "      <td>1761.600000</td>\n",
       "      <td>7.326150e+04</td>\n",
       "      <td>-0.350000</td>\n",
       "      <td>NaN</td>\n",
       "      <td>NaN</td>\n",
       "      <td>NaN</td>\n",
       "      <td>219.500000</td>\n",
       "      <td>NaN</td>\n",
       "      <td>NaN</td>\n",
       "      <td>NaN</td>\n",
       "      <td>17.000000</td>\n",
       "      <td>9.291050e+04</td>\n",
       "      <td>15809.500000</td>\n",
       "    </tr>\n",
       "    <tr>\n",
       "      <th>75%</th>\n",
       "      <td>375.250000</td>\n",
       "      <td>63926.750000</td>\n",
       "      <td>6.975000</td>\n",
       "      <td>3954.000000</td>\n",
       "      <td>1.805640e+05</td>\n",
       "      <td>17.700000</td>\n",
       "      <td>NaN</td>\n",
       "      <td>NaN</td>\n",
       "      <td>NaN</td>\n",
       "      <td>347.250000</td>\n",
       "      <td>NaN</td>\n",
       "      <td>NaN</td>\n",
       "      <td>NaN</td>\n",
       "      <td>23.000000</td>\n",
       "      <td>1.689172e+05</td>\n",
       "      <td>37828.500000</td>\n",
       "    </tr>\n",
       "    <tr>\n",
       "      <th>max</th>\n",
       "      <td>500.000000</td>\n",
       "      <td>485873.000000</td>\n",
       "      <td>442.300000</td>\n",
       "      <td>45687.000000</td>\n",
       "      <td>3.473238e+06</td>\n",
       "      <td>8909.500000</td>\n",
       "      <td>NaN</td>\n",
       "      <td>NaN</td>\n",
       "      <td>NaN</td>\n",
       "      <td>500.000000</td>\n",
       "      <td>NaN</td>\n",
       "      <td>NaN</td>\n",
       "      <td>NaN</td>\n",
       "      <td>23.000000</td>\n",
       "      <td>2.300000e+06</td>\n",
       "      <td>301893.000000</td>\n",
       "    </tr>\n",
       "  </tbody>\n",
       "</table>\n",
       "</div>"
      ],
      "text/plain": [
       "              rank       revenues  revenue_change       profits        assets  \\\n",
       "count   500.000000     500.000000      498.000000    499.000000  5.000000e+02   \n",
       "unique         NaN            NaN             NaN           NaN           NaN   \n",
       "top            NaN            NaN             NaN           NaN           NaN   \n",
       "freq           NaN            NaN             NaN           NaN           NaN   \n",
       "mean    250.500000   55416.358000        4.538353   3055.203206  2.436323e+05   \n",
       "std     144.481833   45725.478963       28.549067   5171.981071  4.851937e+05   \n",
       "min       1.000000   21609.000000      -67.300000 -13038.000000  3.717000e+03   \n",
       "25%     125.750000   29003.000000       -5.900000    556.950000  3.658850e+04   \n",
       "50%     250.500000   40236.000000        0.550000   1761.600000  7.326150e+04   \n",
       "75%     375.250000   63926.750000        6.975000   3954.000000  1.805640e+05   \n",
       "max     500.000000  485873.000000      442.300000  45687.000000  3.473238e+06   \n",
       "\n",
       "        profit_change          ceo                       industry      sector  \\\n",
       "count      436.000000          500                            500         500   \n",
       "unique            NaN          500                             58          21   \n",
       "top               NaN  Gao Hongwei  Banks: Commercial and Savings  Financials   \n",
       "freq              NaN            1                             51         118   \n",
       "mean        24.152752          NaN                            NaN         NaN   \n",
       "std        437.509566          NaN                            NaN         NaN   \n",
       "min       -793.700000          NaN                            NaN         NaN   \n",
       "25%        -22.775000          NaN                            NaN         NaN   \n",
       "50%         -0.350000          NaN                            NaN         NaN   \n",
       "75%         17.700000          NaN                            NaN         NaN   \n",
       "max       8909.500000          NaN                            NaN         NaN   \n",
       "\n",
       "        previous_rank country     hq_location             website  \\\n",
       "count      500.000000     500             500                 500   \n",
       "unique            NaN      34             235                 500   \n",
       "top               NaN     USA  Beijing, China  http://www.lyb.com   \n",
       "freq              NaN     132              56                   1   \n",
       "mean       222.134000     NaN             NaN                 NaN   \n",
       "std        146.941961     NaN             NaN                 NaN   \n",
       "min          0.000000     NaN             NaN                 NaN   \n",
       "25%         92.750000     NaN             NaN                 NaN   \n",
       "50%        219.500000     NaN             NaN                 NaN   \n",
       "75%        347.250000     NaN             NaN                 NaN   \n",
       "max        500.000000     NaN             NaN                 NaN   \n",
       "\n",
       "        years_on_global_500_list     employees  total_stockholder_equity  \n",
       "count                 500.000000  5.000000e+02                500.000000  \n",
       "unique                       NaN           NaN                       NaN  \n",
       "top                          NaN           NaN                       NaN  \n",
       "freq                         NaN           NaN                       NaN  \n",
       "mean                   15.036000  1.339983e+05              30628.076000  \n",
       "std                     7.932752  1.700878e+05              43642.576833  \n",
       "min                     1.000000  3.280000e+02             -59909.000000  \n",
       "25%                     7.000000  4.293250e+04               7553.750000  \n",
       "50%                    17.000000  9.291050e+04              15809.500000  \n",
       "75%                    23.000000  1.689172e+05              37828.500000  \n",
       "max                    23.000000  2.300000e+06             301893.000000  "
      ]
     },
     "execution_count": 21,
     "metadata": {},
     "output_type": "execute_result"
    }
   ],
   "source": [
    "f500.describe(include=\"all\")"
   ]
  },
  {
   "cell_type": "markdown",
   "metadata": {},
   "source": [
    "One more thing: the `DataFrame.describe()` method returns a DataFrame object, while the `Series.describe()` method returns a Series object.\n",
    "\n",
    "Here's some examples of implementing the methods:"
   ]
  },
  {
   "cell_type": "code",
   "execution_count": 22,
   "metadata": {},
   "outputs": [],
   "source": [
    "profits_desc = f500[\"profits\"].describe()\n",
    "revenue_and_employees_desc = f500[[\"revenues\", \"employees\"]].describe()\n",
    "all_desc = f500.describe(include=\"all\")"
   ]
  },
  {
   "cell_type": "markdown",
   "metadata": {},
   "source": [
    "As pandas library uses NumPy a lot, panas' objects have many similar methods (like `.max()`, `.min()`, `.mean()`, `.median()`, `.mode()`, `.sum()`, etc.). Vectorized operations work with Series as well."
   ]
  },
  {
   "cell_type": "markdown",
   "metadata": {},
   "source": [
    "[`Series.value_counts()`](http://pandas.pydata.org/pandas-docs/stable/reference/api/pandas.Series.value_counts.html) is a useful method, which displays each unique non-null value from a series, with a count of the number of times that value is used:"
   ]
  },
  {
   "cell_type": "code",
   "execution_count": 23,
   "metadata": {},
   "outputs": [],
   "source": [
    "top5_countries = f500[\"country\"].value_counts().head()\n",
    "top5_previous_rank = f500[\"previous_rank\"].value_counts().head()\n",
    "max_f500 = f500.max()\n",
    "similar_max_f500 = f500.max(axis = 0, numeric_only = True) # basically same as max_f500"
   ]
  },
  {
   "cell_type": "markdown",
   "metadata": {},
   "source": [
    "Assigning values in pandas works almost the same as in NumPy. Here are some practical examples:"
   ]
  },
  {
   "cell_type": "code",
   "execution_count": 24,
   "metadata": {},
   "outputs": [],
   "source": [
    "f500.loc[:, \"revenues_b\"] = f500.loc[:, \"revenues\"] / 1000 # adding a new column\n",
    "f500.loc[\"Dow Chemical\", \"ceo\"] = \"Jim Fitterling\""
   ]
  },
  {
   "cell_type": "code",
   "execution_count": 25,
   "metadata": {},
   "outputs": [],
   "source": [
    "kr_bool = f500[\"country\"] == \"South Korea\" # creates a boolean Series object\n",
    "top_5_kr = f500[kr_bool].head() # shows top 5 Korean companies\n",
    "top_5_kr_ranks = f500.loc[kr_bool, \"rank\"].head() # shows ranks of these companies\n",
    "top_5_kr_ranks = top_5_kr[\"rank\"] # same, but more efficient"
   ]
  },
  {
   "cell_type": "markdown",
   "metadata": {},
   "source": [
    "By the way, remember the `f500_tail`? Let's inspect the `previous_rank` column there (because actually there are some problems with values):"
   ]
  },
  {
   "cell_type": "code",
   "execution_count": 26,
   "metadata": {},
   "outputs": [
    {
     "data": {
      "text/html": [
       "<div>\n",
       "<style scoped>\n",
       "    .dataframe tbody tr th:only-of-type {\n",
       "        vertical-align: middle;\n",
       "    }\n",
       "\n",
       "    .dataframe tbody tr th {\n",
       "        vertical-align: top;\n",
       "    }\n",
       "\n",
       "    .dataframe thead th {\n",
       "        text-align: right;\n",
       "    }\n",
       "</style>\n",
       "<table border=\"1\" class=\"dataframe\">\n",
       "  <thead>\n",
       "    <tr style=\"text-align: right;\">\n",
       "      <th></th>\n",
       "      <th>rank</th>\n",
       "      <th>revenues</th>\n",
       "      <th>revenue_change</th>\n",
       "      <th>profits</th>\n",
       "      <th>assets</th>\n",
       "      <th>profit_change</th>\n",
       "      <th>ceo</th>\n",
       "      <th>industry</th>\n",
       "      <th>sector</th>\n",
       "      <th>previous_rank</th>\n",
       "      <th>country</th>\n",
       "      <th>hq_location</th>\n",
       "      <th>website</th>\n",
       "      <th>years_on_global_500_list</th>\n",
       "      <th>employees</th>\n",
       "      <th>total_stockholder_equity</th>\n",
       "    </tr>\n",
       "  </thead>\n",
       "  <tbody>\n",
       "    <tr>\n",
       "      <th>Telecom Italia</th>\n",
       "      <td>493</td>\n",
       "      <td>21941</td>\n",
       "      <td>-17.4</td>\n",
       "      <td>1999.4</td>\n",
       "      <td>74295</td>\n",
       "      <td>NaN</td>\n",
       "      <td>Flavio Cattaneo</td>\n",
       "      <td>Telecommunications</td>\n",
       "      <td>Telecommunications</td>\n",
       "      <td>404</td>\n",
       "      <td>Italy</td>\n",
       "      <td>Milan, Italy</td>\n",
       "      <td>http://www.telecomitalia.com</td>\n",
       "      <td>18</td>\n",
       "      <td>61227</td>\n",
       "      <td>22366</td>\n",
       "    </tr>\n",
       "    <tr>\n",
       "      <th>Xiamen ITG Holding Group</th>\n",
       "      <td>494</td>\n",
       "      <td>21930</td>\n",
       "      <td>34.3</td>\n",
       "      <td>35.6</td>\n",
       "      <td>12161</td>\n",
       "      <td>-25.1</td>\n",
       "      <td>Xu Xiaoxi</td>\n",
       "      <td>Trading</td>\n",
       "      <td>Wholesalers</td>\n",
       "      <td>0</td>\n",
       "      <td>China</td>\n",
       "      <td>Xiamen, China</td>\n",
       "      <td>http://www.itgholding.com.cn</td>\n",
       "      <td>1</td>\n",
       "      <td>18454</td>\n",
       "      <td>1066</td>\n",
       "    </tr>\n",
       "    <tr>\n",
       "      <th>Xinjiang Guanghui Industry Investment</th>\n",
       "      <td>495</td>\n",
       "      <td>21919</td>\n",
       "      <td>31.1</td>\n",
       "      <td>251.8</td>\n",
       "      <td>31957</td>\n",
       "      <td>49.9</td>\n",
       "      <td>Shang Jiqiang</td>\n",
       "      <td>Trading</td>\n",
       "      <td>Wholesalers</td>\n",
       "      <td>0</td>\n",
       "      <td>China</td>\n",
       "      <td>Urumqi, China</td>\n",
       "      <td>http://www.guanghui.com</td>\n",
       "      <td>1</td>\n",
       "      <td>65616</td>\n",
       "      <td>4563</td>\n",
       "    </tr>\n",
       "    <tr>\n",
       "      <th>Teva Pharmaceutical Industries</th>\n",
       "      <td>496</td>\n",
       "      <td>21903</td>\n",
       "      <td>11.5</td>\n",
       "      <td>329.0</td>\n",
       "      <td>92890</td>\n",
       "      <td>-79.3</td>\n",
       "      <td>Yitzhak Peterburg</td>\n",
       "      <td>Pharmaceuticals</td>\n",
       "      <td>Health Care</td>\n",
       "      <td>0</td>\n",
       "      <td>Israel</td>\n",
       "      <td>Petach Tikva, Israel</td>\n",
       "      <td>http://www.tevapharm.com</td>\n",
       "      <td>1</td>\n",
       "      <td>56960</td>\n",
       "      <td>33337</td>\n",
       "    </tr>\n",
       "    <tr>\n",
       "      <th>New China Life Insurance</th>\n",
       "      <td>497</td>\n",
       "      <td>21796</td>\n",
       "      <td>-13.3</td>\n",
       "      <td>743.9</td>\n",
       "      <td>100609</td>\n",
       "      <td>-45.6</td>\n",
       "      <td>Wan Feng</td>\n",
       "      <td>Insurance: Life, Health (stock)</td>\n",
       "      <td>Financials</td>\n",
       "      <td>427</td>\n",
       "      <td>China</td>\n",
       "      <td>Beijing, China</td>\n",
       "      <td>http://www.newchinalife.com</td>\n",
       "      <td>2</td>\n",
       "      <td>54378</td>\n",
       "      <td>8507</td>\n",
       "    </tr>\n",
       "    <tr>\n",
       "      <th>Wm. Morrison Supermarkets</th>\n",
       "      <td>498</td>\n",
       "      <td>21741</td>\n",
       "      <td>-11.3</td>\n",
       "      <td>406.4</td>\n",
       "      <td>11630</td>\n",
       "      <td>20.4</td>\n",
       "      <td>David T. Potts</td>\n",
       "      <td>Food and Drug Stores</td>\n",
       "      <td>Food &amp; Drug Stores</td>\n",
       "      <td>437</td>\n",
       "      <td>Britain</td>\n",
       "      <td>Bradford, Britain</td>\n",
       "      <td>http://www.morrisons.com</td>\n",
       "      <td>13</td>\n",
       "      <td>77210</td>\n",
       "      <td>5111</td>\n",
       "    </tr>\n",
       "    <tr>\n",
       "      <th>TUI</th>\n",
       "      <td>499</td>\n",
       "      <td>21655</td>\n",
       "      <td>-5.5</td>\n",
       "      <td>1151.7</td>\n",
       "      <td>16247</td>\n",
       "      <td>195.5</td>\n",
       "      <td>Friedrich Joussen</td>\n",
       "      <td>Travel Services</td>\n",
       "      <td>Business Services</td>\n",
       "      <td>467</td>\n",
       "      <td>Germany</td>\n",
       "      <td>Hanover, Germany</td>\n",
       "      <td>http://www.tuigroup.com</td>\n",
       "      <td>23</td>\n",
       "      <td>66779</td>\n",
       "      <td>3006</td>\n",
       "    </tr>\n",
       "    <tr>\n",
       "      <th>AutoNation</th>\n",
       "      <td>500</td>\n",
       "      <td>21609</td>\n",
       "      <td>3.6</td>\n",
       "      <td>430.5</td>\n",
       "      <td>10060</td>\n",
       "      <td>-2.7</td>\n",
       "      <td>Michael J. Jackson</td>\n",
       "      <td>Specialty Retailers</td>\n",
       "      <td>Retailing</td>\n",
       "      <td>0</td>\n",
       "      <td>USA</td>\n",
       "      <td>Fort Lauderdale, FL</td>\n",
       "      <td>http://www.autonation.com</td>\n",
       "      <td>12</td>\n",
       "      <td>26000</td>\n",
       "      <td>2310</td>\n",
       "    </tr>\n",
       "  </tbody>\n",
       "</table>\n",
       "</div>"
      ],
      "text/plain": [
       "                                       rank  revenues  revenue_change  \\\n",
       "Telecom Italia                          493     21941           -17.4   \n",
       "Xiamen ITG Holding Group                494     21930            34.3   \n",
       "Xinjiang Guanghui Industry Investment   495     21919            31.1   \n",
       "Teva Pharmaceutical Industries          496     21903            11.5   \n",
       "New China Life Insurance                497     21796           -13.3   \n",
       "Wm. Morrison Supermarkets               498     21741           -11.3   \n",
       "TUI                                     499     21655            -5.5   \n",
       "AutoNation                              500     21609             3.6   \n",
       "\n",
       "                                       profits  assets  profit_change  \\\n",
       "Telecom Italia                          1999.4   74295            NaN   \n",
       "Xiamen ITG Holding Group                  35.6   12161          -25.1   \n",
       "Xinjiang Guanghui Industry Investment    251.8   31957           49.9   \n",
       "Teva Pharmaceutical Industries           329.0   92890          -79.3   \n",
       "New China Life Insurance                 743.9  100609          -45.6   \n",
       "Wm. Morrison Supermarkets                406.4   11630           20.4   \n",
       "TUI                                     1151.7   16247          195.5   \n",
       "AutoNation                               430.5   10060           -2.7   \n",
       "\n",
       "                                                      ceo  \\\n",
       "Telecom Italia                            Flavio Cattaneo   \n",
       "Xiamen ITG Holding Group                        Xu Xiaoxi   \n",
       "Xinjiang Guanghui Industry Investment       Shang Jiqiang   \n",
       "Teva Pharmaceutical Industries          Yitzhak Peterburg   \n",
       "New China Life Insurance                         Wan Feng   \n",
       "Wm. Morrison Supermarkets                  David T. Potts   \n",
       "TUI                                     Friedrich Joussen   \n",
       "AutoNation                             Michael J. Jackson   \n",
       "\n",
       "                                                              industry  \\\n",
       "Telecom Italia                                      Telecommunications   \n",
       "Xiamen ITG Holding Group                                       Trading   \n",
       "Xinjiang Guanghui Industry Investment                          Trading   \n",
       "Teva Pharmaceutical Industries                         Pharmaceuticals   \n",
       "New China Life Insurance               Insurance: Life, Health (stock)   \n",
       "Wm. Morrison Supermarkets                         Food and Drug Stores   \n",
       "TUI                                                    Travel Services   \n",
       "AutoNation                                         Specialty Retailers   \n",
       "\n",
       "                                                   sector  previous_rank  \\\n",
       "Telecom Italia                         Telecommunications            404   \n",
       "Xiamen ITG Holding Group                      Wholesalers              0   \n",
       "Xinjiang Guanghui Industry Investment         Wholesalers              0   \n",
       "Teva Pharmaceutical Industries                Health Care              0   \n",
       "New China Life Insurance                       Financials            427   \n",
       "Wm. Morrison Supermarkets              Food & Drug Stores            437   \n",
       "TUI                                     Business Services            467   \n",
       "AutoNation                                      Retailing              0   \n",
       "\n",
       "                                       country           hq_location  \\\n",
       "Telecom Italia                           Italy          Milan, Italy   \n",
       "Xiamen ITG Holding Group                 China         Xiamen, China   \n",
       "Xinjiang Guanghui Industry Investment    China         Urumqi, China   \n",
       "Teva Pharmaceutical Industries          Israel  Petach Tikva, Israel   \n",
       "New China Life Insurance                 China        Beijing, China   \n",
       "Wm. Morrison Supermarkets              Britain     Bradford, Britain   \n",
       "TUI                                    Germany      Hanover, Germany   \n",
       "AutoNation                                 USA   Fort Lauderdale, FL   \n",
       "\n",
       "                                                            website  \\\n",
       "Telecom Italia                         http://www.telecomitalia.com   \n",
       "Xiamen ITG Holding Group               http://www.itgholding.com.cn   \n",
       "Xinjiang Guanghui Industry Investment       http://www.guanghui.com   \n",
       "Teva Pharmaceutical Industries             http://www.tevapharm.com   \n",
       "New China Life Insurance                http://www.newchinalife.com   \n",
       "Wm. Morrison Supermarkets                  http://www.morrisons.com   \n",
       "TUI                                         http://www.tuigroup.com   \n",
       "AutoNation                                http://www.autonation.com   \n",
       "\n",
       "                                       years_on_global_500_list  employees  \\\n",
       "Telecom Italia                                               18      61227   \n",
       "Xiamen ITG Holding Group                                      1      18454   \n",
       "Xinjiang Guanghui Industry Investment                         1      65616   \n",
       "Teva Pharmaceutical Industries                                1      56960   \n",
       "New China Life Insurance                                      2      54378   \n",
       "Wm. Morrison Supermarkets                                    13      77210   \n",
       "TUI                                                          23      66779   \n",
       "AutoNation                                                   12      26000   \n",
       "\n",
       "                                       total_stockholder_equity  \n",
       "Telecom Italia                                            22366  \n",
       "Xiamen ITG Holding Group                                   1066  \n",
       "Xinjiang Guanghui Industry Investment                      4563  \n",
       "Teva Pharmaceutical Industries                            33337  \n",
       "New China Life Insurance                                   8507  \n",
       "Wm. Morrison Supermarkets                                  5111  \n",
       "TUI                                                        3006  \n",
       "AutoNation                                                 2310  "
      ]
     },
     "execution_count": 26,
     "metadata": {},
     "output_type": "execute_result"
    }
   ],
   "source": [
    "f500_tail"
   ]
  },
  {
   "cell_type": "markdown",
   "metadata": {},
   "source": [
    "We can see that some of the companies have a 0 value as their previous rank, which probably means that they were not included in the previous Fortune 500 list. This can cause some problems if we calculate some statistics using these values, so it will be wiser to change 0's to `None`'s (or `np.nan`'s)."
   ]
  },
  {
   "cell_type": "code",
   "execution_count": 27,
   "metadata": {},
   "outputs": [],
   "source": [
    "import numpy as np\n",
    "prev_rank_before = f500[\"previous_rank\"].value_counts(dropna=False).head()\n",
    "f500.loc[f500[\"previous_rank\"] == 0, \"previous_rank\"] = np.nan # don't forget to select the column or this will change values of every column!\n",
    "prev_rank_after = f500[\"previous_rank\"].value_counts(dropna=False).head()"
   ]
  },
  {
   "cell_type": "code",
   "execution_count": 28,
   "metadata": {},
   "outputs": [
    {
     "data": {
      "text/plain": [
       "NaN       33\n",
       " 471.0     1\n",
       " 234.0     1\n",
       " 125.0     1\n",
       " 166.0     1\n",
       "Name: previous_rank, dtype: int64"
      ]
     },
     "execution_count": 28,
     "metadata": {},
     "output_type": "execute_result"
    }
   ],
   "source": [
    "prev_rank_after # integers are changed to floats because of using NumPy NaN"
   ]
  },
  {
   "cell_type": "code",
   "execution_count": 29,
   "metadata": {},
   "outputs": [
    {
     "data": {
      "text/plain": [
       "0      33\n",
       "159     1\n",
       "147     1\n",
       "148     1\n",
       "149     1\n",
       "Name: previous_rank, dtype: int64"
      ]
     },
     "execution_count": 29,
     "metadata": {},
     "output_type": "execute_result"
    }
   ],
   "source": [
    "prev_rank_before"
   ]
  },
  {
   "cell_type": "markdown",
   "metadata": {},
   "source": [
    "Now, let's summarize everything we learnt by calculating a specific statistic or attribute of each of the three most common countries from our f500 dataframe:"
   ]
  },
  {
   "cell_type": "markdown",
   "metadata": {},
   "source": [
    "First, let's see the three most common countries from the dataframe:"
   ]
  },
  {
   "cell_type": "code",
   "execution_count": 30,
   "metadata": {},
   "outputs": [
    {
     "data": {
      "text/plain": [
       "USA      132\n",
       "China    109\n",
       "Japan     51\n",
       "Name: country, dtype: int64"
      ]
     },
     "execution_count": 30,
     "metadata": {},
     "output_type": "execute_result"
    }
   ],
   "source": [
    "top_3_countries = f500[\"country\"].value_counts().head(3)\n",
    "top_3_countries"
   ]
  },
  {
   "cell_type": "code",
   "execution_count": 31,
   "metadata": {},
   "outputs": [],
   "source": [
    "top_3_countries = f500[\"country\"].value_counts().head(3)\n",
    "cities_usa = f500.loc[f500[\"country\"] == \"USA\", \"hq_location\"].value_counts().head() \n",
    "# creates a series containing counts of the five most common\n",
    "# Headquarter Location cities for companies headquartered in the USA\n",
    "sector_china = f500.loc[f500[\"country\"] == \"China\", \"sector\"].value_counts().head(3) \n",
    "# creates a series containing counts of the three most common sectors\n",
    "# for companies headquartered in the China\n",
    "mean_employees_japan = f500.loc[f500[\"country\"] == \"Japan\", \"employees\"].mean() \n",
    "# creates a float object containing the mean average number of employees\n",
    "#for companies headquartered in Japan"
   ]
  },
  {
   "cell_type": "markdown",
   "metadata": {},
   "source": [
    "That's it for now! Check the [FAQ](http://pandas.pydata.org/pandas-docs/stable/user_guide/gotchas.html) and the documentation if you have questions.\n",
    "\n",
    "---"
   ]
  },
  {
   "cell_type": "markdown",
   "metadata": {},
   "source": [
    "## Exploring data with Pandas"
   ]
  },
  {
   "cell_type": "markdown",
   "metadata": {},
   "source": [
    "In pandas, each axis has labels, but in some scenarios, like specifying specific columns, using labels to make selections makes things easier - in others though, it makes things harder. If you wanted to select the tenth to twentieth rows in a dataframe, you'd need to know their labels first. So how do we use indeces in dataframes?.."
   ]
  },
  {
   "cell_type": "markdown",
   "metadata": {},
   "source": [
    "Here's how! Just use [`Series.iloc[]`]() or [`DataFrame.iloc[]`]() instead of `.loc[]` methods! \"i\" in \"iloc\" means index! Easy! Even the syntax is the same!\n",
    "\n",
    "```python\n",
    "df.iloc[row, column]\n",
    "```\n",
    "\n",
    "Let's have some practice with these methods:"
   ]
  },
  {
   "cell_type": "code",
   "execution_count": 32,
   "metadata": {},
   "outputs": [],
   "source": [
    "import pandas as pd\n",
    "import numpy as np\n",
    "\n",
    "f500 = pd.read_csv(\"f500.csv\", index_col=0)\n",
    "f500.index.name = None\n",
    "f500.loc[f500[\"previous_rank\"] == 0, \"previous_rank\"] = np.nan\n",
    "fifth_row = f500.iloc[4]\n",
    "first_three_rows = f500.iloc[:3]\n",
    "first_seventh_row_slice = f500.iloc[[0, 6], :5]\n",
    "\n",
    "f500 = pd.read_csv(\"f500.csv\") # more common way to read a dataset\n",
    "f500.loc[f500[\"previous_rank\"] == 0, \"previous_rank\"] = np.nan"
   ]
  },
  {
   "cell_type": "markdown",
   "metadata": {},
   "source": [
    "Sometimes the `.iloc[]` method and the `.loc[]` method work just the same: if you didn't assign the index column, then the methods will have integers as it's indeces and labels. But if you somehow change the initial order of the data, then these methods will be different. For example, you could've sorted the data in a different way, like this (we'll use the [`pandas.DataFrame.sort_values()`](https://pandas.pydata.org/pandas-docs/stable/reference/api/pandas.DataFrame.sort_values.html) method:"
   ]
  },
  {
   "cell_type": "code",
   "execution_count": 33,
   "metadata": {},
   "outputs": [],
   "source": [
    "sorted_emp = f500.sort_values(by = \"employees\", ascending = False)\n",
    "top5_emp = sorted_emp.iloc[:5] # using .loc[] will invoke an error"
   ]
  },
  {
   "cell_type": "markdown",
   "metadata": {},
   "source": [
    "Here are several functions that will help during the analysis of data.\n",
    "\n",
    "* [`Series.str.contains()`](http://pandas.pydata.org/pandas-docs/stable/reference/api/pandas.Series.str.contains.html)\n",
    "* [`Series.str.endswith()`](http://pandas.pydata.org/pandas-docs/stable/reference/api/pandas.Series.str.endswith.html)\n",
    "* [`Series.str.isnull()`](http://pandas.pydata.org/pandas-docs/stable/reference/api/pandas.Series.isnull.html)\n",
    "* [`Series.str.notnull()`](http://pandas.pydata.org/pandas-docs/stable/reference/api/pandas.Series.notnull.html)\n",
    "\n",
    "The main advantage against the usual string Python methods is that the methods above use vector operations. Which means that they work **a lot** faster."
   ]
  },
  {
   "cell_type": "code",
   "execution_count": 34,
   "metadata": {},
   "outputs": [],
   "source": [
    "previously_ranked = f500[f500[\"previous_rank\"].notnull()]\n",
    "rank_change = previously_ranked[\"rank\"] - previously_ranked[\"previous_rank\"]"
   ]
  },
  {
   "cell_type": "markdown",
   "metadata": {},
   "source": [
    "Boolean indexing is a powerful tool which allows us to select or exclude parts of our data based on their values to perform analysis. Sometimes we'll need to use boolean operators like `and`, `or`, `not`. Pandas syntax looks a little bit different. In pandas:\n",
    "\n",
    "* `and` is `&`\n",
    "* `or` is `|`\n",
    "* `not` is `~`\n",
    "\n",
    "Below are some practice examples:"
   ]
  },
  {
   "cell_type": "code",
   "execution_count": 35,
   "metadata": {},
   "outputs": [],
   "source": [
    "cols = [\"company\",\n",
    "       \"revenues\",\n",
    "       \"country\"]\n",
    "f500_sel = f500[cols].head() # created a small piece of the dataframe for practice examples\n",
    "final_cols = [\"revenues\", \"country\"]\n",
    "# longer\n",
    "over_265 = f500_sel[\"revenues\"]\n",
    "over_265_bool = over_265 > 265000\n",
    "china = f500_sel[\"country\"] == \"China\"\n",
    "combined = over_265 & china\n",
    "result = f500_sel.loc[combined,final_cols]\n",
    "# shorter\n",
    "result = f500_sel.loc[(f500_sel[\"revenues\"] > 265000) & (f500_sel[\"country\"] == \"China\"), final_cols]"
   ]
  },
  {
   "cell_type": "code",
   "execution_count": 36,
   "metadata": {},
   "outputs": [
    {
     "data": {
      "text/html": [
       "<div>\n",
       "<style scoped>\n",
       "    .dataframe tbody tr th:only-of-type {\n",
       "        vertical-align: middle;\n",
       "    }\n",
       "\n",
       "    .dataframe tbody tr th {\n",
       "        vertical-align: top;\n",
       "    }\n",
       "\n",
       "    .dataframe thead th {\n",
       "        text-align: right;\n",
       "    }\n",
       "</style>\n",
       "<table border=\"1\" class=\"dataframe\">\n",
       "  <thead>\n",
       "    <tr style=\"text-align: right;\">\n",
       "      <th></th>\n",
       "      <th>revenues</th>\n",
       "      <th>country</th>\n",
       "    </tr>\n",
       "  </thead>\n",
       "  <tbody>\n",
       "    <tr>\n",
       "      <th>1</th>\n",
       "      <td>315199</td>\n",
       "      <td>China</td>\n",
       "    </tr>\n",
       "    <tr>\n",
       "      <th>2</th>\n",
       "      <td>267518</td>\n",
       "      <td>China</td>\n",
       "    </tr>\n",
       "  </tbody>\n",
       "</table>\n",
       "</div>"
      ],
      "text/plain": [
       "   revenues country\n",
       "1    315199   China\n",
       "2    267518   China"
      ]
     },
     "execution_count": 36,
     "metadata": {},
     "output_type": "execute_result"
    }
   ],
   "source": [
    "result"
   ]
  },
  {
   "cell_type": "code",
   "execution_count": 37,
   "metadata": {},
   "outputs": [],
   "source": [
    "# companies with revenues over 100 billion and negative profits\n",
    "big_rev_neg_profit = f500[(f500[\"revenues\"] > 100000) & (f500[\"profits\"] < 0)]\n",
    "# the first 5 companies in the Technology sector that are not headquartered in the USA\n",
    "tech_outside_usa = f500[(f500[\"country\"] != \"USA\") & (f500[\"sector\"] == \"Technology\")].head()"
   ]
  },
  {
   "cell_type": "code",
   "execution_count": 38,
   "metadata": {},
   "outputs": [
    {
     "data": {
      "text/html": [
       "<div>\n",
       "<style scoped>\n",
       "    .dataframe tbody tr th:only-of-type {\n",
       "        vertical-align: middle;\n",
       "    }\n",
       "\n",
       "    .dataframe tbody tr th {\n",
       "        vertical-align: top;\n",
       "    }\n",
       "\n",
       "    .dataframe thead th {\n",
       "        text-align: right;\n",
       "    }\n",
       "</style>\n",
       "<table border=\"1\" class=\"dataframe\">\n",
       "  <thead>\n",
       "    <tr style=\"text-align: right;\">\n",
       "      <th></th>\n",
       "      <th>company</th>\n",
       "      <th>rank</th>\n",
       "      <th>revenues</th>\n",
       "      <th>revenue_change</th>\n",
       "      <th>profits</th>\n",
       "      <th>assets</th>\n",
       "      <th>profit_change</th>\n",
       "      <th>ceo</th>\n",
       "      <th>industry</th>\n",
       "      <th>sector</th>\n",
       "      <th>previous_rank</th>\n",
       "      <th>country</th>\n",
       "      <th>hq_location</th>\n",
       "      <th>website</th>\n",
       "      <th>years_on_global_500_list</th>\n",
       "      <th>employees</th>\n",
       "      <th>total_stockholder_equity</th>\n",
       "    </tr>\n",
       "  </thead>\n",
       "  <tbody>\n",
       "    <tr>\n",
       "      <th>32</th>\n",
       "      <td>Japan Post Holdings</td>\n",
       "      <td>33</td>\n",
       "      <td>122990</td>\n",
       "      <td>3.6</td>\n",
       "      <td>-267.4</td>\n",
       "      <td>2631385</td>\n",
       "      <td>-107.5</td>\n",
       "      <td>Masatsugu Nagato</td>\n",
       "      <td>Insurance: Life, Health (stock)</td>\n",
       "      <td>Financials</td>\n",
       "      <td>37.0</td>\n",
       "      <td>Japan</td>\n",
       "      <td>Tokyo, Japan</td>\n",
       "      <td>http://www.japanpost.jp</td>\n",
       "      <td>21</td>\n",
       "      <td>248384</td>\n",
       "      <td>91532</td>\n",
       "    </tr>\n",
       "    <tr>\n",
       "      <th>44</th>\n",
       "      <td>Chevron</td>\n",
       "      <td>45</td>\n",
       "      <td>107567</td>\n",
       "      <td>-18.0</td>\n",
       "      <td>-497.0</td>\n",
       "      <td>260078</td>\n",
       "      <td>-110.8</td>\n",
       "      <td>John S. Watson</td>\n",
       "      <td>Petroleum Refining</td>\n",
       "      <td>Energy</td>\n",
       "      <td>31.0</td>\n",
       "      <td>USA</td>\n",
       "      <td>San Ramon, CA</td>\n",
       "      <td>http://www.chevron.com</td>\n",
       "      <td>23</td>\n",
       "      <td>55200</td>\n",
       "      <td>145556</td>\n",
       "    </tr>\n",
       "  </tbody>\n",
       "</table>\n",
       "</div>"
      ],
      "text/plain": [
       "                company  rank  revenues  revenue_change  profits   assets  \\\n",
       "32  Japan Post Holdings    33    122990             3.6   -267.4  2631385   \n",
       "44              Chevron    45    107567           -18.0   -497.0   260078   \n",
       "\n",
       "    profit_change               ceo                         industry  \\\n",
       "32         -107.5  Masatsugu Nagato  Insurance: Life, Health (stock)   \n",
       "44         -110.8    John S. Watson               Petroleum Refining   \n",
       "\n",
       "        sector  previous_rank country    hq_location                  website  \\\n",
       "32  Financials           37.0   Japan   Tokyo, Japan  http://www.japanpost.jp   \n",
       "44      Energy           31.0     USA  San Ramon, CA   http://www.chevron.com   \n",
       "\n",
       "    years_on_global_500_list  employees  total_stockholder_equity  \n",
       "32                        21     248384                     91532  \n",
       "44                        23      55200                    145556  "
      ]
     },
     "execution_count": 38,
     "metadata": {},
     "output_type": "execute_result"
    }
   ],
   "source": [
    "big_rev_neg_profit"
   ]
  },
  {
   "cell_type": "code",
   "execution_count": 39,
   "metadata": {},
   "outputs": [
    {
     "data": {
      "text/html": [
       "<div>\n",
       "<style scoped>\n",
       "    .dataframe tbody tr th:only-of-type {\n",
       "        vertical-align: middle;\n",
       "    }\n",
       "\n",
       "    .dataframe tbody tr th {\n",
       "        vertical-align: top;\n",
       "    }\n",
       "\n",
       "    .dataframe thead th {\n",
       "        text-align: right;\n",
       "    }\n",
       "</style>\n",
       "<table border=\"1\" class=\"dataframe\">\n",
       "  <thead>\n",
       "    <tr style=\"text-align: right;\">\n",
       "      <th></th>\n",
       "      <th>company</th>\n",
       "      <th>rank</th>\n",
       "      <th>revenues</th>\n",
       "      <th>revenue_change</th>\n",
       "      <th>profits</th>\n",
       "      <th>assets</th>\n",
       "      <th>profit_change</th>\n",
       "      <th>ceo</th>\n",
       "      <th>industry</th>\n",
       "      <th>sector</th>\n",
       "      <th>previous_rank</th>\n",
       "      <th>country</th>\n",
       "      <th>hq_location</th>\n",
       "      <th>website</th>\n",
       "      <th>years_on_global_500_list</th>\n",
       "      <th>employees</th>\n",
       "      <th>total_stockholder_equity</th>\n",
       "    </tr>\n",
       "  </thead>\n",
       "  <tbody>\n",
       "    <tr>\n",
       "      <th>14</th>\n",
       "      <td>Samsung Electronics</td>\n",
       "      <td>15</td>\n",
       "      <td>173957</td>\n",
       "      <td>-2.0</td>\n",
       "      <td>19316.5</td>\n",
       "      <td>217104</td>\n",
       "      <td>16.8</td>\n",
       "      <td>Oh-Hyun Kwon</td>\n",
       "      <td>Electronics, Electrical Equip.</td>\n",
       "      <td>Technology</td>\n",
       "      <td>13.0</td>\n",
       "      <td>South Korea</td>\n",
       "      <td>Suwon, South Korea</td>\n",
       "      <td>http://www.samsung.com</td>\n",
       "      <td>23</td>\n",
       "      <td>325000</td>\n",
       "      <td>154376</td>\n",
       "    </tr>\n",
       "    <tr>\n",
       "      <th>26</th>\n",
       "      <td>Hon Hai Precision Industry</td>\n",
       "      <td>27</td>\n",
       "      <td>135129</td>\n",
       "      <td>-4.3</td>\n",
       "      <td>4608.8</td>\n",
       "      <td>80436</td>\n",
       "      <td>-0.4</td>\n",
       "      <td>Terry Gou</td>\n",
       "      <td>Electronics, Electrical Equip.</td>\n",
       "      <td>Technology</td>\n",
       "      <td>25.0</td>\n",
       "      <td>Taiwan</td>\n",
       "      <td>New Taipei City, Taiwan</td>\n",
       "      <td>http://www.foxconn.com</td>\n",
       "      <td>13</td>\n",
       "      <td>726772</td>\n",
       "      <td>33476</td>\n",
       "    </tr>\n",
       "    <tr>\n",
       "      <th>70</th>\n",
       "      <td>Hitachi</td>\n",
       "      <td>71</td>\n",
       "      <td>84558</td>\n",
       "      <td>1.2</td>\n",
       "      <td>2134.3</td>\n",
       "      <td>86742</td>\n",
       "      <td>48.8</td>\n",
       "      <td>Toshiaki Higashihara</td>\n",
       "      <td>Electronics, Electrical Equip.</td>\n",
       "      <td>Technology</td>\n",
       "      <td>79.0</td>\n",
       "      <td>Japan</td>\n",
       "      <td>Tokyo, Japan</td>\n",
       "      <td>http://www.hitachi.com</td>\n",
       "      <td>23</td>\n",
       "      <td>303887</td>\n",
       "      <td>26632</td>\n",
       "    </tr>\n",
       "    <tr>\n",
       "      <th>82</th>\n",
       "      <td>Huawei Investment &amp; Holding</td>\n",
       "      <td>83</td>\n",
       "      <td>78511</td>\n",
       "      <td>24.9</td>\n",
       "      <td>5579.4</td>\n",
       "      <td>63837</td>\n",
       "      <td>-5.0</td>\n",
       "      <td>Ren Zhengfei</td>\n",
       "      <td>Network and Other Communications Equipment</td>\n",
       "      <td>Technology</td>\n",
       "      <td>129.0</td>\n",
       "      <td>China</td>\n",
       "      <td>Shenzhen, China</td>\n",
       "      <td>http://www.huawei.com</td>\n",
       "      <td>8</td>\n",
       "      <td>180000</td>\n",
       "      <td>20159</td>\n",
       "    </tr>\n",
       "    <tr>\n",
       "      <th>104</th>\n",
       "      <td>Sony</td>\n",
       "      <td>105</td>\n",
       "      <td>70170</td>\n",
       "      <td>3.9</td>\n",
       "      <td>676.4</td>\n",
       "      <td>158519</td>\n",
       "      <td>-45.1</td>\n",
       "      <td>Kazuo Hirai</td>\n",
       "      <td>Electronics, Electrical Equip.</td>\n",
       "      <td>Technology</td>\n",
       "      <td>113.0</td>\n",
       "      <td>Japan</td>\n",
       "      <td>Tokyo, Japan</td>\n",
       "      <td>http://www.sony.net</td>\n",
       "      <td>23</td>\n",
       "      <td>128400</td>\n",
       "      <td>22415</td>\n",
       "    </tr>\n",
       "  </tbody>\n",
       "</table>\n",
       "</div>"
      ],
      "text/plain": [
       "                         company  rank  revenues  revenue_change  profits  \\\n",
       "14           Samsung Electronics    15    173957            -2.0  19316.5   \n",
       "26    Hon Hai Precision Industry    27    135129            -4.3   4608.8   \n",
       "70                       Hitachi    71     84558             1.2   2134.3   \n",
       "82   Huawei Investment & Holding    83     78511            24.9   5579.4   \n",
       "104                         Sony   105     70170             3.9    676.4   \n",
       "\n",
       "     assets  profit_change                   ceo  \\\n",
       "14   217104           16.8          Oh-Hyun Kwon   \n",
       "26    80436           -0.4             Terry Gou   \n",
       "70    86742           48.8  Toshiaki Higashihara   \n",
       "82    63837           -5.0          Ren Zhengfei   \n",
       "104  158519          -45.1           Kazuo Hirai   \n",
       "\n",
       "                                       industry      sector  previous_rank  \\\n",
       "14               Electronics, Electrical Equip.  Technology           13.0   \n",
       "26               Electronics, Electrical Equip.  Technology           25.0   \n",
       "70               Electronics, Electrical Equip.  Technology           79.0   \n",
       "82   Network and Other Communications Equipment  Technology          129.0   \n",
       "104              Electronics, Electrical Equip.  Technology          113.0   \n",
       "\n",
       "         country              hq_location                 website  \\\n",
       "14   South Korea       Suwon, South Korea  http://www.samsung.com   \n",
       "26        Taiwan  New Taipei City, Taiwan  http://www.foxconn.com   \n",
       "70         Japan             Tokyo, Japan  http://www.hitachi.com   \n",
       "82         China          Shenzhen, China   http://www.huawei.com   \n",
       "104        Japan             Tokyo, Japan     http://www.sony.net   \n",
       "\n",
       "     years_on_global_500_list  employees  total_stockholder_equity  \n",
       "14                         23     325000                    154376  \n",
       "26                         13     726772                     33476  \n",
       "70                         23     303887                     26632  \n",
       "82                          8     180000                     20159  \n",
       "104                        23     128400                     22415  "
      ]
     },
     "execution_count": 39,
     "metadata": {},
     "output_type": "execute_result"
    }
   ],
   "source": [
    "tech_outside_usa"
   ]
  },
  {
   "cell_type": "markdown",
   "metadata": {},
   "source": [
    "You can add Series to a DataFrame (or other Series) as a new column. If the Series has the same indeces then it'll adjust the order according to the DataFrame (or the Series). If some indeces in Series are missing then the column will have `NaN` value in the missing indeces."
   ]
  },
  {
   "cell_type": "code",
   "execution_count": 40,
   "metadata": {},
   "outputs": [
    {
     "data": {
      "text/plain": [
       "495     NaN\n",
       "496    70.0\n",
       "497    61.0\n",
       "498    32.0\n",
       "499     NaN\n",
       "Name: rank_change, dtype: float64"
      ]
     },
     "execution_count": 40,
     "metadata": {},
     "output_type": "execute_result"
    }
   ],
   "source": [
    "f500[\"rank_change\"] = rank_change\n",
    "f500[\"rank_change\"].tail()"
   ]
  },
  {
   "cell_type": "markdown",
   "metadata": {},
   "source": [
    "In pandas we want to avoid loops because of the vectorized methods. But sometimes we can't avoid them. One scenario where it is useful to use loops with pandas is when we are performing **aggregation**. Aggregation is where we apply a statistical operation to *groups* of our data.\n",
    "\n",
    "Here's an example using [`Series.unique()`](http://pandas.pydata.org/pandas-docs/stable/reference/api/pandas.Series.unique.html) and [`DataFrame.sort_values()`](http://pandas.pydata.org/pandas-docs/stable/reference/api/pandas.DataFrame.sort_values.html) methods (we calculate the company that employs the most people in each country):"
   ]
  },
  {
   "cell_type": "code",
   "execution_count": 41,
   "metadata": {},
   "outputs": [],
   "source": [
    "top_employer_by_country = {}\n",
    "countries = f500[\"country\"].unique()\n",
    "for country in countries:\n",
    "    top_employer_by_country[country] = f500[f500[\"country\"] == country].sort_values(\n",
    "        by = [\"employees\"], ascending = False).iloc[0, 0]"
   ]
  },
  {
   "cell_type": "code",
   "execution_count": 42,
   "metadata": {},
   "outputs": [
    {
     "data": {
      "text/plain": [
       "{'USA': 'Walmart',\n",
       " 'China': 'China National Petroleum',\n",
       " 'Japan': 'Toyota Motor',\n",
       " 'Germany': 'Volkswagen',\n",
       " 'Netherlands': 'EXOR Group',\n",
       " 'Britain': 'Compass Group',\n",
       " 'South Korea': 'Samsung Electronics',\n",
       " 'Switzerland': 'Nestle',\n",
       " 'France': 'Sodexo',\n",
       " 'Taiwan': 'Hon Hai Precision Industry',\n",
       " 'Singapore': 'Flex',\n",
       " 'Italy': 'Poste Italiane',\n",
       " 'Russia': 'Gazprom',\n",
       " 'Spain': 'Banco Santander',\n",
       " 'Brazil': 'JBS',\n",
       " 'Mexico': 'America Movil',\n",
       " 'Luxembourg': 'ArcelorMittal',\n",
       " 'India': 'State Bank of India',\n",
       " 'Malaysia': 'Petronas',\n",
       " 'Thailand': 'PTT',\n",
       " 'Australia': 'Wesfarmers',\n",
       " 'Belgium': 'Anheuser-Busch InBev',\n",
       " 'Norway': 'Statoil',\n",
       " 'Canada': 'George Weston',\n",
       " 'Ireland': 'Accenture',\n",
       " 'Indonesia': 'Pertamina',\n",
       " 'Denmark': 'Maersk Group',\n",
       " 'Saudi Arabia': 'SABIC',\n",
       " 'Sweden': 'H & M Hennes & Mauritz',\n",
       " 'Finland': 'Nokia',\n",
       " 'Venezuela': 'Mercantil Servicios Financieros',\n",
       " 'Turkey': 'Koc Holding',\n",
       " 'U.A.E': 'Emirates Group',\n",
       " 'Israel': 'Teva Pharmaceutical Industries'}"
      ]
     },
     "execution_count": 42,
     "metadata": {},
     "output_type": "execute_result"
    }
   ],
   "source": [
    "top_employer_by_country"
   ]
  },
  {
   "cell_type": "markdown",
   "metadata": {},
   "source": [
    "Now we're going to add a new column to our dataframe, and then perform some aggregation using that new column.\n",
    "\n",
    "The column we create is going to contain a metric called [return on assets](https://www.inc.com/encyclopedia/return-on-assets-roa.html) (ROA). ROA is a business-specific metric which indicates a companies ability to make profit using their available assets.\n",
    "\n",
    "* *ROA = PROFIT / ASSETS\n",
    "\n",
    "Once we've created the new column, we'll aggregate by sector, and find the company with the highest ROA from each sector:"
   ]
  },
  {
   "cell_type": "code",
   "execution_count": 43,
   "metadata": {},
   "outputs": [],
   "source": [
    "f500[\"roa\"] = f500[\"profits\"] / f500[\"assets\"]\n",
    "top_roa_by_sector = {}\n",
    "sectors = f500[\"sector\"].unique()\n",
    "for sector in sectors:\n",
    "    top_roa_by_sector[sector] = f500[f500[\"sector\"] == sector].sort_values(\n",
    "        by = [\"roa\"], ascending = False).iloc[0, 0]"
   ]
  },
  {
   "cell_type": "code",
   "execution_count": 44,
   "metadata": {},
   "outputs": [
    {
     "data": {
      "text/plain": [
       "{'Retailing': 'H & M Hennes & Mauritz',\n",
       " 'Energy': 'National Grid',\n",
       " 'Motor Vehicles & Parts': 'Subaru',\n",
       " 'Financials': 'Berkshire Hathaway',\n",
       " 'Technology': 'Accenture',\n",
       " 'Wholesalers': 'McKesson',\n",
       " 'Health Care': 'Gilead Sciences',\n",
       " 'Telecommunications': 'KDDI',\n",
       " 'Engineering & Construction': 'Pacific Construction Group',\n",
       " 'Industrials': '3M',\n",
       " 'Food & Drug Stores': 'Publix Super Markets',\n",
       " 'Aerospace & Defense': 'Lockheed Martin',\n",
       " 'Food, Beverages & Tobacco': 'Philip Morris International',\n",
       " 'Household Products': 'Unilever',\n",
       " 'Transportation': 'Delta Air Lines',\n",
       " 'Materials': 'CRH',\n",
       " 'Chemicals': 'LyondellBasell Industries',\n",
       " 'Media': 'Disney',\n",
       " 'Apparel': 'Nike',\n",
       " 'Hotels, Restaurants & Leisure': 'McDonald’s',\n",
       " 'Business Services': 'Adecco Group'}"
      ]
     },
     "execution_count": 44,
     "metadata": {},
     "output_type": "execute_result"
    }
   ],
   "source": [
    "top_roa_by_sector"
   ]
  },
  {
   "cell_type": "markdown",
   "metadata": {},
   "source": [
    "Wow, awesome!\n",
    "\n",
    "---"
   ]
  },
  {
   "cell_type": "markdown",
   "metadata": {},
   "source": [
    "### Basic data cleaning in Pandas\n",
    "---"
   ]
  },
  {
   "cell_type": "markdown",
   "metadata": {},
   "source": [
    "In reality, data is rarely in the format you need it to be to perform analysis. Data scientists commonly spend over half their time cleaning data, so knowing how to clean 'messy' data is an extremely important skill."
   ]
  },
  {
   "cell_type": "markdown",
   "metadata": {},
   "source": [
    "We'll be working with `laptops.csv`, a CSV file containing information on about 1,300 laptop computers.\n",
    "\n",
    "Now, text files have different types of encodings. But the best thing to do if your file has an unknown encoding is to try the most common encodings. The most common encodings are, in order:\n",
    "\n",
    "* UTF-8 (the default for Python)\n",
    "* Latin-1 (also known as ISO-8895-1)\n",
    "* Windows-1251\n",
    "\n",
    "To specify a encoding when reading a CSV file with pandas, simply use the `encoding` argument within the `pandas.read_csv()` function, specifying the encoding as a string:\n",
    "\n",
    "```python\n",
    "df = pd.read_csv(\"filename.csv\", encoding=\"UTF-8\")\n",
    "```\n",
    "\n",
    "Because UTF-8 is the default, you don't need to specify that the file you're reading is encoded with UTF-8 (you'll notice the error message mentions UTF-8).\n",
    "\n",
    "Hint: the dataset's encoding is not UTF-8!"
   ]
  },
  {
   "cell_type": "code",
   "execution_count": 45,
   "metadata": {},
   "outputs": [
    {
     "name": "stdout",
     "output_type": "stream",
     "text": [
      "<class 'pandas.core.frame.DataFrame'>\n",
      "RangeIndex: 1303 entries, 0 to 1302\n",
      "Data columns (total 13 columns):\n",
      "Manufacturer                1303 non-null object\n",
      "Model Name                  1303 non-null object\n",
      "Category                    1303 non-null object\n",
      "Screen Size                 1303 non-null object\n",
      "Screen                      1303 non-null object\n",
      "CPU                         1303 non-null object\n",
      "RAM                         1303 non-null object\n",
      " Storage                    1303 non-null object\n",
      "GPU                         1303 non-null object\n",
      "Operating System            1303 non-null object\n",
      "Operating System Version    1133 non-null object\n",
      "Weight                      1303 non-null object\n",
      "Price (Euros)               1303 non-null object\n",
      "dtypes: object(13)\n",
      "memory usage: 132.4+ KB\n"
     ]
    }
   ],
   "source": [
    "import pandas as pd\n",
    "laptops = pd.read_csv(\"laptops.csv\", encoding = \"Latin-1\")\n",
    "laptops.info() # df.info() method shows information (sic!) about the dataframe"
   ]
  },
  {
   "cell_type": "markdown",
   "metadata": {},
   "source": [
    "One of the columns, `Operating System Version`, has some null values. The column labels have a variety of upper and lowercase letters, as well as spaces and parentheses. Let's clean the column labels (we'll use some of the python built-in [string methods](https://docs.python.org/3/library/stdtypes.html#string-methods) ([pandas reference](http://pandas.pydata.org/pandas-docs/stable/getting_started/10min.html?highlight=string#string-methods)):"
   ]
  },
  {
   "cell_type": "code",
   "execution_count": 46,
   "metadata": {},
   "outputs": [
    {
     "data": {
      "text/plain": [
       "Index(['Manufacturer', 'Model Name', 'Category', 'Screen Size', 'Screen',\n",
       "       'CPU', 'RAM', ' Storage', 'GPU', 'Operating System',\n",
       "       'Operating System Version', 'Weight', 'Price (Euros)'],\n",
       "      dtype='object')"
      ]
     },
     "execution_count": 46,
     "metadata": {},
     "output_type": "execute_result"
    }
   ],
   "source": [
    "laptops.columns # displays the labels of the columns"
   ]
  },
  {
   "cell_type": "code",
   "execution_count": 47,
   "metadata": {},
   "outputs": [
    {
     "data": {
      "text/plain": [
       "Index(['manufacturer', 'model name', 'category', 'screen size', 'screen',\n",
       "       'cpu', 'ram', 'storage', 'gpu', 'operating system',\n",
       "       'operating system version', 'weight', 'price euros'],\n",
       "      dtype='object')"
      ]
     },
     "execution_count": 47,
     "metadata": {},
     "output_type": "execute_result"
    }
   ],
   "source": [
    "def clean_col(col):\n",
    "    col = col.strip()\n",
    "    col = col.replace(\"(\",\"\")\n",
    "    col = col.replace(\")\",\"\")\n",
    "    col = col.lower()\n",
    "    return col\n",
    "\n",
    "laptops.columns = [clean_col(c) for c in laptops.columns]\n",
    "laptops.columns"
   ]
  },
  {
   "cell_type": "code",
   "execution_count": 48,
   "metadata": {},
   "outputs": [],
   "source": [
    "def clean_string(dirty_string):\n",
    "    return dirty_string.strip().replace(\n",
    "        \"operating system\", \"os\").replace(\" \", \"_\").replace(\"(\", \"\").replace(\")\", \"\").lower()\n",
    "\n",
    "laptops.columns = [clean_string(column) for column in laptops.columns] # assigns new columns"
   ]
  },
  {
   "cell_type": "code",
   "execution_count": 49,
   "metadata": {},
   "outputs": [
    {
     "data": {
      "text/html": [
       "<div>\n",
       "<style scoped>\n",
       "    .dataframe tbody tr th:only-of-type {\n",
       "        vertical-align: middle;\n",
       "    }\n",
       "\n",
       "    .dataframe tbody tr th {\n",
       "        vertical-align: top;\n",
       "    }\n",
       "\n",
       "    .dataframe thead th {\n",
       "        text-align: right;\n",
       "    }\n",
       "</style>\n",
       "<table border=\"1\" class=\"dataframe\">\n",
       "  <thead>\n",
       "    <tr style=\"text-align: right;\">\n",
       "      <th></th>\n",
       "      <th>manufacturer</th>\n",
       "      <th>model_name</th>\n",
       "      <th>category</th>\n",
       "      <th>screen_size</th>\n",
       "      <th>screen</th>\n",
       "      <th>cpu</th>\n",
       "      <th>ram</th>\n",
       "      <th>storage</th>\n",
       "      <th>gpu</th>\n",
       "      <th>os</th>\n",
       "      <th>os_version</th>\n",
       "      <th>weight</th>\n",
       "      <th>price_euros</th>\n",
       "    </tr>\n",
       "  </thead>\n",
       "  <tbody>\n",
       "    <tr>\n",
       "      <th>0</th>\n",
       "      <td>Apple</td>\n",
       "      <td>MacBook Pro</td>\n",
       "      <td>Ultrabook</td>\n",
       "      <td>13.3\"</td>\n",
       "      <td>IPS Panel Retina Display 2560x1600</td>\n",
       "      <td>Intel Core i5 2.3GHz</td>\n",
       "      <td>8GB</td>\n",
       "      <td>128GB SSD</td>\n",
       "      <td>Intel Iris Plus Graphics 640</td>\n",
       "      <td>macOS</td>\n",
       "      <td>NaN</td>\n",
       "      <td>1.37kg</td>\n",
       "      <td>1339,69</td>\n",
       "    </tr>\n",
       "    <tr>\n",
       "      <th>1</th>\n",
       "      <td>Apple</td>\n",
       "      <td>Macbook Air</td>\n",
       "      <td>Ultrabook</td>\n",
       "      <td>13.3\"</td>\n",
       "      <td>1440x900</td>\n",
       "      <td>Intel Core i5 1.8GHz</td>\n",
       "      <td>8GB</td>\n",
       "      <td>128GB Flash Storage</td>\n",
       "      <td>Intel HD Graphics 6000</td>\n",
       "      <td>macOS</td>\n",
       "      <td>NaN</td>\n",
       "      <td>1.34kg</td>\n",
       "      <td>898,94</td>\n",
       "    </tr>\n",
       "    <tr>\n",
       "      <th>2</th>\n",
       "      <td>HP</td>\n",
       "      <td>250 G6</td>\n",
       "      <td>Notebook</td>\n",
       "      <td>15.6\"</td>\n",
       "      <td>Full HD 1920x1080</td>\n",
       "      <td>Intel Core i5 7200U 2.5GHz</td>\n",
       "      <td>8GB</td>\n",
       "      <td>256GB SSD</td>\n",
       "      <td>Intel HD Graphics 620</td>\n",
       "      <td>No OS</td>\n",
       "      <td>NaN</td>\n",
       "      <td>1.86kg</td>\n",
       "      <td>575,00</td>\n",
       "    </tr>\n",
       "    <tr>\n",
       "      <th>3</th>\n",
       "      <td>Apple</td>\n",
       "      <td>MacBook Pro</td>\n",
       "      <td>Ultrabook</td>\n",
       "      <td>15.4\"</td>\n",
       "      <td>IPS Panel Retina Display 2880x1800</td>\n",
       "      <td>Intel Core i7 2.7GHz</td>\n",
       "      <td>16GB</td>\n",
       "      <td>512GB SSD</td>\n",
       "      <td>AMD Radeon Pro 455</td>\n",
       "      <td>macOS</td>\n",
       "      <td>NaN</td>\n",
       "      <td>1.83kg</td>\n",
       "      <td>2537,45</td>\n",
       "    </tr>\n",
       "    <tr>\n",
       "      <th>4</th>\n",
       "      <td>Apple</td>\n",
       "      <td>MacBook Pro</td>\n",
       "      <td>Ultrabook</td>\n",
       "      <td>13.3\"</td>\n",
       "      <td>IPS Panel Retina Display 2560x1600</td>\n",
       "      <td>Intel Core i5 3.1GHz</td>\n",
       "      <td>8GB</td>\n",
       "      <td>256GB SSD</td>\n",
       "      <td>Intel Iris Plus Graphics 650</td>\n",
       "      <td>macOS</td>\n",
       "      <td>NaN</td>\n",
       "      <td>1.37kg</td>\n",
       "      <td>1803,60</td>\n",
       "    </tr>\n",
       "  </tbody>\n",
       "</table>\n",
       "</div>"
      ],
      "text/plain": [
       "  manufacturer   model_name   category screen_size  \\\n",
       "0        Apple  MacBook Pro  Ultrabook       13.3\"   \n",
       "1        Apple  Macbook Air  Ultrabook       13.3\"   \n",
       "2           HP       250 G6   Notebook       15.6\"   \n",
       "3        Apple  MacBook Pro  Ultrabook       15.4\"   \n",
       "4        Apple  MacBook Pro  Ultrabook       13.3\"   \n",
       "\n",
       "                               screen                         cpu   ram  \\\n",
       "0  IPS Panel Retina Display 2560x1600        Intel Core i5 2.3GHz   8GB   \n",
       "1                            1440x900        Intel Core i5 1.8GHz   8GB   \n",
       "2                   Full HD 1920x1080  Intel Core i5 7200U 2.5GHz   8GB   \n",
       "3  IPS Panel Retina Display 2880x1800        Intel Core i7 2.7GHz  16GB   \n",
       "4  IPS Panel Retina Display 2560x1600        Intel Core i5 3.1GHz   8GB   \n",
       "\n",
       "               storage                           gpu     os os_version  \\\n",
       "0            128GB SSD  Intel Iris Plus Graphics 640  macOS        NaN   \n",
       "1  128GB Flash Storage        Intel HD Graphics 6000  macOS        NaN   \n",
       "2            256GB SSD         Intel HD Graphics 620  No OS        NaN   \n",
       "3            512GB SSD            AMD Radeon Pro 455  macOS        NaN   \n",
       "4            256GB SSD  Intel Iris Plus Graphics 650  macOS        NaN   \n",
       "\n",
       "   weight price_euros  \n",
       "0  1.37kg     1339,69  \n",
       "1  1.34kg      898,94  \n",
       "2  1.86kg      575,00  \n",
       "3  1.83kg     2537,45  \n",
       "4  1.37kg     1803,60  "
      ]
     },
     "execution_count": 49,
     "metadata": {},
     "output_type": "execute_result"
    }
   ],
   "source": [
    "laptops.head()"
   ]
  },
  {
   "cell_type": "markdown",
   "metadata": {},
   "source": [
    "As we've seen, each value in table is an object-type (or a string). Let's convert some columns to numbers (for example, screen_size). We'll use these methods:\n",
    "\n",
    "* `Series.str.replace()`\n",
    "* [`Series.astype()`](http://pandas.pydata.org/pandas-docs/stable/reference/api/pandas.Series.astype.html) (use the type as a parameter)\n",
    "* [`DataFrame.rename()`](http://pandas.pydata.org/pandas-docs/stable/reference/api/pandas.DataFrame.rename.html) (to rename specific axis labels using a dictionary with the keys as the old label name, and the values as the new label name) (you need to specify `axis=1` parameter so pandas knows that we want to rename labels in the column axis, and also use `inplace=True` instead of assignment (although assigning back to the DataFrame would give us an identical result))"
   ]
  },
  {
   "cell_type": "code",
   "execution_count": 50,
   "metadata": {},
   "outputs": [
    {
     "data": {
      "text/plain": [
       "array(['13.3\"', '15.6\"', '15.4\"', '14.0\"', '12.0\"', '11.6\"', '17.3\"',\n",
       "       '10.1\"', '13.5\"', '12.5\"', '13.0\"', '18.4\"', '13.9\"', '12.3\"',\n",
       "       '17.0\"', '15.0\"', '14.1\"', '11.3\"'], dtype=object)"
      ]
     },
     "execution_count": 50,
     "metadata": {},
     "output_type": "execute_result"
    }
   ],
   "source": [
    "laptops[\"screen_size\"].unique() # let's look for the patterns"
   ]
  },
  {
   "cell_type": "code",
   "execution_count": 51,
   "metadata": {},
   "outputs": [],
   "source": [
    "laptops[\"screen_size\"] = laptops[\"screen_size\"].str.replace('\"','').astype(float)\n",
    "laptops.rename({\"screen_size\": \"screen_size_inches\"}, axis = 1, inplace = True)"
   ]
  },
  {
   "cell_type": "code",
   "execution_count": 52,
   "metadata": {},
   "outputs": [
    {
     "data": {
      "text/plain": [
       "array(['8GB', '16GB', '4GB', '2GB', '12GB', '6GB', '32GB', '24GB', '64GB'],\n",
       "      dtype=object)"
      ]
     },
     "execution_count": 52,
     "metadata": {},
     "output_type": "execute_result"
    }
   ],
   "source": [
    "laptops[\"ram\"].unique() # doing same with the ram column"
   ]
  },
  {
   "cell_type": "code",
   "execution_count": 53,
   "metadata": {},
   "outputs": [
    {
     "data": {
      "text/plain": [
       "manufacturer           object\n",
       "model_name             object\n",
       "category               object\n",
       "screen_size_inches    float64\n",
       "screen                 object\n",
       "cpu                    object\n",
       "ram_gb                  int64\n",
       "storage                object\n",
       "gpu                    object\n",
       "os                     object\n",
       "os_version             object\n",
       "weight                 object\n",
       "price_euros            object\n",
       "dtype: object"
      ]
     },
     "execution_count": 53,
     "metadata": {},
     "output_type": "execute_result"
    }
   ],
   "source": [
    "laptops[\"ram\"] = laptops[\"ram\"].str.replace(\"GB\", \"\").astype(int)\n",
    "laptops.rename({\"ram\": \"ram_gb\"}, axis = 1, inplace = True)\n",
    "\n",
    "laptops.dtypes # inspecting the new types"
   ]
  },
  {
   "cell_type": "markdown",
   "metadata": {},
   "source": [
    "Let's do the same to the `weight` and `price_euros` columns:"
   ]
  },
  {
   "cell_type": "code",
   "execution_count": 54,
   "metadata": {},
   "outputs": [
    {
     "data": {
      "text/plain": [
       "array(['1.37kg', '1.34kg', '1.86kg', '1.83kg', '2.1kg', '2.04kg', '1.3kg',\n",
       "       '1.6kg', '2.2kg', '0.92kg', '1.22kg', '0.98kg', '2.5kg', '1.62kg',\n",
       "       '1.91kg', '2.3kg', '1.35kg', '1.88kg', '1.89kg', '1.65kg',\n",
       "       '2.71kg', '1.2kg', '1.44kg', '2.8kg', '2kg', '2.65kg', '2.77kg',\n",
       "       '3.2kg', '0.69kg', '1.49kg', '2.4kg', '2.13kg', '2.43kg', '1.7kg',\n",
       "       '1.4kg', '1.8kg', '1.9kg', '3kg', '1.252kg', '2.7kg', '2.02kg',\n",
       "       '1.63kg', '1.96kg', '1.21kg', '2.45kg', '1.25kg', '1.5kg',\n",
       "       '2.62kg', '1.38kg', '1.58kg', '1.85kg', '1.23kg', '1.26kg',\n",
       "       '2.16kg', '2.36kg', '2.05kg', '1.32kg', '1.75kg', '0.97kg',\n",
       "       '2.9kg', '2.56kg', '1.48kg', '1.74kg', '1.1kg', '1.56kg', '2.03kg',\n",
       "       '1.05kg', '4.4kg', '1.90kg', '1.29kg', '2.0kg', '1.95kg', '2.06kg',\n",
       "       '1.12kg', '1.42kg', '3.49kg', '3.35kg', '2.23kg', '4.42kg',\n",
       "       '2.69kg', '2.37kg', '4.7kg', '3.6kg', '2.08kg', '4.3kg', '1.68kg',\n",
       "       '1.41kg', '4.14kg', '2.18kg', '2.24kg', '2.67kg', '2.14kg',\n",
       "       '1.36kg', '2.25kg', '2.15kg', '2.19kg', '2.54kg', '3.42kg',\n",
       "       '1.28kg', '2.33kg', '1.45kg', '2.79kg', '1.84kg', '2.6kg',\n",
       "       '2.26kg', '3.25kg', '1.59kg', '1.13kg', '1.78kg', '1.10kg',\n",
       "       '1.15kg', '1.27kg', '1.43kg', '2.31kg', '1.16kg', '1.64kg',\n",
       "       '2.17kg', '1.47kg', '3.78kg', '1.79kg', '0.91kg', '1.99kg',\n",
       "       '4.33kg', '1.93kg', '1.87kg', '2.63kg', '3.4kg', '3.14kg',\n",
       "       '1.94kg', '1.24kg', '4.6kg', '4.5kg', '2.73kg', '1.39kg', '2.29kg',\n",
       "       '2.59kg', '2.94kg', '1.14kg', '3.8kg', '3.31kg', '1.09kg',\n",
       "       '3.21kg', '1.19kg', '1.98kg', '1.17kg', '4.36kg', '1.71kg',\n",
       "       '2.32kg', '4.2kg', '1.55kg', '0.81kg', '1.18kg', '2.72kg',\n",
       "       '1.31kg', '0.920kg', '3.74kg', '1.76kg', '1.54kg', '2.83kg',\n",
       "       '2.07kg', '2.38kg', '3.58kg', '1.08kg', '2.20kg', '2.75kg',\n",
       "       '1.70kg', '2.99kg', '1.11kg', '2.09kg', '4kgs', '3.0kg', '0.99kg',\n",
       "       '3.52kg', '2.591kg', '2.21kg', '3.3kg', '2.191kg', '2.34kg',\n",
       "       '4.0kg'], dtype=object)"
      ]
     },
     "execution_count": 54,
     "metadata": {},
     "output_type": "execute_result"
    }
   ],
   "source": [
    "laptops[\"weight\"].unique()"
   ]
  },
  {
   "cell_type": "markdown",
   "metadata": {},
   "source": [
    "While it appears that the weight column may just need the kg characters removed from the end of each string, there are a lot of unique values for the weight column, so it's hard to visually confirm if there are any exceptions to the pattern.\n",
    "\n",
    "If we can't see any exceptions, it's OK to move forward onto the next step, as if we miss any, the error we get will tell us the value so we can fix it."
   ]
  },
  {
   "cell_type": "markdown",
   "metadata": {},
   "source": [
    "```python\n",
    "laptops[\"weight\"] = (laptops[\"weight\"]\n",
    "                        .str.replace(\"kg\",\"\")\n",
    "                        .astype(float)\n",
    "                    )\n",
    "```\n",
    "\n",
    "This will envoke en error:\n",
    "\n",
    "```python\n",
    "ValueError: could not convert string to float: '4s'\n",
    "```\n",
    "\n",
    "Keep in mind that this is the value after the `kg` has been replaced because of our method chaining (`.astype()`), so the value substring `'4s'` may not actually exist in the raw data. We can use the pandas [`Series.str.contains()`](http://pandas.pydata.org/pandas-docs/stable/reference/api/pandas.Series.str.contains.html) method, which returns a boolean series based on whether a substring is found to look at the raw value:"
   ]
  },
  {
   "cell_type": "code",
   "execution_count": 55,
   "metadata": {},
   "outputs": [
    {
     "data": {
      "text/plain": [
       "1061    4kgs\n",
       "Name: weight, dtype: object"
      ]
     },
     "execution_count": 55,
     "metadata": {},
     "output_type": "execute_result"
    }
   ],
   "source": [
    "laptops.loc[laptops[\"weight\"].str.contains('s'), \"weight\"]"
   ]
  },
  {
   "cell_type": "code",
   "execution_count": 56,
   "metadata": {},
   "outputs": [],
   "source": [
    "laptops[\"weight\"] = laptops[\"weight\"].str.replace(\"kgs\", \"\").str.replace(\"kg\", \"\").astype(float)\n",
    "laptops.rename({\"weight\": \"weight_kg\"}, axis = 1, inplace = True)"
   ]
  },
  {
   "cell_type": "code",
   "execution_count": 57,
   "metadata": {},
   "outputs": [
    {
     "data": {
      "text/plain": [
       "array(['1339,69', '898,94', '575,00', '2537,45', '1803,60', '400,00',\n",
       "       '2139,97', '1158,70', '1495,00', '770,00', '393,90', '344,99',\n",
       "       '2439,97', '498,90', '1262,40', '1518,55', '745,00', '2858,00',\n",
       "       '499,00', '979,00', '191,90', '999,00', '258,00', '819,00',\n",
       "       '659,00', '418,64', '1099,00', '800,00', '1298,00', '896,00',\n",
       "       '244,99', '199,00', '439,00', '1869,00', '998,00', '249,00',\n",
       "       '367,00', '488,69', '879,00', '389,00', '1499,00', '522,99',\n",
       "       '682,00', '1419,00', '369,00', '1299,00', '639,00', '466,00',\n",
       "       '319,00', '841,00', '398,49', '1103,00', '384,00', '767,80',\n",
       "       '586,19', '2449,00', '415,00', '599,00', '941,00', '690,00',\n",
       "       '1983,00', '438,69', '229,00', '549,00', '949,00', '1089,00',\n",
       "       '955,00', '870,00', '1095,00', '519,00', '855,00', '530,00',\n",
       "       '977,00', '1096,16', '1510,00', '860,00', '399,00', '395,00',\n",
       "       '1349,00', '699,00', '598,99', '1449,00', '1649,00', '689,00',\n",
       "       '1197,00', '1195,00', '1049,00', '847,00', '599,90', '485,00',\n",
       "       '577,00', '1249,00', '719,00', '349,00', '647,00', '1119,00',\n",
       "       '1340,00', '414,90', '1193,00', '1480,00', '1262,00', '1379,00',\n",
       "       '1399,00', '722,00', '1629,00', '1398,99', '1084,00', '1130,33',\n",
       "       '564,00', '1118,00', '479,00', '2241,50', '629,00', '1271,00',\n",
       "       '451,00', '259,00', '812,00', '277,99', '1396,00', '928,00',\n",
       "       '638,99', '449,00', '884,00', '572,00', '598,00', '988,00',\n",
       "       '252,36', '938,00', '655,00', '1116,02', '869,00', '602,00',\n",
       "       '2014,00', '344,00', '2029,00', '447,00', '1249,26', '899,00',\n",
       "       '498,00', '1890,00', '1082,00', '619,00', '1315,00', '403,00',\n",
       "       '805,00', '728,00', '1079,00', '348,00', '1799,00', '363,51',\n",
       "       '1060,49', '854,00', '754,00', '309,00', '489,00', '923,00',\n",
       "       '459,00', '2799,00', '813,00', '1849,00', '793,00', '1199,00',\n",
       "       '1549,00', '2397,00', '779,00', '989,00', '1085,00', '2824,00',\n",
       "       '260,00', '999,90', '698,00', '839,00', '914,00', '6099,00',\n",
       "       '959,00', '1045,00', '1845,00', '493,00', '742,00', '1749,00',\n",
       "       '3055,00', '1398,00', '1949,00', '597,00', '1407,00', '931,88',\n",
       "       '589,00', '1031,00', '1149,00', '1279,00', '677,35', '1363,00',\n",
       "       '794,00', '2456,34', '832,00', '859,01', '769,00', '891,00',\n",
       "       '1269,00', '398,99', '330,00', '859,00', '390,00', '3890,00',\n",
       "       '846,00', '1145,00', '889,00', '985,00', '559,00', '2999,00',\n",
       "       '675,00', '2040,00', '469,00', '702,00', '445,90', '1059,00',\n",
       "       '2499,00', '1699,00', '1142,00', '444,00', '657,00', '565,00',\n",
       "       '799,00', '467,00', '1018,00', '880,00', '1958,90', '735,07',\n",
       "       '713,07', '849,00', '428,00', '829,00', '579,00', '951,00',\n",
       "       '1097,00', '1179,00', '659,01', '1187,00', '1829,00', '739,00',\n",
       "       '2884,86', '1468,00', '509,00', '2122,00', '649,00', '1265,00',\n",
       "       '359,99', '1975,00', '1043,00', '2099,00', '275,00', '844,00',\n",
       "       '459,90', '980,00', '1292,00', '1094,00', '902,00', '292,00',\n",
       "       '1049,90', '1335,00', '2639,00', '943,00', '1334,00', '1268,00',\n",
       "       '1144,00', '274,99', '1142,75', '274,90', '716,00', '1579,00',\n",
       "       '1129,00', '279,00', '1607,96', '375,00', '663,00', '2027,42',\n",
       "       '1304,00', '1409,00', '1738,27', '1403,00', '970,90', '321,99',\n",
       "       '557,37', '1427,00', '945,00', '809,00', '1750,00', '426,00',\n",
       "       '2199,00', '869,01', '488,99', '553,00', '286,00', '1191,00',\n",
       "       '403,50', '1655,00', '1748,90', '2282,00', '1369,00', '2135,00',\n",
       "       '2509,00', '1039,00', '1591,00', '693,99', '778,87', '1229,56',\n",
       "       '2712,00', '2625,00', '306,00', '1529,00', '1144,50', '2249,00',\n",
       "       '1873,00', '1747,00', '1680,00', '409,00', '304,45', '1925,00',\n",
       "       '1943,00', '789,01', '598,90', '1500,00', '539,95', '1215,38',\n",
       "       '1899,00', '1159,00', '1142,40', '1999,00', '299,00', '269,00',\n",
       "       '1010,00', '2445,00', '1695,00', '347,00', '2382,00', '749,00',\n",
       "       '1429,00', '441,80', '1993,00', '1027,74', '2589,00', '1534,00',\n",
       "       '1345,00', '2046,00', '639,90', '544,00', '435,00', '2090,00',\n",
       "       '304,00', '759,00', '1858,00', '1154,00', '1275,00', '1841,85',\n",
       "       '740,00', '2408,00', '1364,00', '1672,00', '586,60', '726,00',\n",
       "       '248,90', '2338,00', '1798,00', '1950,00', '1011,99', '1350,00',\n",
       "       '898,90', '911,00', '340,00', '618,99', '1599,00', '265,00',\n",
       "       '1224,00', '613,00', '1323,00', '836,00', '1219,24', '1399,95',\n",
       "       '245,00', '521,47', '2968,00', '1504,00', '1279,73', '585,00',\n",
       "       '1377,00', '3012,77', '797,41', '735,87', '798,00', '705,50',\n",
       "       '785,00', '462,35', '397,00', '1729,00', '1116,99', '2699,00',\n",
       "       '544,15', '1280,00', '224,00', '255,00', '568,90', '617,90',\n",
       "       '630,00', '1965,00', '990,00', '1860,99', '830,00', '685,00',\n",
       "       '1865,00', '2663,00', '2729,00', '749,01', '1008,52', '1537,39',\n",
       "       '295,00', '2349,00', '1498,00', '1673,00', '609,00', '1770,00',\n",
       "       '603,00', '529,00', '2025,00', '1474,00', '1670,00', '1763,00',\n",
       "       '1219,00', '668,48', '329,00', '465,00', '2299,00', '4899,00',\n",
       "       '879,01', '443,90', '359,00', '1168,00', '569,00', '1389,00',\n",
       "       '2267,86', '379,00', '1124,00', '1465,00', '776,00', '932,00',\n",
       "       '239,00', '468,00', '639,01', '1820,00', '1900,00', '1479,00',\n",
       "       '906,62', '1757,42', '2399,00', '1109,00', '520,90', '2450,00',\n",
       "       '1169,00', '450,00', '274,00', '919,00', '2599,00', '1213,00',\n",
       "       '1584,00', '709,00', '1449,90', '1191,80', '364,90', '1064,00',\n",
       "       '1135,00', '1196,00', '3147,37', '1229,00', '419,00', '535,00',\n",
       "       '539,00', '1486,77', '1258,00', '412,00', '1867,85', '817,95',\n",
       "       '1034,00', '1294,00', '495,00', '997,90', '2051,00', '2813,75',\n",
       "       '612,61', '545,67', '318,00', '1907,99', '2590,00', '973,00',\n",
       "       '669,00', '1877,00', '429,00', '621,45', '795,00', '1855,00',\n",
       "       '655,01', '298,00', '1426,66', '857,07', '1200,00', '1686,64',\n",
       "       '836,60', '3659,40', '1348,48', '489,90', '589,52', '1935,00',\n",
       "       '650,00', '960,00', '2419,00', '2094,48', '410,80', '1207,00',\n",
       "       '665,00', '1535,00', '3299,00', '1126,71', '4389,00', '475,00',\n",
       "       '1096,00', '849,90', '1561,00', '2868,99', '1048,00', '1859,00',\n",
       "       '1559,00', '470,34', '1181,27', '1020,00', '1244,00', '2370,00',\n",
       "       '636,00', '2899,00', '581,90', '3588,80', '2350,00', '1764,00',\n",
       "       '1891,00', '1339,00', '202,90', '1970,00', '1165,00', '2330,00',\n",
       "       '810,00', '2064,90', '744,00', '780,00', '1679,00', '2415,00',\n",
       "       '961,00', '789,81', '385,00', '2505,02', '755,00', '1090,00',\n",
       "       '1875,00', '1358,00', '355,00', '5499,00', '1186,00', '1650,00',\n",
       "       '2774,63', '325,00', '590,00', '3072,89', '910,00', '713,99',\n",
       "       '1870,00', '615,00', '1026,00', '2277,00', '865,00', '1903,00',\n",
       "       '787,00', '2559,00', '850,66', '1285,00', '1017,00', '2240,00',\n",
       "       '1778,00', '1055,00', '1388,00', '735,00', '1690,00', '935,00',\n",
       "       '912,50', '1700,00', '684,80', '455,70', '1369,90', '297,00',\n",
       "       '2649,00', '1475,00', '929,00', '900,00', '614,00', '2013,10',\n",
       "       '2049,00', '1962,99', '1483,00', '789,00', '1205,00', '3100,00',\n",
       "       '1018,99', '881,00', '1119,91', '684,99', '1296,99', '1825,00',\n",
       "       '729,90', '708,06', '288,90', '1105,00', '1669,00', '558,60',\n",
       "       '1639,00', '2758,00', '1472,20', '1775,00', '1460,00', '1488,99',\n",
       "       '3154,00', '775,00', '1760,00', '1009,00', '1790,00', '846,50',\n",
       "       '465,62', '825,00', '3149,00', '695,00', '1962,98', '2800,00',\n",
       "       '1180,00', '2049,90', '1002,00', '915,00', '806,00', '1189,00',\n",
       "       '1908,00', '270,62', '1150,00', '380,00', '2089,00', '1260,00',\n",
       "       '547,00', '1099,99', '1049,26', '684,00', '1539,00', '1590,00',\n",
       "       '1887,21', '1210,00', '769,99', '1490,00', '2229,00', '795,99',\n",
       "       '1185,43', '1046,44', '1060,00', '1624,00', '1080,00', '1228,99',\n",
       "       '1725,00', '1062,95', '1010,51', '210,80', '1425,00', '1049,60',\n",
       "       '1000,00', '2103,34', '1469,00', '1545,64', '2289,99', '287,90',\n",
       "       '2620,00', '2254,00', '705,15', '1819,00', '1070,00', '989,99',\n",
       "       '1929,00', '1458,00', '3975,00', '798,01', '1329,00', '1300,00',\n",
       "       '481,98', '1713,49', '540,00', '940,00', '3240,00', '646,27',\n",
       "       '750,00', '1030,99', '387,00', '393,49', '345,99', '818,35',\n",
       "       '638,80', '500,00', '1135,15', '1166,97', '209,00', '1413,10',\n",
       "       '1511,19', '867,00', '398,00', '769,15', '1969,00', '2749,99',\n",
       "       '1029,00', '2226,00', '1312,49', '196,00', '1513,00', '523,63',\n",
       "       '1895,00', '2050,38', '278,00', '752,00', '616,00', '3949,40',\n",
       "       '784,00', '2171,72', '2440,00', '1142,80', '2296,95', '1009,90',\n",
       "       '2339,00', '339,00', '2250,68', '478,89', '1492,80', '788,49',\n",
       "       '2041,00', '1769,00', '476,99', '1390,00', '679,00', '1305,00',\n",
       "       '2153,37', '1637,00', '831,00', '895,01', '333,00', '909,00',\n",
       "       '691,00', '1163,00', '1327,00', '368,00', '2150,00', '272,00',\n",
       "       '2048,90', '2680,00', '1948,99', '174,00', '1272,00', '1476,11',\n",
       "       '1713,37', '1477,00', '521,86', '3499,00', '469,01', '1598,00',\n",
       "       '478,00', '2198,19', '737,00', '597,57', '361,80', '1600,00',\n",
       "       '875,00', '2325,00', '573,00', '1813,00', '324,00', '1072,00',\n",
       "       '443,99', '490,00', '895,00', '833,01', '729,00', '289,00',\n",
       "       '549,99', '805,99', '720,32', '638,00', '764,00'], dtype=object)"
      ]
     },
     "execution_count": 57,
     "metadata": {},
     "output_type": "execute_result"
    }
   ],
   "source": [
    "laptops[\"price_euros\"].unique()"
   ]
  },
  {
   "cell_type": "code",
   "execution_count": 58,
   "metadata": {},
   "outputs": [],
   "source": [
    "laptops[\"price_euros\"] = laptops[\"price_euros\"].str.replace(\",\", \".\").astype(float)"
   ]
  },
  {
   "cell_type": "code",
   "execution_count": 59,
   "metadata": {},
   "outputs": [
    {
     "data": {
      "text/plain": [
       "count    1303.000000\n",
       "mean        2.038734\n",
       "std         0.665475\n",
       "min         0.690000\n",
       "25%         1.500000\n",
       "50%         2.040000\n",
       "75%         2.300000\n",
       "max         4.700000\n",
       "Name: weight_kg, dtype: float64"
      ]
     },
     "execution_count": 59,
     "metadata": {},
     "output_type": "execute_result"
    }
   ],
   "source": [
    "laptops[\"weight_kg\"].describe()"
   ]
  },
  {
   "cell_type": "code",
   "execution_count": 60,
   "metadata": {},
   "outputs": [
    {
     "data": {
      "text/plain": [
       "count    1303.000000\n",
       "mean     1123.686992\n",
       "std       699.009043\n",
       "min       174.000000\n",
       "25%       599.000000\n",
       "50%       977.000000\n",
       "75%      1487.880000\n",
       "max      6099.000000\n",
       "Name: price_euros, dtype: float64"
      ]
     },
     "execution_count": 60,
     "metadata": {},
     "output_type": "execute_result"
    }
   ],
   "source": [
    "laptops[\"price_euros\"].describe()"
   ]
  },
  {
   "cell_type": "markdown",
   "metadata": {},
   "source": [
    "Here's an example of using the [`Series.str.split()`](http://pandas.pydata.org/pandas-docs/stable/reference/api/pandas.Series.str.split.html) method (with explanations in comments):"
   ]
  },
  {
   "cell_type": "code",
   "execution_count": 61,
   "metadata": {},
   "outputs": [],
   "source": [
    "laptops[\"gpu_manufacturer\"] = (laptops[\"gpu\"] # selects the column\n",
    "                            .str.split(n=1,expand=True) # n controls the maximum number of splits allowed\n",
    "                            .iloc[:,0] # expand = True will expand the series of lists into a dataframe\n",
    "                            ) # .iloc selects only the first column\n",
    "\n",
    "laptops[\"cpu_manufacturer\"] = (laptops[\"cpu\"]\n",
    "                            .str.split(n=1,expand=True)\n",
    "                            .iloc[:,0]\n",
    "                            )"
   ]
  },
  {
   "cell_type": "code",
   "execution_count": 62,
   "metadata": {},
   "outputs": [
    {
     "data": {
      "text/html": [
       "<div>\n",
       "<style scoped>\n",
       "    .dataframe tbody tr th:only-of-type {\n",
       "        vertical-align: middle;\n",
       "    }\n",
       "\n",
       "    .dataframe tbody tr th {\n",
       "        vertical-align: top;\n",
       "    }\n",
       "\n",
       "    .dataframe thead th {\n",
       "        text-align: right;\n",
       "    }\n",
       "</style>\n",
       "<table border=\"1\" class=\"dataframe\">\n",
       "  <thead>\n",
       "    <tr style=\"text-align: right;\">\n",
       "      <th></th>\n",
       "      <th>gpu_manufacturer</th>\n",
       "      <th>cpu_manufacturer</th>\n",
       "    </tr>\n",
       "  </thead>\n",
       "  <tbody>\n",
       "    <tr>\n",
       "      <th>0</th>\n",
       "      <td>Intel</td>\n",
       "      <td>Intel</td>\n",
       "    </tr>\n",
       "    <tr>\n",
       "      <th>1</th>\n",
       "      <td>Intel</td>\n",
       "      <td>Intel</td>\n",
       "    </tr>\n",
       "    <tr>\n",
       "      <th>2</th>\n",
       "      <td>Intel</td>\n",
       "      <td>Intel</td>\n",
       "    </tr>\n",
       "    <tr>\n",
       "      <th>3</th>\n",
       "      <td>AMD</td>\n",
       "      <td>Intel</td>\n",
       "    </tr>\n",
       "    <tr>\n",
       "      <th>4</th>\n",
       "      <td>Intel</td>\n",
       "      <td>Intel</td>\n",
       "    </tr>\n",
       "  </tbody>\n",
       "</table>\n",
       "</div>"
      ],
      "text/plain": [
       "  gpu_manufacturer cpu_manufacturer\n",
       "0            Intel            Intel\n",
       "1            Intel            Intel\n",
       "2            Intel            Intel\n",
       "3              AMD            Intel\n",
       "4            Intel            Intel"
      ]
     },
     "execution_count": 62,
     "metadata": {},
     "output_type": "execute_result"
    }
   ],
   "source": [
    "laptops.head().iloc[:, -2:]"
   ]
  },
  {
   "cell_type": "markdown",
   "metadata": {},
   "source": [
    "Let's work with `screen` column as well:"
   ]
  },
  {
   "cell_type": "code",
   "execution_count": 63,
   "metadata": {},
   "outputs": [
    {
     "data": {
      "text/plain": [
       "array(['IPS Panel Retina Display 2560x1600', '1440x900',\n",
       "       'Full HD 1920x1080', 'IPS Panel Retina Display 2880x1800',\n",
       "       '1366x768', 'IPS Panel Full HD 1920x1080',\n",
       "       'IPS Panel Retina Display 2304x1440',\n",
       "       'IPS Panel Full HD / Touchscreen 1920x1080',\n",
       "       'Full HD / Touchscreen 1920x1080',\n",
       "       'Touchscreen / Quad HD+ 3200x1800',\n",
       "       'IPS Panel Touchscreen 1920x1200', 'Touchscreen 2256x1504',\n",
       "       'Quad HD+ / Touchscreen 3200x1800', 'IPS Panel 1366x768',\n",
       "       'IPS Panel 4K Ultra HD / Touchscreen 3840x2160',\n",
       "       'IPS Panel Full HD 2160x1440',\n",
       "       '4K Ultra HD / Touchscreen 3840x2160', 'Touchscreen 2560x1440',\n",
       "       '1600x900', 'IPS Panel 4K Ultra HD 3840x2160',\n",
       "       '4K Ultra HD 3840x2160', 'Touchscreen 1366x768',\n",
       "       'IPS Panel Full HD 1366x768', 'IPS Panel 2560x1440',\n",
       "       'IPS Panel Full HD 2560x1440',\n",
       "       'IPS Panel Retina Display 2736x1824', 'Touchscreen 2400x1600',\n",
       "       '2560x1440', 'IPS Panel Quad HD+ 2560x1440',\n",
       "       'IPS Panel Quad HD+ 3200x1800',\n",
       "       'IPS Panel Quad HD+ / Touchscreen 3200x1800',\n",
       "       'IPS Panel Touchscreen 1366x768', '1920x1080',\n",
       "       'IPS Panel Full HD 1920x1200',\n",
       "       'IPS Panel Touchscreen / 4K Ultra HD 3840x2160',\n",
       "       'IPS Panel Touchscreen 2560x1440',\n",
       "       'Touchscreen / Full HD 1920x1080', 'Quad HD+ 3200x1800',\n",
       "       'Touchscreen / 4K Ultra HD 3840x2160',\n",
       "       'IPS Panel Touchscreen 2400x1600'], dtype=object)"
      ]
     },
     "execution_count": 63,
     "metadata": {},
     "output_type": "execute_result"
    }
   ],
   "source": [
    "laptops[\"screen\"].unique()"
   ]
  },
  {
   "cell_type": "markdown",
   "metadata": {},
   "source": [
    "Some of the values have only resolutions, some have descriptions as well. But alas, the resolution comes last, so we can't use `Series.str.split()` method with `n = 1` parameter! Luckily, we have [`Series.str.rsplit()`](http://pandas.pydata.org/pandas-docs/stable/reference/api/pandas.Series.str.rsplit.html), which works from the end of the string!"
   ]
  },
  {
   "cell_type": "code",
   "execution_count": 64,
   "metadata": {},
   "outputs": [],
   "source": [
    "laptops[\"screen_resolution\"] = laptops[\"screen\"].str.rsplit(expand = True, n = 1).iloc[:, -1]"
   ]
  },
  {
   "cell_type": "code",
   "execution_count": 65,
   "metadata": {},
   "outputs": [
    {
     "data": {
      "text/plain": [
       "array(['2560x1600', None, '1920x1080', '2880x1800', '2304x1440',\n",
       "       '3200x1800', '1920x1200', '2256x1504', '1366x768', '3840x2160',\n",
       "       '2160x1440', '2560x1440', '2736x1824', '2400x1600'], dtype=object)"
      ]
     },
     "execution_count": 65,
     "metadata": {},
     "output_type": "execute_result"
    }
   ],
   "source": [
    "laptops[\"screen_resolution\"].unique()"
   ]
  },
  {
   "cell_type": "markdown",
   "metadata": {},
   "source": [
    "Whoops, we have some problems (`None` values)! Let's see what we did:"
   ]
  },
  {
   "cell_type": "code",
   "execution_count": 66,
   "metadata": {},
   "outputs": [
    {
     "data": {
      "text/html": [
       "<div>\n",
       "<style scoped>\n",
       "    .dataframe tbody tr th:only-of-type {\n",
       "        vertical-align: middle;\n",
       "    }\n",
       "\n",
       "    .dataframe tbody tr th {\n",
       "        vertical-align: top;\n",
       "    }\n",
       "\n",
       "    .dataframe thead th {\n",
       "        text-align: right;\n",
       "    }\n",
       "</style>\n",
       "<table border=\"1\" class=\"dataframe\">\n",
       "  <thead>\n",
       "    <tr style=\"text-align: right;\">\n",
       "      <th></th>\n",
       "      <th>0</th>\n",
       "      <th>1</th>\n",
       "    </tr>\n",
       "  </thead>\n",
       "  <tbody>\n",
       "    <tr>\n",
       "      <th>0</th>\n",
       "      <td>IPS Panel Retina Display</td>\n",
       "      <td>2560x1600</td>\n",
       "    </tr>\n",
       "    <tr>\n",
       "      <th>1</th>\n",
       "      <td>1440x900</td>\n",
       "      <td>None</td>\n",
       "    </tr>\n",
       "    <tr>\n",
       "      <th>2</th>\n",
       "      <td>Full HD</td>\n",
       "      <td>1920x1080</td>\n",
       "    </tr>\n",
       "    <tr>\n",
       "      <th>3</th>\n",
       "      <td>IPS Panel Retina Display</td>\n",
       "      <td>2880x1800</td>\n",
       "    </tr>\n",
       "    <tr>\n",
       "      <th>4</th>\n",
       "      <td>IPS Panel Retina Display</td>\n",
       "      <td>2560x1600</td>\n",
       "    </tr>\n",
       "  </tbody>\n",
       "</table>\n",
       "</div>"
      ],
      "text/plain": [
       "                          0          1\n",
       "0  IPS Panel Retina Display  2560x1600\n",
       "1                  1440x900       None\n",
       "2                   Full HD  1920x1080\n",
       "3  IPS Panel Retina Display  2880x1800\n",
       "4  IPS Panel Retina Display  2560x1600"
      ]
     },
     "execution_count": 66,
     "metadata": {},
     "output_type": "execute_result"
    }
   ],
   "source": [
    "laptops[\"screen\"].str.rsplit(expand = True, n = 1).head()"
   ]
  },
  {
   "cell_type": "markdown",
   "metadata": {},
   "source": [
    "We can replace the `None` values with the value from the `0` column using boolean indexing and `Series.isnull()` method:\n",
    "\n",
    "*NB! If you think about using a for loop - think about boolean indexing!*"
   ]
  },
  {
   "cell_type": "code",
   "execution_count": 67,
   "metadata": {},
   "outputs": [
    {
     "data": {
      "text/plain": [
       "array(['2560x1600', '1440x900', '1920x1080', '2880x1800', '1366x768',\n",
       "       '2304x1440', '3200x1800', '1920x1200', '2256x1504', '3840x2160',\n",
       "       '2160x1440', '2560x1440', '1600x900', '2736x1824', '2400x1600'],\n",
       "      dtype=object)"
      ]
     },
     "execution_count": 67,
     "metadata": {},
     "output_type": "execute_result"
    }
   ],
   "source": [
    "screen_columns = laptops[\"screen\"].str.rsplit(expand = True, n = 1)\n",
    "screen_columns.loc[screen_columns.loc[:, 1].isnull(), 1] = screen_columns.loc[:, 0]\n",
    "screen_columns[1].unique()"
   ]
  },
  {
   "cell_type": "code",
   "execution_count": 68,
   "metadata": {},
   "outputs": [],
   "source": [
    "laptops[\"screen_resolution\"] = screen_columns[1]"
   ]
  },
  {
   "cell_type": "code",
   "execution_count": 69,
   "metadata": {},
   "outputs": [
    {
     "data": {
      "text/plain": [
       "array(['Intel Core i5 2.3GHz', 'Intel Core i5 1.8GHz',\n",
       "       'Intel Core i5 7200U 2.5GHz', 'Intel Core i7 2.7GHz',\n",
       "       'Intel Core i5 3.1GHz', 'AMD A9-Series 9420 3GHz',\n",
       "       'Intel Core i7 2.2GHz', 'Intel Core i7 8550U 1.8GHz',\n",
       "       'Intel Core i5 8250U 1.6GHz', 'Intel Core i3 6006U 2GHz'],\n",
       "      dtype=object)"
      ]
     },
     "execution_count": 69,
     "metadata": {},
     "output_type": "execute_result"
    }
   ],
   "source": [
    "laptops[\"cpu\"].unique()[:10]"
   ]
  },
  {
   "cell_type": "markdown",
   "metadata": {},
   "source": [
    "Let's do the same to the `cpu` column. We'll need also to replace `'GHz'`:"
   ]
  },
  {
   "cell_type": "code",
   "execution_count": 70,
   "metadata": {},
   "outputs": [],
   "source": [
    "laptops[\"cpu_speed_ghz\"] = (laptops[\"cpu\"]\n",
    "                            .str.replace(\"GHz\", \"\")\n",
    "                            .str.rsplit(n = 1, expand = True)\n",
    "                            .iloc[:, 1]\n",
    "                            .astype(float)\n",
    "                           )"
   ]
  },
  {
   "cell_type": "code",
   "execution_count": 71,
   "metadata": {},
   "outputs": [
    {
     "data": {
      "text/plain": [
       "array([2.3 , 1.8 , 2.5 , 2.7 , 3.1 , 3.  , 2.2 , 1.6 , 2.  , 2.8 , 1.2 ,\n",
       "       2.9 , 2.4 , 1.44, 1.5 , 1.9 , 1.1 , 1.3 , 2.6 , 3.6 , 3.2 , 1.  ,\n",
       "       2.1 , 0.9 , 1.92])"
      ]
     },
     "execution_count": 71,
     "metadata": {},
     "output_type": "execute_result"
    }
   ],
   "source": [
    "laptops[\"cpu_speed_ghz\"].unique()"
   ]
  },
  {
   "cell_type": "markdown",
   "metadata": {},
   "source": [
    "If your data has been scraped from a webpage, or if there was manual data entry involved at some point, you may end up with inconsistent values. Let's look at an example from our `os` column:"
   ]
  },
  {
   "cell_type": "code",
   "execution_count": 72,
   "metadata": {},
   "outputs": [
    {
     "data": {
      "text/plain": [
       "Windows      1125\n",
       "No OS          66\n",
       "Linux          62\n",
       "Chrome OS      27\n",
       "macOS          13\n",
       "Mac OS          8\n",
       "Android         2\n",
       "Name: os, dtype: int64"
      ]
     },
     "execution_count": 72,
     "metadata": {},
     "output_type": "execute_result"
    }
   ],
   "source": [
    "laptops[\"os\"].value_counts()"
   ]
  },
  {
   "cell_type": "markdown",
   "metadata": {},
   "source": [
    "We can see that there are two variations on how the Apple operating system macOS exists in our dataset: `Mac OS` and `macOS`. One way we could fix this is by using a boolean comparison and assignment, but instead we'll use a new way: the [`Series.map()`](http://pandas.pydata.org/pandas-docs/stable/reference/api/pandas.Series.map.html) method. The `Series.map()` method is ideal when we want to change multiple values in a column. Even though that's not the case here, we'll use it as an opportunity to learn how the method works.\n",
    "\n",
    "The most common way to use `Series.map()` is with a dictionary. The keys of our dictionary are the original values in our series, and the corresponding values are what they're updated to:"
   ]
  },
  {
   "cell_type": "code",
   "execution_count": 73,
   "metadata": {},
   "outputs": [],
   "source": [
    "mapping_dict = {\n",
    "    'Android': 'Android',\n",
    "    'Chrome OS': 'Chrome OS',\n",
    "    'Linux': 'Linux',\n",
    "    'Mac OS': 'macOS',\n",
    "    'No OS': 'No OS',\n",
    "    'Windows': 'Windows',\n",
    "    'macOS': 'macOS'\n",
    "}\n",
    "\n",
    "laptops[\"os\"] = laptops[\"os\"].map(mapping_dict)"
   ]
  },
  {
   "cell_type": "code",
   "execution_count": 74,
   "metadata": {},
   "outputs": [
    {
     "data": {
      "text/plain": [
       "Windows      1125\n",
       "No OS          66\n",
       "Linux          62\n",
       "Chrome OS      27\n",
       "macOS          21\n",
       "Android         2\n",
       "Name: os, dtype: int64"
      ]
     },
     "execution_count": 74,
     "metadata": {},
     "output_type": "execute_result"
    }
   ],
   "source": [
    "laptops[\"os\"].value_counts()"
   ]
  },
  {
   "cell_type": "markdown",
   "metadata": {},
   "source": [
    "One important thing to remember with `Series.map()` is that if a value from your series doesn't exist as a key in your dictionary, it will convert that value to `NaN`. Let's see what happens when we run map with keys like those:"
   ]
  },
  {
   "cell_type": "code",
   "execution_count": 75,
   "metadata": {},
   "outputs": [],
   "source": [
    "mapping_dict = {\n",
    "    'android': 'Android',\n",
    "    'chrome OS': 'Chrome OS',\n",
    "    'linux': 'Linux',\n",
    "    'mac OS': 'macOS',\n",
    "    'no OS': 'No OS',\n",
    "    'windows': 'Windows',\n",
    "    'MacOS': 'macOS'\n",
    "}"
   ]
  },
  {
   "cell_type": "code",
   "execution_count": 76,
   "metadata": {},
   "outputs": [
    {
     "data": {
      "text/plain": [
       "0    NaN\n",
       "1    NaN\n",
       "2    NaN\n",
       "3    NaN\n",
       "4    NaN\n",
       "Name: os, dtype: object"
      ]
     },
     "execution_count": 76,
     "metadata": {},
     "output_type": "execute_result"
    }
   ],
   "source": [
    "laptops[\"os\"].map(mapping_dict).head()"
   ]
  },
  {
   "cell_type": "markdown",
   "metadata": {},
   "source": [
    "Because none of the corrected values in our series existed as keys in our dictionary, all values become `NaN`! It's very common to come across this, especially when working in Jupyter notebook where you can easily re-run cells."
   ]
  },
  {
   "cell_type": "markdown",
   "metadata": {},
   "source": [
    "In pandas null values will be indicated by either `NaN` or `None`. Generally the first thing that we want to do is identify which values are missing.\n",
    "\n",
    "There are two approaches we can use: the [`DataFrame.info()`](http://pandas.pydata.org/pandas-docs/stable/generated/pandas.DataFrame.info.html) method and the [`DataFrame.isnull()`](http://pandas.pydata.org/pandas-docs/stable/generated/pandas.DataFrame.isnull.html) method. The `DataFrame.info()` method will print information about the dataframe, including the number of non-null values in each column:"
   ]
  },
  {
   "cell_type": "code",
   "execution_count": 77,
   "metadata": {},
   "outputs": [
    {
     "name": "stdout",
     "output_type": "stream",
     "text": [
      "<class 'pandas.core.frame.DataFrame'>\n",
      "RangeIndex: 1303 entries, 0 to 1302\n",
      "Data columns (total 17 columns):\n",
      "manufacturer          1303 non-null object\n",
      "model_name            1303 non-null object\n",
      "category              1303 non-null object\n",
      "screen_size_inches    1303 non-null float64\n",
      "screen                1303 non-null object\n",
      "cpu                   1303 non-null object\n",
      "ram_gb                1303 non-null int64\n",
      "storage               1303 non-null object\n",
      "gpu                   1303 non-null object\n",
      "os                    1303 non-null object\n",
      "os_version            1133 non-null object\n",
      "weight_kg             1303 non-null float64\n",
      "price_euros           1303 non-null float64\n",
      "gpu_manufacturer      1303 non-null object\n",
      "cpu_manufacturer      1303 non-null object\n",
      "screen_resolution     1303 non-null object\n",
      "cpu_speed_ghz         1303 non-null float64\n",
      "dtypes: float64(4), int64(1), object(12)\n",
      "memory usage: 173.1+ KB\n"
     ]
    }
   ],
   "source": [
    "laptops.info()"
   ]
  },
  {
   "cell_type": "markdown",
   "metadata": {},
   "source": [
    "Looking at the number of non-null values can be harder to understand than looking at the number of null values. In contrast, `DataFrame.isnull()` returns a boolean dataframe with `True` and `False` indications for every value in the dataframe, and then we can use `DataFrame.sum()` to give us accounts using a `.sum()` method on a boolean array will give us a count of the `True` values:"
   ]
  },
  {
   "cell_type": "code",
   "execution_count": 78,
   "metadata": {},
   "outputs": [
    {
     "data": {
      "text/plain": [
       "manufacturer            0\n",
       "model_name              0\n",
       "category                0\n",
       "screen_size_inches      0\n",
       "screen                  0\n",
       "cpu                     0\n",
       "ram_gb                  0\n",
       "storage                 0\n",
       "gpu                     0\n",
       "os                      0\n",
       "os_version            170\n",
       "weight_kg               0\n",
       "price_euros             0\n",
       "gpu_manufacturer        0\n",
       "cpu_manufacturer        0\n",
       "screen_resolution       0\n",
       "cpu_speed_ghz           0\n",
       "dtype: int64"
      ]
     },
     "execution_count": 78,
     "metadata": {},
     "output_type": "execute_result"
    }
   ],
   "source": [
    "laptops.isnull().sum()"
   ]
  },
  {
   "cell_type": "markdown",
   "metadata": {},
   "source": [
    "Much clearer, huh?"
   ]
  },
  {
   "cell_type": "markdown",
   "metadata": {},
   "source": [
    "We have a few options for how we can handle missing values:\n",
    "\n",
    "* Remove any rows that have missing values\n",
    "* Remove any columns that have missing values\n",
    "* Fill the missing values with some other value\n",
    "* Leave the missing values as is\n",
    "\n",
    "The first two options, removing columns and/or rows with missing values is often used when preparing data for machine learning, as machine learning algorithms are unable to be trained on data that includes null values. The methods that we use to remove rows and columns with null values is the [`DataFrame.dropna()`](http://pandas.pydata.org/pandas-docs/stable/generated/pandas.DataFrame.dropna.html) method. As a result, removing columns and rows is commonly known as *dropping*. The method accepts an `axis` (0 by default, so it'll delete rows with null values) parameter, which indicates whether we want to drop along the column or index axis."
   ]
  },
  {
   "cell_type": "code",
   "execution_count": 79,
   "metadata": {},
   "outputs": [],
   "source": [
    "laptops_no_null_cols = laptops.dropna(axis = 1)\n",
    "laptops_no_null_rows = laptops.dropna()"
   ]
  },
  {
   "cell_type": "markdown",
   "metadata": {},
   "source": [
    "While choosing to drop either the rows or columns is the easiest approach to dealing with missing values, it may not always be the best approach. If, for example, one particular manufacturer's laptops have a greater percentage of missing values for the `os_version` column, we might have removed a disproportionate amount of that manufacturer's laptops, which would affect our analysis. Let's explore this column:"
   ]
  },
  {
   "cell_type": "code",
   "execution_count": 80,
   "metadata": {},
   "outputs": [
    {
     "data": {
      "text/plain": [
       "10      1072\n",
       "NaN      170\n",
       "7         45\n",
       "X          8\n",
       "10 S       8\n",
       "Name: os_version, dtype: int64"
      ]
     },
     "execution_count": 80,
     "metadata": {},
     "output_type": "execute_result"
    }
   ],
   "source": [
    "laptops[\"os_version\"].value_counts(dropna=False) # dropna by default is True so it doesn't count null values"
   ]
  },
  {
   "cell_type": "markdown",
   "metadata": {},
   "source": [
    "We can see that the majority of values in the column are `10`, with the missing values the next most common, and then about 5% of values being one of three others.\n",
    "\n",
    "We can also explore values of the other columns in the rows with null values. In this case, the `os_version` column is closely related to the `os` column, so we'll look at those values:"
   ]
  },
  {
   "cell_type": "code",
   "execution_count": 81,
   "metadata": {},
   "outputs": [
    {
     "data": {
      "text/plain": [
       "No OS        66\n",
       "Linux        62\n",
       "Chrome OS    27\n",
       "macOS        13\n",
       "Android       2\n",
       "Name: os, dtype: int64"
      ]
     },
     "execution_count": 81,
     "metadata": {},
     "output_type": "execute_result"
    }
   ],
   "source": [
    "os_with_null_v = laptops.loc[laptops[\"os_version\"].isnull(),\"os\"]\n",
    "os_with_null_v.value_counts()"
   ]
  },
  {
   "cell_type": "markdown",
   "metadata": {},
   "source": [
    "Immediately we can observe a few things:\n",
    "\n",
    "* Most of the missing values are actually when the laptop doesn't include any OS. This is an important distinction, because it's not so much that we don't know what the value is, as that there can't be a value\n",
    "* 13 of the laptops that come with macOS do not specify the version. Leaning on our knowledge of MacOS, we might know that the full name of `macOS` used to be `Mac OS X`, and so we might to fill these values to be more consistent\n",
    "\n",
    "Let's try to fix this:"
   ]
  },
  {
   "cell_type": "code",
   "execution_count": 82,
   "metadata": {},
   "outputs": [],
   "source": [
    "value_counts_before = laptops.loc[laptops[\"os_version\"].isnull(), \"os\"].value_counts()\n",
    "\n",
    "laptops.loc[laptops[\"os\"] == \"macOS\", \"os_version\"] = \"X\"\n",
    "laptops.loc[laptops[\"os\"] == \"No OS\", \"os_version\"] = \"Version Unknown\"\n",
    "\n",
    "value_counts_after = laptops.loc[laptops[\"os_version\"].isnull(), \"os\"].value_counts()"
   ]
  },
  {
   "cell_type": "code",
   "execution_count": 83,
   "metadata": {},
   "outputs": [
    {
     "data": {
      "text/plain": [
       "No OS        66\n",
       "Linux        62\n",
       "Chrome OS    27\n",
       "macOS        13\n",
       "Android       2\n",
       "Name: os, dtype: int64"
      ]
     },
     "execution_count": 83,
     "metadata": {},
     "output_type": "execute_result"
    }
   ],
   "source": [
    "value_counts_before"
   ]
  },
  {
   "cell_type": "code",
   "execution_count": 84,
   "metadata": {},
   "outputs": [
    {
     "data": {
      "text/plain": [
       "Linux        62\n",
       "Chrome OS    27\n",
       "Android       2\n",
       "Name: os, dtype: int64"
      ]
     },
     "execution_count": 84,
     "metadata": {},
     "output_type": "execute_result"
    }
   ],
   "source": [
    "value_counts_after"
   ]
  },
  {
   "cell_type": "markdown",
   "metadata": {},
   "source": [
    "Let's fix the `storage` column. We want to create 4 columns for the capacity and the type of disks. If there are 2 disks, then this should be indicated as well. If there is only 1 disk, then the last two columns should have null values. We'll use here a new method, [`DataFrame.drop()`](http://pandas.pydata.org/pandas-docs/stable/reference/api/pandas.DataFrame.drop.html?highlight=drop#pandas.DataFrame.drop):"
   ]
  },
  {
   "cell_type": "code",
   "execution_count": 85,
   "metadata": {},
   "outputs": [],
   "source": [
    "storage_df = (laptops[\"storage\"]\n",
    "                .str.replace(\"TB\", \"000\")\n",
    "                .str.replace(\"GB\", \"\")\n",
    "                .str.split(pat = \"+\", expand = True)\n",
    "               )\n",
    "storage_1 = storage_df.loc[:, 0].str.strip().str.split(n = 1, expand = True)\n",
    "storage_2 = storage_df.loc[:, 1].str.strip().str.split(n = 1, expand = True)\n",
    "\n",
    "laptops[\"storage_1_capacity_gb\"] = storage_1[0].astype(float)\n",
    "laptops[\"storage_1_type\"] = storage_1[1]\n",
    "laptops[\"storage_2_capacity_gb\"] = storage_2[0].astype(float)\n",
    "laptops[\"storage_2_type\"] = storage_2[1]\n",
    "\n",
    "laptops = laptops.drop(\"storage\", axis = 1)"
   ]
  },
  {
   "cell_type": "code",
   "execution_count": 86,
   "metadata": {},
   "outputs": [
    {
     "data": {
      "text/html": [
       "<div>\n",
       "<style scoped>\n",
       "    .dataframe tbody tr th:only-of-type {\n",
       "        vertical-align: middle;\n",
       "    }\n",
       "\n",
       "    .dataframe tbody tr th {\n",
       "        vertical-align: top;\n",
       "    }\n",
       "\n",
       "    .dataframe thead th {\n",
       "        text-align: right;\n",
       "    }\n",
       "</style>\n",
       "<table border=\"1\" class=\"dataframe\">\n",
       "  <thead>\n",
       "    <tr style=\"text-align: right;\">\n",
       "      <th></th>\n",
       "      <th>storage_1_capacity_gb</th>\n",
       "      <th>storage_1_type</th>\n",
       "      <th>storage_2_capacity_gb</th>\n",
       "      <th>storage_2_type</th>\n",
       "    </tr>\n",
       "  </thead>\n",
       "  <tbody>\n",
       "    <tr>\n",
       "      <th>0</th>\n",
       "      <td>128.0</td>\n",
       "      <td>SSD</td>\n",
       "      <td>NaN</td>\n",
       "      <td>None</td>\n",
       "    </tr>\n",
       "    <tr>\n",
       "      <th>1</th>\n",
       "      <td>128.0</td>\n",
       "      <td>Flash Storage</td>\n",
       "      <td>NaN</td>\n",
       "      <td>None</td>\n",
       "    </tr>\n",
       "    <tr>\n",
       "      <th>2</th>\n",
       "      <td>256.0</td>\n",
       "      <td>SSD</td>\n",
       "      <td>NaN</td>\n",
       "      <td>None</td>\n",
       "    </tr>\n",
       "    <tr>\n",
       "      <th>3</th>\n",
       "      <td>512.0</td>\n",
       "      <td>SSD</td>\n",
       "      <td>NaN</td>\n",
       "      <td>None</td>\n",
       "    </tr>\n",
       "    <tr>\n",
       "      <th>4</th>\n",
       "      <td>256.0</td>\n",
       "      <td>SSD</td>\n",
       "      <td>NaN</td>\n",
       "      <td>None</td>\n",
       "    </tr>\n",
       "  </tbody>\n",
       "</table>\n",
       "</div>"
      ],
      "text/plain": [
       "   storage_1_capacity_gb storage_1_type  storage_2_capacity_gb storage_2_type\n",
       "0                  128.0            SSD                    NaN           None\n",
       "1                  128.0  Flash Storage                    NaN           None\n",
       "2                  256.0            SSD                    NaN           None\n",
       "3                  512.0            SSD                    NaN           None\n",
       "4                  256.0            SSD                    NaN           None"
      ]
     },
     "execution_count": 86,
     "metadata": {},
     "output_type": "execute_result"
    }
   ],
   "source": [
    "laptops.head().iloc[:, -4:]"
   ]
  },
  {
   "cell_type": "markdown",
   "metadata": {},
   "source": [
    "Let's save the cleaned dataset as a csv, using [`DataFrame.to_csv()`](http://pandas.pydata.org/pandas-docs/stable/generated/pandas.DataFrame.to_csv.html) (`index = False` means that the method won't record the indeces as columns/rows) method (and reorder the columns):"
   ]
  },
  {
   "cell_type": "code",
   "execution_count": 87,
   "metadata": {},
   "outputs": [],
   "source": [
    "laptops_dtypes = laptops.dtypes\n",
    "cols = ['manufacturer', 'model_name', 'category', 'screen_size_inches',\n",
    "        'screen', 'cpu', 'cpu_manufacturer', 'screen_resolution', 'cpu_speed_ghz', 'ram_gb',\n",
    "        'storage_1_type', 'storage_1_capacity_gb', 'storage_2_type',\n",
    "        'storage_2_capacity_gb', 'gpu', 'gpu_manufacturer', 'os',\n",
    "        'os_version', 'weight_kg', 'price_euros']\n",
    "\n",
    "laptops = laptops[cols]\n",
    "laptops.to_csv('laptops_cleaned.csv', index = False)"
   ]
  },
  {
   "cell_type": "markdown",
   "metadata": {},
   "source": [
    "# **W E L L D O N E**"
   ]
  }
 ],
 "metadata": {
  "kernelspec": {
   "display_name": "Python 3",
   "language": "python",
   "name": "python3"
  },
  "language_info": {
   "codemirror_mode": {
    "name": "ipython",
    "version": 3
   },
   "file_extension": ".py",
   "mimetype": "text/x-python",
   "name": "python",
   "nbconvert_exporter": "python",
   "pygments_lexer": "ipython3",
   "version": "3.6.8"
  }
 },
 "nbformat": 4,
 "nbformat_minor": 2
}
