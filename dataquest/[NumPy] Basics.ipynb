{
 "cells": [
  {
   "cell_type": "markdown",
   "metadata": {},
   "source": [
    "# NumPy introduction\n",
    "---"
   ]
  },
  {
   "cell_type": "markdown",
   "metadata": {},
   "source": [
    "[NumPy](https://numpydoc.readthedocs.io/en/latest/) is a Python library that helps working with [vectorized operations](https://en.wikipedia.org/wiki/Automatic_vectorization). Basically it means that with NumPy and [pandas](http://pandas.pydata.org/) the Python code will be able to work with arrays instead of single rows.\n",
    "\n",
    "Now let's import the NumPy module as np:"
   ]
  },
  {
   "cell_type": "code",
   "execution_count": 15,
   "metadata": {},
   "outputs": [],
   "source": [
    "import numpy as np"
   ]
  },
  {
   "cell_type": "markdown",
   "metadata": {},
   "source": [
    "And work with our dataset `nyc_taxis.csv`. Here's a description of the columns of the dataset:\n",
    "\n",
    "Below is information about selected columns from the data set:\n",
    "\n",
    "* `pickup_year` - The year of the trip\n",
    "* `pickup_month` - The month of the trip (January is 1, December is 12)\n",
    "* `pickup_day` - The day of the month of the trip\n",
    "* `pickup_location_code` - The airport or borough where the the trip started, as one of eight categories:\n",
    "  * `0` - Bronx\n",
    "  * `1` - Brooklyn\n",
    "  * `2` - JFK Airport\n",
    "  * `3` - LaGuardia Airport\n",
    "  * `4` - Manhattan\n",
    "  * `5` - Newark Airport\n",
    "  * `6` - Queens\n",
    "  * `7` - Staten Island\n",
    "* `dropoff_location_code` - The airport or borough where the the trip finished, using the same eight category codes as `pickup_location_code`\n",
    "* `trip_distance` - The distance of the trip in miles\n",
    "* `trip_length` - The length of the trip in seconds\n",
    "* `fare_amount` - The base fare of the trip, in dollars\n",
    "* `total_amount` - The total amount charged to the passenger, including all fees, tolls and tips"
   ]
  },
  {
   "cell_type": "code",
   "execution_count": 16,
   "metadata": {},
   "outputs": [],
   "source": [
    "import csv\n",
    "\n",
    "# import nyc_taxi.csv as a list of lists\n",
    "f = open(\"nyc_taxis.csv\", \"r\")\n",
    "taxi_list = list(csv.reader(f))\n",
    "\n",
    "# remove the header row\n",
    "taxi_list = taxi_list[1:]\n",
    "\n",
    "# convert all values to floats\n",
    "\n",
    "converted_taxi_list = [[float(item) for item in row] for row in taxi_list]"
   ]
  },
  {
   "cell_type": "markdown",
   "metadata": {},
   "source": [
    "The last step is to convert our list of lists into a NumPy n-dimensional array, or ndarray. For now let's think of it as NumPy's version of a list of lists format. To convert from the list type to ndarray, we use the `numpy.array()` [constructor](https://docs.scipy.org/doc/numpy-1.13.0/reference/generated/numpy.array.html)."
   ]
  },
  {
   "cell_type": "code",
   "execution_count": 17,
   "metadata": {},
   "outputs": [],
   "source": [
    "taxi = np.array(converted_taxi_list)"
   ]
  },
  {
   "cell_type": "markdown",
   "metadata": {},
   "source": [
    "Look at both versions of lists:"
   ]
  },
  {
   "cell_type": "code",
   "execution_count": 18,
   "metadata": {},
   "outputs": [
    {
     "name": "stdout",
     "output_type": "stream",
     "text": [
      "[[2016.0, 1.0, 1.0, 5.0, 0.0, 2.0, 4.0, 21.0, 2037.0, 52.0, 0.8, 5.54, 11.65, 69.99, 1.0], [2016.0, 1.0, 1.0, 5.0, 0.0, 2.0, 1.0, 16.29, 1520.0, 45.0, 1.3, 0.0, 8.0, 54.3, 1.0]]\n"
     ]
    }
   ],
   "source": [
    "print(converted_taxi_list[:2])"
   ]
  },
  {
   "cell_type": "code",
   "execution_count": 19,
   "metadata": {},
   "outputs": [
    {
     "name": "stdout",
     "output_type": "stream",
     "text": [
      "[[2016.      1.      1.   ...   11.65   69.99    1.  ]\n",
      " [2016.      1.      1.   ...    8.     54.3     1.  ]\n",
      " [2016.      1.      1.   ...    0.     37.8     2.  ]\n",
      " ...\n",
      " [2016.      6.     30.   ...    5.     63.34    1.  ]\n",
      " [2016.      6.     30.   ...    8.95   44.75    1.  ]\n",
      " [2016.      6.     30.   ...    0.     54.84    2.  ]]\n"
     ]
    }
   ],
   "source": [
    "print(taxi) # three dots mean that there are more rows / columns between the displayed ones"
   ]
  },
  {
   "cell_type": "markdown",
   "metadata": {},
   "source": [
    "We have a small problem here. `NumPy` prints the figures with way too many decimals because some of the items have that number of decimals. To make it look nicer we can use [`np.set_printoptions()`](https://docs.scipy.org/doc/numpy/reference/generated/numpy.set_printoptions.html)."
   ]
  },
  {
   "cell_type": "code",
   "execution_count": 20,
   "metadata": {},
   "outputs": [
    {
     "name": "stdout",
     "output_type": "stream",
     "text": [
      "[[2016.      1.      1.   ...   11.65   69.99    1.  ]\n",
      " [2016.      1.      1.   ...    8.     54.3     1.  ]\n",
      " [2016.      1.      1.   ...    0.     37.8     2.  ]\n",
      " ...\n",
      " [2016.      6.     30.   ...    5.     63.34    1.  ]\n",
      " [2016.      6.     30.   ...    8.95   44.75    1.  ]\n",
      " [2016.      6.     30.   ...    0.     54.84    2.  ]]\n"
     ]
    }
   ],
   "source": [
    "np.set_printoptions(suppress = True)\n",
    "print(taxi)"
   ]
  },
  {
   "cell_type": "markdown",
   "metadata": {},
   "source": [
    "Use [`ndarray.shape` attribute](http://docs.scipy.org/doc/numpy-1.12.0/reference/generated/numpy.ndarray.shape.html#numpy.ndarray.shape) to see the number of rows and columns (in our case we have a 2 dimensional array):"
   ]
  },
  {
   "cell_type": "code",
   "execution_count": 21,
   "metadata": {},
   "outputs": [
    {
     "name": "stdout",
     "output_type": "stream",
     "text": [
      "(89560, 15)\n"
     ]
    }
   ],
   "source": [
    "print(taxi.shape)"
   ]
  },
  {
   "cell_type": "markdown",
   "metadata": {},
   "source": [
    "Ndarray stands for 'n-dimensional array'. In programming, array is a term that describes a collection of elements. A list object in Python could be described generically as an array. N-dimensional refers to the fact that ndarrays can have one or more dimensions. Here's an example of different kinds of arrays:\n",
    "\n",
    "<img src=\"https://s3.amazonaws.com/dq-content/289/dimensional_arrays.svg\" alt=\"1D-2D-3D-arrays\" width=\"600\"/>"
   ]
  },
  {
   "cell_type": "markdown",
   "metadata": {},
   "source": [
    "Similar to using lists of lists, we use numbers to specify the location of elements of our data that we want to work with. Just like with lists, we call these numbers index values (or collectively, indices).\n",
    "\n",
    "Unlike with Python lists, every value in an ndarray must be of the same types. For the NYC taxi data set this does not matter, as all the values are float values.\n",
    "\n",
    "Let's see how slicing works with ndarrays:"
   ]
  },
  {
   "cell_type": "code",
   "execution_count": 22,
   "metadata": {},
   "outputs": [
    {
     "name": "stdout",
     "output_type": "stream",
     "text": [
      "[[2016.      1.      1.      5.      0.      2.      4.     21.   2037.\n",
      "    52.      0.8     5.54   11.65   69.99    1.  ]\n",
      " [2016.      1.      1.      5.      0.      2.      1.     16.29 1520.\n",
      "    45.      1.3     0.      8.     54.3     1.  ]\n",
      " [2016.      1.      1.      5.      0.      2.      6.     12.7  1462.\n",
      "    36.5     1.3     0.      0.     37.8     2.  ]] \n",
      "\n",
      "[2016.      1.      1.      5.      0.      2.      1.     16.29 1520.\n",
      "   45.      1.3     0.      8.     54.3     1.  ] \n",
      "\n",
      "2016.0 \n",
      "\n",
      "[[2016.    1.    1.]\n",
      " [2016.    1.    1.]\n",
      " [2016.    1.    1.]] \n",
      "\n",
      "[[1. 5.]\n",
      " [1. 5.]]\n"
     ]
    }
   ],
   "source": [
    "print(taxi[:3], str(\"\\n\"))\n",
    "print(taxi[1], str(\"\\n\"))\n",
    "print(taxi[1, 0], str(\"\\n\")) # basically the syntax is ndarray[row, column] \n",
    "print(taxi[1:4, :3], str(\"\\n\")) # and you can use slicing here as well!\n",
    "print(taxi[[1, 3], 2:4]) # or even use lists of lists to select specific columns/rows/items!"
   ]
  },
  {
   "cell_type": "markdown",
   "metadata": {},
   "source": [
    "Let's practice with slicing and selecting different columns/rows/items:"
   ]
  },
  {
   "cell_type": "code",
   "execution_count": 23,
   "metadata": {},
   "outputs": [],
   "source": [
    "row_0 = taxi[0]\n",
    "rows_391_to_500 = taxi[391:501]\n",
    "row_21_column_5 = taxi[21, 5]\n",
    "columns_1_4_7 = taxi[:, [1, 4, 7]]\n",
    "row_99_columns_5_to_8 = taxi[99, 5:9]\n",
    "rows_100_to_200_column_14 = taxi[100:201, 14]"
   ]
  },
  {
   "cell_type": "markdown",
   "metadata": {},
   "source": [
    "Operations with ndarrays are way much faster than operations with lists (approximately 30 times faster!). `NumPy` can use any of the standard Python numeric operators to perform vector math:\n",
    "\n",
    "* `vector_a + vector_b` - Addition\n",
    "* `vector_a - vector_b` - Subtraction\n",
    "* `vector_a * vector_b` - Multiplication (this is unrelated to the vector multiplication used in linear algebra)\n",
    "* `vector_a / vector_b` - Division\n",
    "* `vector_a % vector_b` - Modulus (find the remainder when vector_a is divided by vector_b)\n",
    "* `vector_a ** vector_b` - Exponent (raise vector_a to the power of vector_b)\n",
    "* `vector_a // vector_b` - Floor Division (divide vector_a by vector_b, rounding down to the nearest integer)\n"
   ]
  },
  {
   "cell_type": "markdown",
   "metadata": {},
   "source": [
    "Our dataset has two columns: `trip_distance` and `trip_length`. With these, we can calculate average travel speed (dividing `trip_distance` (miles) by `trip_length` (seconds)):"
   ]
  },
  {
   "cell_type": "code",
   "execution_count": 24,
   "metadata": {},
   "outputs": [],
   "source": [
    "trip_distance_miles = taxi[:,7]\n",
    "trip_length_seconds = taxi[:,8]\n",
    "\n",
    "trip_distance_kilometers = 1.609344 * trip_distance_miles\n",
    "trip_length_hours = trip_length_seconds / 3600 # 3600 seconds is one hour\n",
    "trip_kmh = trip_distance_kilometers / trip_length_hours"
   ]
  },
  {
   "cell_type": "markdown",
   "metadata": {},
   "source": [
    "Numpy ndarrays have methods for many different calculations. A few key methods are:\n",
    "\n",
    "* `ndarray.min()` to calculate the minimum value\n",
    "* `ndarray.max()` to calculate the maximum value\n",
    "* `ndarray.mean()` to calculate the mean average value\n",
    "* `ndarray.sum()` to calculate the sum of the values\n",
    "\n",
    "You can see them a full list of ndarray methods in the [NumPy ndarray documentation](https://docs.scipy.org/doc/numpy-1.14.0/reference/arrays.ndarray.html#calculation).\n",
    "\n",
    "Let's use the methods we've just learned about to calculate the smallest, largest, and mean average speed from our trip_mph ndarray:"
   ]
  },
  {
   "cell_type": "code",
   "execution_count": 25,
   "metadata": {},
   "outputs": [
    {
     "name": "stdout",
     "output_type": "stream",
     "text": [
      "133253.6832 51.889412016610855 0.0\n"
     ]
    }
   ],
   "source": [
    "kmh_min = trip_kmh.min()\n",
    "kmh_max = trip_kmh.max()\n",
    "kmh_mean = trip_kmh.mean()\n",
    "print(kmh_max, kmh_mean, kmh_min)"
   ]
  },
  {
   "cell_type": "markdown",
   "metadata": {},
   "source": [
    "We can see that the dataset has some strange figures, like 133253 kmh.\n",
    "\n",
    "Anyhow, let's see the logic behind the used methods and how they calculate statistics for two-dimensional ndarrays. If we use the arrays without additional parameters, they will return a single value, just like they do with a 1D array:\n",
    "\n",
    "<img src=\"https://s3.amazonaws.com/dq-content/289/array_method_axis_none.svg\" alt=\"ndarray.max()\" width=\"600\"/>"
   ]
  },
  {
   "cell_type": "markdown",
   "metadata": {},
   "source": [
    "We can use the axis parameter, and specify a value of 1, which indicates we want to calculate values for each row. If we want to find the maximum value of each column, we use an axis value of 0:\n",
    "\n",
    "<img src=\"https://s3.amazonaws.com/dq-content/289/array_method_axis_1.svg\" alt=\"ndarray.max(axis=1)\" width=\"600\"/>\n",
    "<img src=\"https://s3.amazonaws.com/dq-content/289/array_method_axis_0.svg\" alt=\"ndarray.max(axis=0)\" width=\"600\"/>"
   ]
  },
  {
   "cell_type": "markdown",
   "metadata": {},
   "source": [
    "We can use `axis` parameter with any method of `ndarray`. Here's how it works:\n",
    "<img src=\"https://s3.amazonaws.com/dq-content/289/axis_param.svg\" alt=\"ndarray.method(axis=0)\" width=\"600\"/>"
   ]
  },
  {
   "cell_type": "markdown",
   "metadata": {},
   "source": [
    "For example, here's how we calculate mean of each column:"
   ]
  },
  {
   "cell_type": "code",
   "execution_count": 26,
   "metadata": {},
   "outputs": [
    {
     "name": "stdout",
     "output_type": "stream",
     "text": [
      "[2016.            3.61447075   15.69353506    3.84133542    3.08267084\n",
      "    2.95988164    3.37924297   12.66742608 2235.98110764   38.40448403\n",
      "    1.20917642    3.53830951    5.81448917   48.96666246    1.29044216]\n"
     ]
    }
   ],
   "source": [
    "taxi_column_means = taxi.mean(axis=0)\n",
    "print(taxi_column_means)"
   ]
  },
  {
   "cell_type": "markdown",
   "metadata": {},
   "source": [
    "Earlier we detected some anomalies in speed. To take a closer look at why we might be getting this value, we're going to do the following:\n",
    "\n",
    "* Add the `trip_kmh` as a column to our `taxi` ndarray.\n",
    "* Sort taxi by `trip_kmh`.\n",
    "* Look at the rows with the highest `trip_kmh` from our sorted ndarray to see what they tell us about these large values.\n",
    "\n",
    "To add a column we can use the [`numpy.concatenate()`](https://docs.scipy.org/doc/numpy-1.14.0/reference/generated/numpy.concatenate.html) function. This function accepts:\n",
    "\n",
    "* A list of ndarrays as the first, unnamed parameter\n",
    "* An integer for the axis parameter, where 0 will add rows and 1 will add columns\n",
    "\n",
    "The `numpy.concatenate()` function requires that each array have the same shape, excepting the dimension corresponding to axis. That said, if we want to add column(s), then the number of rows of each array should be tha same. If we want to add row(s), then the number of columns of each array should be the same. Also each array should have the same ammount of dimensions. We can add another dimension to an array using [`numpy.expand_dims()`](https://docs.scipy.org/doc/numpy/reference/generated/numpy.expand_dims.html) function.\n",
    "\n",
    "Here's a simple example of using these techniques:"
   ]
  },
  {
   "cell_type": "code",
   "execution_count": 27,
   "metadata": {},
   "outputs": [
    {
     "name": "stdout",
     "output_type": "stream",
     "text": [
      "[[1 1 1]\n",
      " [1 1 1]]\n",
      "[0 0 0]\n"
     ]
    }
   ],
   "source": [
    "ones = np.array([[1, 1, 1],[1, 1, 1]])\n",
    "zeros = np.array([0, 0, 0])\n",
    "print(ones)\n",
    "print(zeros)"
   ]
  },
  {
   "cell_type": "code",
   "execution_count": 28,
   "metadata": {},
   "outputs": [
    {
     "ename": "ValueError",
     "evalue": "all the input arrays must have same number of dimensions",
     "output_type": "error",
     "traceback": [
      "\u001b[0;31m---------------------------------------------------------------------------\u001b[0m",
      "\u001b[0;31mValueError\u001b[0m                                Traceback (most recent call last)",
      "\u001b[0;32m<ipython-input-28-0b83a04aa9b4>\u001b[0m in \u001b[0;36m<module>\u001b[0;34m()\u001b[0m\n\u001b[0;32m----> 1\u001b[0;31m \u001b[0mcombined\u001b[0m \u001b[0;34m=\u001b[0m \u001b[0mnp\u001b[0m\u001b[0;34m.\u001b[0m\u001b[0mconcatenate\u001b[0m\u001b[0;34m(\u001b[0m\u001b[0;34m[\u001b[0m\u001b[0mones\u001b[0m\u001b[0;34m,\u001b[0m\u001b[0mzeros\u001b[0m\u001b[0;34m]\u001b[0m\u001b[0;34m,\u001b[0m\u001b[0maxis\u001b[0m\u001b[0;34m=\u001b[0m\u001b[0;36m0\u001b[0m\u001b[0;34m)\u001b[0m \u001b[0;31m# error because of different dimensions\u001b[0m\u001b[0;34m\u001b[0m\u001b[0m\n\u001b[0m",
      "\u001b[0;31mValueError\u001b[0m: all the input arrays must have same number of dimensions"
     ]
    }
   ],
   "source": [
    "combined = np.concatenate([ones,zeros],axis=0) # error because of different dimensions"
   ]
  },
  {
   "cell_type": "code",
   "execution_count": 29,
   "metadata": {},
   "outputs": [
    {
     "name": "stdout",
     "output_type": "stream",
     "text": [
      "[[0 0 0]]\n"
     ]
    }
   ],
   "source": [
    "zeros_2d = np.expand_dims(zeros,axis=0)\n",
    "print(zeros_2d)"
   ]
  },
  {
   "cell_type": "code",
   "execution_count": 30,
   "metadata": {},
   "outputs": [
    {
     "name": "stdout",
     "output_type": "stream",
     "text": [
      "[[1 1 1]\n",
      " [1 1 1]\n",
      " [0 0 0]]\n"
     ]
    }
   ],
   "source": [
    "combined = np.concatenate([ones,zeros_2d],axis=0)\n",
    "print(combined)"
   ]
  },
  {
   "cell_type": "markdown",
   "metadata": {},
   "source": [
    "Now let's do the same with our dataset:"
   ]
  },
  {
   "cell_type": "code",
   "execution_count": 31,
   "metadata": {},
   "outputs": [
    {
     "name": "stdout",
     "output_type": "stream",
     "text": [
      "[[2016.            1.            1.         ...   69.99\n",
      "     1.           59.72823093]\n",
      " [2016.            1.            1.         ...   54.3\n",
      "     1.           62.09103259]\n",
      " [2016.            1.            1.         ...   37.8\n",
      "     2.           50.32777543]\n",
      " ...\n",
      " [2016.            6.           30.         ...   63.34\n",
      "     1.           35.88688846]\n",
      " [2016.            6.           30.         ...   44.75\n",
      "     1.           68.26115049]\n",
      " [2016.            6.           30.         ...   54.84\n",
      "     2.           59.39241235]]\n"
     ]
    }
   ],
   "source": [
    "trip_kmh_2d = np.expand_dims(trip_kmh, axis=1)\n",
    "taxi = np.concatenate([taxi, trip_kmh_2d], axis = 1)\n",
    "print(taxi)"
   ]
  },
  {
   "cell_type": "markdown",
   "metadata": {},
   "source": [
    "Now that we've added our `trip_kmh` column to our array, our next step is to sort the array. For this, we'll use the [`numpy.argsort()`](https://docs.scipy.org/doc/numpy-1.14.0/reference/generated/numpy.argsort.html#numpy.argsort) function. The `numpy.argsort()` function returns the indices which would sort an array.\n",
    "\n",
    "We need to sort the array by the `trip_kmh` column (`taxi[:, 15]`). To do so we need to sort that column and then sort the whole array by the given indices:"
   ]
  },
  {
   "cell_type": "code",
   "execution_count": 32,
   "metadata": {},
   "outputs": [
    {
     "name": "stdout",
     "output_type": "stream",
     "text": [
      "[[  2016.           1.           3.      ...     24.84         1.\n",
      "       0.     ]\n",
      " [  2016.           1.          22.      ...     63.34         1.\n",
      "       0.     ]\n",
      " [  2016.           1.          14.      ...     52.8          1.\n",
      "       0.     ]\n",
      " ...\n",
      " [  2016.           3.          28.      ...      4.3          2.\n",
      "   51563.38176]\n",
      " [  2016.           2.          13.      ...      3.3          2.\n",
      "  113555.31264]\n",
      " [  2016.           1.          22.      ...      3.3          2.\n",
      "  133253.6832 ]]\n"
     ]
    }
   ],
   "source": [
    "trip_kmh_sort = np.argsort(taxi[:, 15])\n",
    "taxi_sorted = taxi[trip_kmh_sort]\n",
    "print(taxi_sorted)"
   ]
  },
  {
   "cell_type": "markdown",
   "metadata": {},
   "source": [
    "Let's inspect the last ten rows of the array:"
   ]
  },
  {
   "cell_type": "code",
   "execution_count": 33,
   "metadata": {},
   "outputs": [
    {
     "data": {
      "text/plain": [
       "array([[  2016.     ,      2.     ,     19.     ,      5.     ,\n",
       "             4.     ,      2.     ,      2.     ,     17.3    ,\n",
       "             4.     ,      2.5    ,      1.8    ,      0.     ,\n",
       "             0.     ,      4.3    ,      2.     ,  25057.48608],\n",
       "       [  2016.     ,      6.     ,      6.     ,      1.     ,\n",
       "             0.     ,      2.     ,      2.     ,     18.7    ,\n",
       "             4.     ,      2.5    ,      1.3    ,      0.     ,\n",
       "             0.     ,      3.8    ,      3.     ,  27085.25952],\n",
       "       [  2016.     ,      4.     ,     12.     ,      2.     ,\n",
       "             4.     ,      2.     ,      2.     ,     19.8    ,\n",
       "             4.     ,      2.5    ,      1.8    ,      0.     ,\n",
       "             0.     ,      4.3    ,      2.     ,  28678.51008],\n",
       "       [  2016.     ,      4.     ,     24.     ,      7.     ,\n",
       "             5.     ,      3.     ,      3.     ,     16.9    ,\n",
       "             3.     ,     52.     ,      0.8    ,      0.     ,\n",
       "             0.     ,     52.8    ,      3.     ,  32637.49632],\n",
       "       [  2016.     ,      6.     ,     30.     ,      4.     ,\n",
       "             3.     ,      2.     ,      2.     ,     27.1    ,\n",
       "             4.     ,     75.     ,      0.8    ,      0.     ,\n",
       "             0.     ,     75.8    ,      2.     ,  39251.90016],\n",
       "       [  2016.     ,      3.     ,     23.     ,      3.     ,\n",
       "             2.     ,      2.     ,      2.     ,     16.7    ,\n",
       "             2.     ,     52.     ,      0.8    ,      0.     ,\n",
       "            10.55   ,     63.35   ,      1.     ,  48376.88064],\n",
       "       [  2016.     ,      3.     ,     30.     ,      3.     ,\n",
       "             4.     ,      2.     ,      2.     ,     17.2    ,\n",
       "             2.     ,      2.5    ,      1.8    ,      0.     ,\n",
       "             0.     ,      4.3    ,      2.     ,  49825.29024],\n",
       "       [  2016.     ,      3.     ,     28.     ,      1.     ,\n",
       "             4.     ,      3.     ,      3.     ,     17.8    ,\n",
       "             2.     ,      2.5    ,      1.8    ,      0.     ,\n",
       "             0.     ,      4.3    ,      2.     ,  51563.38176],\n",
       "       [  2016.     ,      2.     ,     13.     ,      6.     ,\n",
       "             3.     ,      2.     ,      2.     ,     19.6    ,\n",
       "             1.     ,      2.5    ,      0.8    ,      0.     ,\n",
       "             0.     ,      3.3    ,      2.     , 113555.31264],\n",
       "       [  2016.     ,      1.     ,     22.     ,      5.     ,\n",
       "             3.     ,      2.     ,      2.     ,     23.     ,\n",
       "             1.     ,      2.5    ,      0.8    ,      0.     ,\n",
       "             0.     ,      3.3    ,      2.     , 133253.6832 ]])"
      ]
     },
     "execution_count": 33,
     "metadata": {},
     "output_type": "execute_result"
    }
   ],
   "source": [
    "taxi_sorted[-10:]"
   ]
  },
  {
   "cell_type": "markdown",
   "metadata": {},
   "source": [
    "There is no discernible pattern to the date or time of the trips with unrealistic average speeds. We can see that most of them are very short rides - all have `trip_length` values of 4 or less seconds, which does not reconcile with the trip distances, all of which are more than 16 kilometers.\n",
    "\n",
    "All of these rows have the same pickup_location_code and `dropoff_location_code`. This might suggest that the machines that record the data may use the last known GPS signal if they can't find the location, and if a driver starts and finishes a fare quickly, the machine will calculate an accurate time with inaccurate location data.\n",
    "\n",
    "In any case, it's safe to say that the data in these rows is bad, and needs to be removed before any further analysis is performed."
   ]
  },
  {
   "cell_type": "markdown",
   "metadata": {},
   "source": [
    "## Boolean indexing and more on NumPy\n",
    "---"
   ]
  },
  {
   "cell_type": "markdown",
   "metadata": {},
   "source": [
    "In the first part of the notebook we used Python's built-in csv module to import our CSV as a 'list of lists' and used loops to convert each value to a float before we created our NumPy ndarray.\n",
    "\n",
    "NumPy module has it's own function to read text files into ndarray. The [`numpy.genfromtxt()`](http://docs.scipy.org/doc/numpy-1.14.2/reference/generated/numpy.genfromtxt.html#numpy.genfromtxt) function reads a text file into a NumPy ndarray. While it has over 20 parameters, for most cases you need only two. Here is the simplified syntax for the function, and an explanation of the two parameters:\n",
    "\n",
    "```python\n",
    "np.genfromtxt(filename,delimiter)\n",
    "```\n",
    "* `filename` - A positional argument, usually a string representing the path to the text file to be read\n",
    "* `delimiter` - A named argument, specifying the string used to separate each value\n",
    "\n",
    "Let's read our dataset using this function:"
   ]
  },
  {
   "cell_type": "code",
   "execution_count": 34,
   "metadata": {},
   "outputs": [
    {
     "name": "stdout",
     "output_type": "stream",
     "text": [
      "[[    nan     nan     nan ...     nan     nan     nan]\n",
      " [2016.      1.      1.   ...   11.65   69.99    1.  ]\n",
      " [2016.      1.      1.   ...    8.     54.3     1.  ]\n",
      " ...\n",
      " [2016.      6.     30.   ...    5.     63.34    1.  ]\n",
      " [2016.      6.     30.   ...    8.95   44.75    1.  ]\n",
      " [2016.      6.     30.   ...    0.     54.84    2.  ]]\n"
     ]
    }
   ],
   "source": [
    "taxi = np.genfromtxt('nyc_taxis.csv', delimiter = ',')\n",
    "print(taxi)"
   ]
  },
  {
   "cell_type": "markdown",
   "metadata": {},
   "source": [
    "When `numpy.genfromtxt()` reads in a file, it attempts to determine the data type of the file by looking at the values. We can use the [`ndarray.dtype`](https://docs.scipy.org/doc/numpy-1.14.2/reference/generated/numpy.ndarray.dtype.html#numpy.ndarray.dtype) attribute to see the internal datatype that has been used."
   ]
  },
  {
   "cell_type": "code",
   "execution_count": 35,
   "metadata": {},
   "outputs": [
    {
     "name": "stdout",
     "output_type": "stream",
     "text": [
      "float64\n"
     ]
    }
   ],
   "source": [
    "print(taxi.dtype)"
   ]
  },
  {
   "cell_type": "markdown",
   "metadata": {},
   "source": [
    "NaN is most commonly seen when a value is missing, but in this case we have NaN because the first line from our CSV file contains the names of each column. We can remove the header row using slicing or we can pass an additional parameter, `skip_header`, to the `numpy.genfromtxt()` function. The `skip_header` parameters accepts an integer, the number of rows from the start of the file to skip (note that because this is the number of rows and not the index, to skip the first row would require a value of 1 and not 0)."
   ]
  },
  {
   "cell_type": "code",
   "execution_count": 36,
   "metadata": {},
   "outputs": [
    {
     "name": "stdout",
     "output_type": "stream",
     "text": [
      "[[2016.      1.      1.   ...   11.65   69.99    1.  ]\n",
      " [2016.      1.      1.   ...    8.     54.3     1.  ]\n",
      " [2016.      1.      1.   ...    0.     37.8     2.  ]\n",
      " ...\n",
      " [2016.      6.     30.   ...    5.     63.34    1.  ]\n",
      " [2016.      6.     30.   ...    8.95   44.75    1.  ]\n",
      " [2016.      6.     30.   ...    0.     54.84    2.  ]]\n"
     ]
    }
   ],
   "source": [
    "taxi = np.genfromtxt('nyc_taxis.csv', delimiter = ',', skip_header = 1)\n",
    "print(taxi)"
   ]
  },
  {
   "cell_type": "markdown",
   "metadata": {},
   "source": [
    "Probably, the most powerful method is the boolean array. A boolean array, as the name suggests is an array full of boolean values. Boolean arrays are sometimes called boolean vectors or boolean masks.\n",
    "\n",
    "Let's look at what happens when we perform a boolean operation between an ndarray and a scalar:"
   ]
  },
  {
   "cell_type": "code",
   "execution_count": 37,
   "metadata": {},
   "outputs": [
    {
     "name": "stdout",
     "output_type": "stream",
     "text": [
      "[ True  True False False]\n"
     ]
    }
   ],
   "source": [
    "print(np.array([2,4,6,8]) < 5)"
   ]
  },
  {
   "cell_type": "markdown",
   "metadata": {},
   "source": [
    "So we can create a boolean using vectorized boolean operations. The boolean array acts as a filter, and the values that correspond to `True` become part of the resultant ndarray, where the the values that correspond to `False` are removed.\n",
    "\n",
    "Here's an example:"
   ]
  },
  {
   "cell_type": "code",
   "execution_count": 38,
   "metadata": {},
   "outputs": [
    {
     "name": "stdout",
     "output_type": "stream",
     "text": [
      "[2 4]\n"
     ]
    }
   ],
   "source": [
    "an_array = np.array([2,4,6,8])\n",
    "bool_array = an_array < 5\n",
    "print(an_array[bool_array])"
   ]
  },
  {
   "cell_type": "markdown",
   "metadata": {},
   "source": [
    "Now let's use this technique on our dataset. With this we'll find out the number of rides made in January, February and March:"
   ]
  },
  {
   "cell_type": "code",
   "execution_count": 39,
   "metadata": {},
   "outputs": [
    {
     "name": "stdout",
     "output_type": "stream",
     "text": [
      "13481 13333 15547\n"
     ]
    }
   ],
   "source": [
    "pickup_month = taxi[:,1]\n",
    "\n",
    "january_bool = pickup_month == 1\n",
    "january = pickup_month[january_bool]\n",
    "january_rides = january.shape[0] # see the number of items in the 1-st axis\n",
    "\n",
    "february_bool = pickup_month == 2\n",
    "february = pickup_month[february_bool]\n",
    "february_rides = february.shape[0]\n",
    "\n",
    "march_bool = pickup_month == 3\n",
    "march = pickup_month[march_bool]\n",
    "march_rides = march.shape[0]\n",
    "\n",
    "print(january_rides, february_rides, march_rides)"
   ]
  },
  {
   "cell_type": "markdown",
   "metadata": {},
   "source": [
    "You can use boolean indexing in combination with any of the indexing methods we learned in the previous mission. The only limitation is that the boolean array must have the same length as the dimension you're indexing. With that we can, for example, see the columns `pickup_location_code`, `dropoff_location_code`, `trip_distance`, `trip_length`, `fare_amount`, `fees_amount`, `tolls_amount`, `tip_amount`, and `total_amount` with tips more than 50:"
   ]
  },
  {
   "cell_type": "code",
   "execution_count": 40,
   "metadata": {},
   "outputs": [
    {
     "name": "stdout",
     "output_type": "stream",
     "text": [
      "[[    4.       2.      21.45  2004.      52.       0.8      0.      52.8\n",
      "    105.6 ]\n",
      " [    3.       4.       9.2   1041.      27.       1.3      5.54    60.\n",
      "     93.84]\n",
      " [    2.       0.      19.8   1671.      52.5      1.3      5.54    59.34\n",
      "    118.68]\n",
      " [    4.       2.      18.42  2968.      52.       0.8      5.54    80.\n",
      "    138.34]\n",
      " [    3.       6.       0.49   158.       3.5      1.8      0.      70.\n",
      "     75.3 ]\n",
      " [    2.       2.       2.7    381.       9.5      0.8      0.      60.\n",
      "     70.3 ]\n",
      " [    3.       4.       9.54  1210.      27.5      0.8      5.54    55.\n",
      "     88.84]\n",
      " [    2.       4.      17.6   3251.      52.       0.8      5.54    65.\n",
      "    123.34]\n",
      " [    4.       2.      38.2   9252.      52.       0.8      5.54    80.\n",
      "    138.34]\n",
      " [    4.       2.      18.    2276.       0.01     0.3      5.54    62.\n",
      "     67.85]\n",
      " [    2.       0.      26.21 17029.     180.5      0.8      5.54   100.\n",
      "    286.84]\n",
      " [    2.       2.       0.      24.       2.5      0.8      0.      58.\n",
      "     61.3 ]\n",
      " [    2.       1.      18.21  3160.      55.5      0.8      0.      62.\n",
      "    118.3 ]\n",
      " [    2.       2.       0.       3.       2.5      1.8      0.      75.7\n",
      "     80.  ]\n",
      " [    2.       4.      18.68  5247.      52.       0.8      5.54    60.\n",
      "    118.34]\n",
      " [    4.       2.      18.17  5860.      52.       0.8      5.54    70.\n",
      "    128.34]]\n"
     ]
    }
   ],
   "source": [
    "tip_amount = taxi[:,12]\n",
    "tip_bool = tip_amount > 50\n",
    "top_tips = taxi[tip_bool, 5:14]\n",
    "print(top_tips)"
   ]
  },
  {
   "cell_type": "markdown",
   "metadata": {},
   "source": [
    "The last important thing is changing the values in ndarray. Here are some cases:"
   ]
  },
  {
   "cell_type": "code",
   "execution_count": 42,
   "metadata": {},
   "outputs": [
    {
     "name": "stdout",
     "output_type": "stream",
     "text": [
      "['red' 'blue' 'black' 'blue' 'purple']\n",
      "['orange' 'blue' 'black' 'blue' 'purple']\n"
     ]
    }
   ],
   "source": [
    "a = np.array(['red','blue','black','blue','purple'])\n",
    "print(a)\n",
    "a[0] = 'orange' # changing just one value in 1D array\n",
    "print(a)"
   ]
  },
  {
   "cell_type": "code",
   "execution_count": 43,
   "metadata": {},
   "outputs": [
    {
     "name": "stdout",
     "output_type": "stream",
     "text": [
      "['orange' 'blue' 'black' 'pink' 'pink']\n"
     ]
    }
   ],
   "source": [
    "a[3:] = 'pink' # changing several values\n",
    "print(a)"
   ]
  },
  {
   "cell_type": "code",
   "execution_count": 46,
   "metadata": {},
   "outputs": [
    {
     "name": "stdout",
     "output_type": "stream",
     "text": [
      "[[1 1 1 1 1]\n",
      " [1 1 1 1 1]\n",
      " [1 1 1 1 1]] \n",
      "\n",
      "[[ 1  1  1  1  1]\n",
      " [ 1  1 99  1  1]\n",
      " [ 1  1  1  1  1]]\n"
     ]
    }
   ],
   "source": [
    "ones = np.array([[1, 1, 1, 1, 1],\n",
    "                 [1, 1, 1, 1, 1],\n",
    "                 [1, 1, 1, 1, 1]])\n",
    "print(ones, '\\n')\n",
    "ones[1,2] = 99 # changing a value in 2D array\n",
    "print(ones)"
   ]
  },
  {
   "cell_type": "code",
   "execution_count": 47,
   "metadata": {},
   "outputs": [
    {
     "name": "stdout",
     "output_type": "stream",
     "text": [
      "[[42 42 42 42 42]\n",
      " [ 1  1 99  1  1]\n",
      " [ 1  1  1  1  1]]\n"
     ]
    }
   ],
   "source": [
    "ones[0] = 42 # changing a whole row\n",
    "print(ones)"
   ]
  },
  {
   "cell_type": "code",
   "execution_count": 48,
   "metadata": {},
   "outputs": [
    {
     "name": "stdout",
     "output_type": "stream",
     "text": [
      "[[42 42  0 42 42]\n",
      " [ 1  1  0  1  1]\n",
      " [ 1  1  0  1  1]]\n"
     ]
    }
   ],
   "source": [
    "ones[:,2] = 0 # and a whole column!\n",
    "print(ones)"
   ]
  },
  {
   "cell_type": "markdown",
   "metadata": {},
   "source": [
    "Before making changes in an array, it's useful to make a copy (use `.copy()` method) of that array and work with it instead so the original data is safe. Let's practice with our dataset:"
   ]
  },
  {
   "cell_type": "code",
   "execution_count": 49,
   "metadata": {},
   "outputs": [],
   "source": [
    "taxi_modified = taxi.copy() # copying the original data\n",
    "taxi_modified[28214, 5] = 1 # fixing the incorrect 0.0 value\n",
    "taxi_modified[:, 0] = taxi_modified[:, 0] - 2000 # changing YYYY format to the YY\n",
    "taxi_modified[[1800, 1801], 7] = taxi_modified[:, 7].mean() # fixing the incorrect values"
   ]
  },
  {
   "cell_type": "markdown",
   "metadata": {},
   "source": [
    "Basic syntax for using boolean indexing looks like this:\n",
    "\n",
    "```python\n",
    "array[array[:, column_for_comparison] == value_for_comparison, column_for_assignment] = new_value\n",
    "```\n",
    "\n",
    "Here are some examples of using it:"
   ]
  },
  {
   "cell_type": "code",
   "execution_count": 50,
   "metadata": {},
   "outputs": [
    {
     "name": "stdout",
     "output_type": "stream",
     "text": [
      "[[2016.      1.      1.   ...   69.99    1.      0.  ]\n",
      " [2016.      1.      1.   ...   54.3     1.      0.  ]\n",
      " [2016.      1.      1.   ...   37.8     2.      0.  ]\n",
      " ...\n",
      " [2016.      6.     30.   ...   63.34    1.      0.  ]\n",
      " [2016.      6.     30.   ...   44.75    1.      0.  ]\n",
      " [2016.      6.     30.   ...   54.84    2.      0.  ]]\n"
     ]
    }
   ],
   "source": [
    "# create a new column filled with `0`.\n",
    "# numpy.zeros(shape, dtype=float, order='C')\n",
    "# Return a new array of given shape and type, filled with zeros\n",
    "zeros = np.zeros([taxi_modified.shape[0], 1])\n",
    "taxi_modified = np.concatenate([taxi, zeros], axis=1)\n",
    "print(taxi_modified)\n",
    "\n",
    "# Next few lines changes the added column values to 1 if\n",
    "# the airport location (index 5) is:\n",
    "# JFK Airport (2), LaGuardia Airport (3), Newark Airport (5)\n",
    "taxi_modified[taxi_modified[:, 5] == 2, 15] = 1\n",
    "taxi_modified[taxi_modified[:, 5] == 3, 15] = 1\n",
    "taxi_modified[taxi_modified[:, 5] == 5, 15] = 1"
   ]
  },
  {
   "cell_type": "markdown",
   "metadata": {},
   "source": [
    "Let's find the most popular drop off locations (index 6) airports among the selected:"
   ]
  },
  {
   "cell_type": "code",
   "execution_count": 51,
   "metadata": {},
   "outputs": [
    {
     "name": "stdout",
     "output_type": "stream",
     "text": [
      "11832 16602 63\n"
     ]
    }
   ],
   "source": [
    "jfk = taxi[taxi[:, 6] == 2]\n",
    "laguardia = taxi[taxi[:, 6] == 3]\n",
    "newark = taxi[taxi[:, 6] == 5]\n",
    "\n",
    "jfk_count = jfk.shape[0]\n",
    "laguardia_count = laguardia.shape[0]\n",
    "newark_count = newark.shape[0]\n",
    "\n",
    "print(jfk_count, laguardia_count, newark_count)"
   ]
  },
  {
   "cell_type": "markdown",
   "metadata": {},
   "source": [
    "Now let's clean our data from the abnormal speeds and calculate some statistics:"
   ]
  },
  {
   "cell_type": "code",
   "execution_count": 57,
   "metadata": {},
   "outputs": [
    {
     "name": "stdout",
     "output_type": "stream",
     "text": [
      "20.386246162236713 37.58339470285745 2239.503657309026 48.98131853260262\n"
     ]
    }
   ],
   "source": [
    "cleaned_taxi = taxi[trip_kmh < 160]\n",
    "mean_distance = trip_distance_kilometers.mean()\n",
    "mean_length = cleaned_taxi[:, 8].mean()\n",
    "mean_total_amount = cleaned_taxi[:, 13].mean()\n",
    "mean_kmh = trip_kmh[trip_kmh < 160].mean()\n",
    "\n",
    "print(mean_distance, mean_kmh, mean_length, mean_total_amount)"
   ]
  }
 ],
 "metadata": {
  "kernelspec": {
   "display_name": "Python 3",
   "language": "python",
   "name": "python3"
  },
  "language_info": {
   "codemirror_mode": {
    "name": "ipython",
    "version": 3
   },
   "file_extension": ".py",
   "mimetype": "text/x-python",
   "name": "python",
   "nbconvert_exporter": "python",
   "pygments_lexer": "ipython3",
   "version": "3.6.5"
  }
 },
 "nbformat": 4,
 "nbformat_minor": 2
}
