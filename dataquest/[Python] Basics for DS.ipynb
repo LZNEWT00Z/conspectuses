{
 "cells": [
  {
   "cell_type": "markdown",
   "metadata": {},
   "source": [
    "# Python basics for DS\n",
    "---"
   ]
  },
  {
   "cell_type": "markdown",
   "metadata": {},
   "source": [
    "### Working with files\n",
    "**Opening files**\n",
    "```python\n",
    "f = open(\"file.txt\", \"r\") # open() function returns a file object, takes the \n",
    "```\n",
    "**->Reading files**\n",
    "```python\n",
    "data = f.read() # .read() method returns a string representation of the text in a file\n",
    "```\n",
    "**->Splitting the string into a list**\n",
    "```python\n",
    "list_elements = data.split(\"\\n\")\n",
    "```\n",
    "**->Closing files**\n",
    "```python\n",
    "f.close()\n",
    "```"
   ]
  },
  {
   "cell_type": "markdown",
   "metadata": {},
   "source": [
    "### Example\n",
    "**Working with csv files**"
   ]
  },
  {
   "cell_type": "code",
   "execution_count": 1,
   "metadata": {},
   "outputs": [],
   "source": [
    "file = open(\"crime_rates.csv\", \"r\")\n",
    "data = file.read()\n",
    "file.close()"
   ]
  },
  {
   "cell_type": "markdown",
   "metadata": {},
   "source": [
    "Let's check how the data looks like:"
   ]
  },
  {
   "cell_type": "code",
   "execution_count": 2,
   "metadata": {},
   "outputs": [
    {
     "data": {
      "text/plain": [
       "'Albuquerque,749\\nAnaheim,371\\nAnchorage,828\\nArlington,503\\nAtlanta,1379\\nAurora,425\\nAustin,408\\nBakersfield,542\\nBaltimore,1405\\nBoston,835\\nBuffalo,1288\\nCharlotte-Mecklenburg,647\\nCincinnati,974\\nCleveland,1383\\nColorado Springs,455\\nCorpus Christi,658\\nDallas,675\\nDenver,615\\nDetroit,2122\\nEl Paso,423\\nFort Wayne,362\\nFort Worth,587\\nFresno,543\\nGreensboro,563\\nHenderson,168\\nHouston,992\\nIndianapolis,1185\\nJacksonville,617\\nJersey City,734\\nKansas City,1263\\nLas Vegas,784\\nLexington,352\\nLincoln,397\\nLong Beach,575\\nLos Angeles,481\\nLouisville Metro,598\\nMemphis,1750\\nMesa,399\\nMiami,1172\\nMilwaukee,1294\\nMinneapolis,992\\nMobile,522\\nNashville,1216\\nNew Orleans,815\\nNew York,639\\nNewark,1154\\nOakland,1993\\nOklahoma City,919\\nOmaha,594\\nPhiladelphia,1160\\nPhoenix,636\\nPittsburgh,752\\nPlano,130\\nPortland,517\\nRaleigh,423\\nRiverside,443\\nSacramento,738\\nSan Antonio,503\\nSan Diego,413\\nSan Francisco,704\\nSan Jose,363\\nSanta Ana,401\\nSeattle,597\\nSt. Louis,1776\\nSt. Paul,722\\nStockton,1548\\nTampa,616\\nToledo,1171\\nTucson,724\\nTulsa,990\\nVirginia Beach,169\\nWashington,1177\\nWichita,742'"
      ]
     },
     "execution_count": 2,
     "metadata": {},
     "output_type": "execute_result"
    }
   ],
   "source": [
    "data"
   ]
  },
  {
   "cell_type": "markdown",
   "metadata": {},
   "source": [
    "Let's split the data into rows and see the results:"
   ]
  },
  {
   "cell_type": "code",
   "execution_count": 3,
   "metadata": {},
   "outputs": [
    {
     "data": {
      "text/plain": [
       "['Albuquerque,749',\n",
       " 'Anaheim,371',\n",
       " 'Anchorage,828',\n",
       " 'Arlington,503',\n",
       " 'Atlanta,1379']"
      ]
     },
     "execution_count": 3,
     "metadata": {},
     "output_type": "execute_result"
    }
   ],
   "source": [
    "rate_rows = data.split('\\n')\n",
    "rate_rows[0:5]"
   ]
  },
  {
   "cell_type": "markdown",
   "metadata": {},
   "source": [
    "Now we can create a list of lists to have a better access to the data:"
   ]
  },
  {
   "cell_type": "code",
   "execution_count": 4,
   "metadata": {},
   "outputs": [
    {
     "data": {
      "text/plain": [
       "[['Albuquerque', '749'],\n",
       " ['Anaheim', '371'],\n",
       " ['Anchorage', '828'],\n",
       " ['Arlington', '503'],\n",
       " ['Atlanta', '1379']]"
      ]
     },
     "execution_count": 4,
     "metadata": {},
     "output_type": "execute_result"
    }
   ],
   "source": [
    "cities_rates = []\n",
    "[cities_rates.append(row.split(',')) for row in rate_rows]\n",
    "cities_rates[0:5]"
   ]
  },
  {
   "cell_type": "code",
   "execution_count": 5,
   "metadata": {},
   "outputs": [
    {
     "name": "stdout",
     "output_type": "stream",
     "text": [
      "Albuquerque\n",
      "749\n",
      "['Anaheim', '371']\n"
     ]
    }
   ],
   "source": [
    "print(cities_rates[0][0])\n",
    "print(cities_rates[0][1])\n",
    "print(cities_rates[1])"
   ]
  },
  {
   "cell_type": "markdown",
   "metadata": {},
   "source": [
    "---\n",
    "### CSV Module\n",
    "---\n",
    "We can use the `csv` module to work with CSV files.\n",
    "\n",
    "`reader()` function from this module takes a file object as its argument and returns an object that represents our data.\n",
    "\n",
    "Check the [documentation](https://docs.python.org/3/library/csv.html?highlight=csv#module-csv) to find out more details on this module."
   ]
  },
  {
   "cell_type": "code",
   "execution_count": 6,
   "metadata": {},
   "outputs": [],
   "source": [
    "import csv\n",
    "f = open(\"crime_rates.csv\")\n",
    "csvreader = csv.reader(f) # the file object is created\n",
    "crime_rates_csv = list(csvreader) # the file object is converted to a list"
   ]
  },
  {
   "cell_type": "code",
   "execution_count": 7,
   "metadata": {},
   "outputs": [
    {
     "data": {
      "text/plain": [
       "[['Albuquerque', '749'], ['Anaheim', '371'], ['Anchorage', '828']]"
      ]
     },
     "execution_count": 7,
     "metadata": {},
     "output_type": "execute_result"
    }
   ],
   "source": [
    "crime_rates_csv[:3] # let's see the first three rows"
   ]
  },
  {
   "cell_type": "markdown",
   "metadata": {},
   "source": [
    "Now let's have some fun with another file"
   ]
  },
  {
   "cell_type": "code",
   "execution_count": 8,
   "metadata": {
    "scrolled": true
   },
   "outputs": [
    {
     "data": {
      "text/plain": [
       "[['2009', '1', 'Pittsburgh Steelers', 'Tennessee Titans'],\n",
       " ['2009', '1', 'Minnesota Vikings', 'Cleveland Browns']]"
      ]
     },
     "execution_count": 8,
     "metadata": {},
     "output_type": "execute_result"
    }
   ],
   "source": [
    "import csv\n",
    "f = open(\"nfl.csv\")\n",
    "nfl = list(csv.reader(f))\n",
    "\n",
    "nfl[:2]"
   ]
  },
  {
   "cell_type": "markdown",
   "metadata": {},
   "source": [
    "Checking how many times the New England Patriots won..."
   ]
  },
  {
   "cell_type": "code",
   "execution_count": 9,
   "metadata": {},
   "outputs": [
    {
     "name": "stdout",
     "output_type": "stream",
     "text": [
      "10\n"
     ]
    }
   ],
   "source": [
    "patriots_wins = sum([1 for row in nfl if row[2] == \"New England Patriots\"])\n",
    "\n",
    "print(patriots_wins)"
   ]
  },
  {
   "cell_type": "code",
   "execution_count": 10,
   "metadata": {},
   "outputs": [
    {
     "name": "stdout",
     "output_type": "stream",
     "text": [
      "10 7\n"
     ]
    }
   ],
   "source": [
    "def nfl_wins(team_name): # the function returns the number of games the team won\n",
    "    return sum([1 for row in nfl if row[2] == team_name])\n",
    "cowboys_wins = nfl_wins(\"Dallas Cowboys\")\n",
    "falcons_wins = nfl_wins(\"Atlanta Falcons\")\n",
    "\n",
    "print(cowboys_wins, falcons_wins)"
   ]
  },
  {
   "cell_type": "markdown",
   "metadata": {},
   "source": [
    "---\n",
    "### Regular Expressions\n",
    "---"
   ]
  },
  {
   "cell_type": "markdown",
   "metadata": {},
   "source": [
    "Regular expression (regex) is a sequence of characters that describes a search pattern. Python has it's own module [`re`](https://docs.python.org/3/library/re.html) to work with regular expressions.\n",
    "\n",
    "Here's a list of special characters from the module:\n",
    "\n",
    "* `\".\"` - to indicate that any character can be pit in its place\n",
    "* `\"^\"` - to match the beginning of a string (`\"^a\"` will match all strings that start with \"a\")\n",
    "* `\"$\"` - to match the end of a string (`\"a\\$\"` will match all strings that end with \"a\")\n",
    "* `\"|\"` - to combine regular expressions (`\"^a|a$\"` will match all strings that start wit \"a\" **or** the strings that end with \"a\")\n",
    "\n",
    "One of the useful functions the module provides is `re.search`.\n",
    "\n",
    "`re.search(regex, string)` checks wheter `string` is a match for `regex`. If it is, the expression will return a **match** object, else it will return `None`.\n",
    "\n",
    "Let's check it out using it on an `askreddit_2015.csv` dataset. The headers of the dataset are:\n",
    "+ Title\n",
    "+ Score\n",
    "+ Time\n",
    "+ Gold\n",
    "+ NumComs"
   ]
  },
  {
   "cell_type": "code",
   "execution_count": 11,
   "metadata": {},
   "outputs": [
    {
     "name": "stdout",
     "output_type": "stream",
     "text": [
      "['What\\'s your internet \"white whale\", something you\\'ve been searching for years to find with no luck?', '11510', '1433213314.0', '1', '26195']\n",
      "[\"What's your favorite video that is 10 seconds or less?\", '8656', '1434205517.0', '4', '8479']\n",
      "['What are some interesting tests you can take to find out about yourself?', '8480', '1443409636.0', '1', '4055']\n",
      "[\"PhD's of Reddit. What is a dumbed down summary of your thesis?\", '7927', '1440188623.0', '0', '13201']\n",
      "['What is cool to be good at, yet uncool to be REALLY good at?', '7711', '1440082910.0', '0', '20325']\n",
      "['[Serious] Redditors currently in a relationship, besides dinner and a movie, what are your favorite activities for date night?', '7598', '1439993280.0', '2', '5389']\n",
      "[\"Parents of Reddit, what's something that your kid has done that you pretended to be angry about but secretly impressed or amused you?\", '7553', '1439161809.0', '0', '11520']\n",
      "['What is a good subreddit to binge read the All Time Top Posts of?', '7498', '1438822288.0', '0', '2780']\n",
      "['What would the person who named Walkie Talkies have named other items?', '7501', '1447904351.0', '4', '6720']\n",
      "[\"People who grew up in a different socioeconomic class as your significant others, what are the notable differences you've noticed and how does it affect your relationship (if at all)?\", '7419', '1440358069.0', '0', '8603']\n"
     ]
    },
    {
     "data": {
      "text/plain": [
       "[None, None, None, None, None, None, None, None, None, None]"
      ]
     },
     "execution_count": 11,
     "metadata": {},
     "output_type": "execute_result"
    }
   ],
   "source": [
    "import csv\n",
    "f = open(\"askreddit_2015.csv\")\n",
    "posts_with_headers = list(csv.reader(f))\n",
    "posts = posts_with_headers[1:]\n",
    "[print(row) for row in posts[:10]] # let's inspect some parts of the dataset"
   ]
  },
  {
   "cell_type": "markdown",
   "metadata": {},
   "source": [
    "Some of these posts have phrases like \"Parents of Reddit\". Let's count similar posts using `re.search(regex, string)`."
   ]
  },
  {
   "cell_type": "code",
   "execution_count": 12,
   "metadata": {},
   "outputs": [
    {
     "name": "stdout",
     "output_type": "stream",
     "text": [
      "76\n"
     ]
    }
   ],
   "source": [
    "import re\n",
    "of_reddit_count = sum([1 for row in posts if re.search(\"of Reddit\", row[0])])\n",
    "print(of_reddit_count)"
   ]
  },
  {
   "cell_type": "markdown",
   "metadata": {},
   "source": [
    "Some of these posts have different capitalization of `\"Reddit\"`. To indicate that any character can fill the space of a character we use square brackets.\n",
    "\n",
    "Here's a fixed version of the code:"
   ]
  },
  {
   "cell_type": "code",
   "execution_count": 13,
   "metadata": {},
   "outputs": [
    {
     "name": "stdout",
     "output_type": "stream",
     "text": [
      "102\n"
     ]
    }
   ],
   "source": [
    "of_reddit_count = sum([1 for row in posts if re.search(\"of [Rr]eddit\", row[0])])\n",
    "print(of_reddit_count)"
   ]
  },
  {
   "cell_type": "markdown",
   "metadata": {},
   "source": [
    "`regex` has the same escape character `\"\\\"` as strings. Let's use it to find the posts with **[Serious]** tag."
   ]
  },
  {
   "cell_type": "code",
   "execution_count": 14,
   "metadata": {},
   "outputs": [
    {
     "name": "stdout",
     "output_type": "stream",
     "text": [
      "69\n"
     ]
    }
   ],
   "source": [
    "serious_count = sum([1 for row in posts if re.search(\"\\[Serious\\]\", row[0])])\n",
    "print(serious_count)"
   ]
  },
  {
   "cell_type": "markdown",
   "metadata": {},
   "source": [
    "Maybe some people use **[serious]** tag. Let's try to check it as well:"
   ]
  },
  {
   "cell_type": "code",
   "execution_count": 15,
   "metadata": {},
   "outputs": [
    {
     "name": "stdout",
     "output_type": "stream",
     "text": [
      "77\n"
     ]
    }
   ],
   "source": [
    "serious_count = sum([1 for row in posts if re.search(\"\\[[Ss]erious\\]\", row[0])])\n",
    "print(serious_count)"
   ]
  },
  {
   "cell_type": "markdown",
   "metadata": {},
   "source": [
    "Some of the users could've used **parentheses** instead of square brackets. We'll have to use escape characters for them as well. Here's how the fix looks like:"
   ]
  },
  {
   "cell_type": "code",
   "execution_count": 16,
   "metadata": {},
   "outputs": [
    {
     "name": "stdout",
     "output_type": "stream",
     "text": [
      "80\n"
     ]
    }
   ],
   "source": [
    "serious_count = sum([1 for row in posts if re.search(\"[\\[\\(][Ss]erious[\\]\\)]\", row[0])])\n",
    "print(serious_count)"
   ]
  },
  {
   "cell_type": "markdown",
   "metadata": {},
   "source": [
    "The post considered serious only if the tag occurs at the beginning (`\"^\"`) or (`\"|\"`) end (`\"$\"`) of the title."
   ]
  },
  {
   "cell_type": "code",
   "execution_count": 17,
   "metadata": {},
   "outputs": [
    {
     "name": "stdout",
     "output_type": "stream",
     "text": [
      "80\n"
     ]
    }
   ],
   "source": [
    "serious_count = sum([1 for row in posts if re.search(\"^[\\[\\(][Ss]erious[\\]\\)]|[\\[\\(][Ss]erious[\\]\\)]$\", row[0])])\n",
    "print(serious_count)"
   ]
  },
  {
   "cell_type": "markdown",
   "metadata": {},
   "source": [
    "Sometimes it's useful to have only one format for specific words. Let's replace `\"[serious]\"`, `\"(Serious)\"` and `\"(serious)\"` with `\"[Serious]\"` for all of the titles in posts. The `re` module provides a [sub()](https://docs.python.org/3/library/re.html#re.sub) function that takes the following parameters (in order):\n",
    "* `pattern`: The regex to match\n",
    "* `repl`: The string that should replace the substring matches\n",
    "* `string`: The string containing the pattern we want to search\n",
    "\n",
    "Let's check it out on our dataset:"
   ]
  },
  {
   "cell_type": "code",
   "execution_count": 18,
   "metadata": {},
   "outputs": [],
   "source": [
    "# repl argument is just a string, so you don't need any escape charecters\n",
    "for row in posts:\n",
    "    row[0] = re.sub(\"^[\\[\\(][Ss]erious[\\]\\)]|[\\[\\(][Ss]erious[\\]\\)]$\", \"[Serious]\", row[0])"
   ]
  },
  {
   "cell_type": "markdown",
   "metadata": {},
   "source": [
    "To look for any specific value within an interval we can use square brackets along with a dash. For example, `\"[0-9]\"` will match any **character** that falls between 0 and 9. Same with `\"[a-z]\"`. To indicate that a pattern should repeat you can use curly brackets. So instead of `\"[0-9][0-9][0-9][0-9]\"` you can type `\"[0-9]{4}\"`.\n",
    "\n",
    "Here's an example:"
   ]
  },
  {
   "cell_type": "code",
   "execution_count": 19,
   "metadata": {},
   "outputs": [
    {
     "name": "stdout",
     "output_type": "stream",
     "text": [
      "['War of 1812', 'Happy New Year 2016!']\n"
     ]
    }
   ],
   "source": [
    "strings = ['War of 1812', 'There are 5280 feet to a mile', 'Happy New Year 2016!']\n",
    "year_strings = [row for row in strings if re.search(\"[1-2][0-9]{3}\", row) is not None]\n",
    "print(year_strings)"
   ]
  },
  {
   "cell_type": "markdown",
   "metadata": {},
   "source": [
    "You can use a [findall()](https://docs.python.org/3/library/re.html#re.Pattern.findall) to extract some peaces of a string that match a regex. `re.findall(\"[a-z]\", \"abc123\"])` would return a list `[\"a\", \"b\", \"c\"]`. \n",
    "\n",
    "Look at the code below:"
   ]
  },
  {
   "cell_type": "code",
   "execution_count": 20,
   "metadata": {},
   "outputs": [
    {
     "name": "stdout",
     "output_type": "stream",
     "text": [
      "['2018', '2019']\n"
     ]
    }
   ],
   "source": [
    "years_string = \"2018 was a good year, but 2019 will be better!\"\n",
    "years = re.findall(\"[1-2][0-9]{3}\", years_string) # extracting a string consisting of integers between 1000 and 2999\n",
    "print(years)"
   ]
  },
  {
   "cell_type": "markdown",
   "metadata": {},
   "source": [
    "Check out more information on regex in my conspectuses of the [Udemy course by Colt Steele](https://github.com/LZNEWT00Z/conspectuses/tree/master/The%20Modern%20Python%203%20Udemy%20Bootcamp)!\n",
    "\n",
    "---\n",
    "### Dates in Python\n",
    "---"
   ]
  },
  {
   "cell_type": "markdown",
   "metadata": {},
   "source": [
    "One of the Python's [Standard Library](https://docs.python.org/3/library/) that deals with dates and times is the [`time`](https://docs.python.org/3/library/time.html) module, whith **Unix timestamps**. \n",
    "\n",
    "A Unix timestamp is a floating point value with no explicit mention of day, month or year. This value represents the *number of seconds that have passed since the \"epoch\"* in UTC, or the first second of the year 1970. We can represent any date after 1970 this way.\n",
    "\n",
    "To retrieve the current Unix timestamp, we use the [`time.time()`](https://docs.python.org/3/library/time.html#time.time) function:"
   ]
  },
  {
   "cell_type": "code",
   "execution_count": 21,
   "metadata": {},
   "outputs": [
    {
     "name": "stdout",
     "output_type": "stream",
     "text": [
      "1547015333.2565267\n"
     ]
    }
   ],
   "source": [
    "import time\n",
    "current_time = time.time()\n",
    "print(current_time)"
   ]
  },
  {
   "cell_type": "markdown",
   "metadata": {},
   "source": [
    "But it doesn't have to look like this! Using the [`time.gmtime()`](https://docs.python.org/3/library/time.html#time.gmtime) function will help us to convert this time to a human-readable form. The function takes a timestamp as an argument, and returns an instance of [`struct_time`](https://docs.python.org/3/library/time.html#time.struct_time) class. Such instances have attributes to represent the current time in other ways. \n",
    "\n",
    "Here are some of the attributes:\n",
    "\n",
    "* `tm_year`: The year of the timestamp\n",
    "* `tm_mon`: The month of the timestamp (1-12)\n",
    "* `tm_mday`: The day in the month of the timestamp (1-31)\n",
    "* `tm_hour`: The hour of the timestamp (0-23)\n",
    "* `tm_min`: The minute of the timestamp (0-59)\n",
    "\n",
    "Example below:"
   ]
  },
  {
   "cell_type": "code",
   "execution_count": 22,
   "metadata": {},
   "outputs": [
    {
     "name": "stdout",
     "output_type": "stream",
     "text": [
      "9/1/2019\n"
     ]
    }
   ],
   "source": [
    "current_time = time.time()\n",
    "current_struct_time = time.gmtime(current_time)\n",
    "current_day = current_struct_time.tm_mday\n",
    "current_month = current_struct_time.tm_mon\n",
    "current_year = current_struct_time.tm_year\n",
    "print(str(current_day) + \"/\" + str(current_month) + \"/\" + str(current_year))"
   ]
  },
  {
   "cell_type": "markdown",
   "metadata": {},
   "source": [
    "The [`datetime`](https://docs.python.org/3/library/datetime.html) module offers better support for working extensively with dates. For example, it's easier to perform arithmetic on them (such as adding days), and to work with different time zones.\n",
    "\n",
    "The `datetime` module contains a class that's also named [`datetime`](https://docs.python.org/3/library/datetime.html) that represents points in time. These `datetime` instances appear similar to `struct_time` instances.\n",
    "\n",
    "To represent a specific point in time, we pass in values into the constructor when creating an instance of the datetime class:\n",
    "\n",
    "```python\n",
    "nye_2017 = datetime.datetime(year=2017, month=12, day=31, hour=12, minute=59, second=59)\n",
    "```\n",
    "\n",
    "Also we could leave out specific details (like hour/year/etc.) if we'd like.\n",
    "\n",
    "We can return the current utc time as a datetime instance using the [`datetime.utcnow()`](https://docs.python.org/3/library/datetime.html#datetime.datetime.utcnow) function. To see the current local time, just use the [`datetime.now()`](https://docs.python.org/3/library/datetime.html#datetime.datetime.now).\n",
    "\n",
    "Once we have a `datetime` instance that represents a specific point in time, we can use the following attributes to return more specific properties:\n",
    "\n",
    "* `year`: returns the year value as an integer.\n",
    "* `month`: returns the month value an integer.\n",
    "* `day`: returns the day value as an integer.\n",
    "* `hour`: returns the hour value as an integer.\n",
    "* `minute`: returns the minute value as an integer.\n",
    "* `second`: returns the second value as an integer.\n",
    "* `microsecond`: returns the microsecond value as an integer.\n",
    "\n",
    "You can read about these attributes in the [documentation](https://docs.python.org/3/library/datetime.html#datetime.datetime.year).\n",
    "\n",
    "To convert a Unix timestamp into `datetime` object use the [`datetime.datetime.fromtimestamp()`](https://docs.python.org/3/library/datetime.html#datetime.datetime.fromtimestamp) function:\n",
    "```python\n",
    "datetime_object = datetime.datetime.fromtimestamp(1433213314.0)\n",
    "```\n",
    "\n",
    "Another example of code below:"
   ]
  },
  {
   "cell_type": "code",
   "execution_count": 23,
   "metadata": {},
   "outputs": [
    {
     "name": "stdout",
     "output_type": "stream",
     "text": [
      "2019 1 9 9\n"
     ]
    }
   ],
   "source": [
    "import datetime\n",
    "current_datetime = datetime.datetime.now()  # the .now() method is contained within a datetime class \n",
    "current_year = current_datetime.year        # which is contained within a datetime module\n",
    "current_month = current_datetime.month\n",
    "current_day = current_datetime.day\n",
    "current_hour = current_datetime.hour\n",
    "print(current_year, current_month, current_day, current_hour)"
   ]
  },
  {
   "cell_type": "markdown",
   "metadata": {},
   "source": [
    "We know how to represent dates, but we'd also like to perform arithmetic on them. Since adding a day, week, month, etc. to a date can be tedious to do from scratch, the `datetime` module provides the [`timedelta`](https://docs.python.org/3/library/datetime.html#timedelta-objects) class. We can create an instance of this class that represents a span of time, then add or subtract it from instances of the `datetime` class.\n",
    "\n",
    "When we create instances of the `timedelta` class, we can specify the following parameters:\n",
    "\n",
    "* `weeks`\n",
    "* `days`\n",
    "* `hours`\n",
    "* `minutes`\n",
    "* `seconds`\n",
    "* `milliseconds`\n",
    "* `microseconds`\n",
    "\n",
    "Suppose we want to calculate the date for three weeks and two days from now. We would first create an instance of the `datetime` class that represents today:\n",
    "```python\n",
    "today = datetime.datetime.now()\n",
    "```\n",
    "Then, we could get an instance of the `timedelta` class that represents the span of time we're working with:\n",
    "```python\n",
    "diff = datetime.timedelta(weeks = 3, days = 2)\n",
    "```\n",
    "Finally, we would add these two instances:\n",
    "```python\n",
    "future = today + diff\n",
    "```\n",
    "We can also subtract a `timedelta` instance from a `datetime` instance:\n",
    "```python\n",
    "past = today - diff\n",
    "```"
   ]
  },
  {
   "cell_type": "markdown",
   "metadata": {},
   "source": [
    "Instead of displaying the full timestamp down to the microsecond, we can use the [`datetime.strftime()`](https://docs.python.org/3/library/datetime.html#strftime-and-strptime-behavior) method to specify how we'd like the string output to be formatted.\n",
    "\n",
    "The `datetime.datetime.strftime()` method takes a format string as its input. A format string contains special indicators, usually preceded by percent characters (`\"%\"`), that indicate where certain values should go. For example, suppose we stored a timestamp from *March 3, 2010* in the object `march3`. If we want to format it nicely into the string `\"Mar 03, 2010\"`, we can write the following code:\n",
    "```python\n",
    "march3 = datetime.datetime(year = 2010, month = 3, day = 3)\n",
    "\n",
    "pretty_march3 = march3.strftime(\"%b %d, %Y\")\n",
    "\n",
    "print(pretty_march3)\n",
    "```\n",
    "The format string argument in `strftime()` indicates that we want:\n",
    "\n",
    "* the abbreviated month name (`\"%b\"`) followed by a space\n",
    "* the day of the month (`\"%d\"`) followed by a comma and space\n",
    "* the full year (`\"%Y\"`)"
   ]
  },
  {
   "cell_type": "code",
   "execution_count": 24,
   "metadata": {},
   "outputs": [
    {
     "name": "stdout",
     "output_type": "stream",
     "text": [
      "12:00AM on Wednesday January 09, 2019\n"
     ]
    }
   ],
   "source": [
    "mystery_date = datetime.datetime(2019, 1, 9, 0, 0)\n",
    "mystery_date_formatted_string = mystery_date.strftime(\"%I:%M%p on %A %B %d, %Y\")\n",
    "print(mystery_date_formatted_string)"
   ]
  },
  {
   "cell_type": "markdown",
   "metadata": {},
   "source": [
    "Just as we can convert a `datetime` object into a formatted string, we can also do the reverse. The [`datetime.datetime.strptime()`](https://docs.python.org/3/library/datetime.html#strftime-strptime-behavior) function allows us to convert a string to a `datetime` instance:\n",
    "\n",
    "1. The date string (e.g. `\"Mar 03, 2010\"`)\n",
    "2. The format string (e.g. `\"%b %d, %Y\"`)\n",
    "\n",
    "With just these two arguments, `strptime()` will return a datetime instance for March 3, 2010:\n",
    "```python\n",
    "march3 = datetime.datetime.strptime(\"Mar 03, 2010\", \"%b %d, %Y\")\n",
    "```"
   ]
  },
  {
   "cell_type": "code",
   "execution_count": 25,
   "metadata": {},
   "outputs": [
    {
     "name": "stdout",
     "output_type": "stream",
     "text": [
      "2019-01-09 00:00:00\n"
     ]
    }
   ],
   "source": [
    "mystery_date_2 = datetime.datetime.strptime(mystery_date_formatted_string, \"%I:%M%p on %A %B %d, %Y\")\n",
    "print(mystery_date_2)"
   ]
  },
  {
   "cell_type": "markdown",
   "metadata": {},
   "source": [
    "Let's go back to our askreddit_2015.csv dataset. The time here (index 2 of each row) is represented as a Unix timestamp value. Let's convert it into a `datetime` inscance:"
   ]
  },
  {
   "cell_type": "code",
   "execution_count": 26,
   "metadata": {},
   "outputs": [
    {
     "name": "stdout",
     "output_type": "stream",
     "text": [
      "[['What\\'s your internet \"white whale\", something you\\'ve been searching for years to find with no luck?', '11510', datetime.datetime(2015, 6, 2, 5, 48, 34), '1', '26195'], [\"What's your favorite video that is 10 seconds or less?\", '8656', datetime.datetime(2015, 6, 13, 17, 25, 17), '4', '8479'], ['What are some interesting tests you can take to find out about yourself?', '8480', datetime.datetime(2015, 9, 28, 6, 7, 16), '1', '4055']]\n"
     ]
    }
   ],
   "source": [
    "for row in posts:\n",
    "    row[2] = datetime.datetime.fromtimestamp(float(row[2]))\n",
    "\n",
    "print(posts[:3])"
   ]
  },
  {
   "cell_type": "markdown",
   "metadata": {},
   "source": [
    "Now let's see how many posts were made in February, March and August."
   ]
  },
  {
   "cell_type": "code",
   "execution_count": 27,
   "metadata": {},
   "outputs": [
    {
     "name": "stdout",
     "output_type": "stream",
     "text": [
      "58 46 94\n"
     ]
    }
   ],
   "source": [
    "march_count = sum([1 for row in posts if row[2].month == 3])\n",
    "feb_count = sum([1 for row in posts if row[2].month == 2])\n",
    "aug_count = sum([1 for row in posts if row[2].month == 8])\n",
    "\n",
    "print(march_count, feb_count, aug_count)"
   ]
  },
  {
   "cell_type": "markdown",
   "metadata": {},
   "source": [
    "It's time to implement the gained skills!\n",
    "\n",
    "### Exploring Gun Deaths in the US\n",
    "\n",
    "We'll use a guns.csv dataset."
   ]
  },
  {
   "cell_type": "code",
   "execution_count": 28,
   "metadata": {},
   "outputs": [
    {
     "data": {
      "text/plain": [
       "[['',\n",
       "  'year',\n",
       "  'month',\n",
       "  'intent',\n",
       "  'police',\n",
       "  'sex',\n",
       "  'age',\n",
       "  'race',\n",
       "  'hispanic',\n",
       "  'place',\n",
       "  'education'],\n",
       " ['1',\n",
       "  '2012',\n",
       "  '01',\n",
       "  'Suicide',\n",
       "  '0',\n",
       "  'M',\n",
       "  '34',\n",
       "  'Asian/Pacific Islander',\n",
       "  '100',\n",
       "  'Home',\n",
       "  '4'],\n",
       " ['2', '2012', '01', 'Suicide', '0', 'F', '21', 'White', '100', 'Street', '3'],\n",
       " ['3',\n",
       "  '2012',\n",
       "  '01',\n",
       "  'Suicide',\n",
       "  '0',\n",
       "  'M',\n",
       "  '60',\n",
       "  'White',\n",
       "  '100',\n",
       "  'Other specified',\n",
       "  '4'],\n",
       " ['4', '2012', '02', 'Suicide', '0', 'M', '64', 'White', '100', 'Home', '4']]"
      ]
     },
     "execution_count": 28,
     "metadata": {},
     "output_type": "execute_result"
    }
   ],
   "source": [
    "import csv\n",
    "f = open(\"guns.csv\", \"r\")\n",
    "data = list(csv.reader(f))\n",
    "\n",
    "data[:5]"
   ]
  },
  {
   "cell_type": "markdown",
   "metadata": {},
   "source": [
    "It's useful to extract the header row from the dataset, so let's do it."
   ]
  },
  {
   "cell_type": "code",
   "execution_count": 29,
   "metadata": {},
   "outputs": [
    {
     "data": {
      "text/plain": [
       "[['1',\n",
       "  '2012',\n",
       "  '01',\n",
       "  'Suicide',\n",
       "  '0',\n",
       "  'M',\n",
       "  '34',\n",
       "  'Asian/Pacific Islander',\n",
       "  '100',\n",
       "  'Home',\n",
       "  '4'],\n",
       " ['2', '2012', '01', 'Suicide', '0', 'F', '21', 'White', '100', 'Street', '3'],\n",
       " ['3',\n",
       "  '2012',\n",
       "  '01',\n",
       "  'Suicide',\n",
       "  '0',\n",
       "  'M',\n",
       "  '60',\n",
       "  'White',\n",
       "  '100',\n",
       "  'Other specified',\n",
       "  '4'],\n",
       " ['4', '2012', '02', 'Suicide', '0', 'M', '64', 'White', '100', 'Home', '4'],\n",
       " ['5',\n",
       "  '2012',\n",
       "  '02',\n",
       "  'Suicide',\n",
       "  '0',\n",
       "  'M',\n",
       "  '31',\n",
       "  'White',\n",
       "  '100',\n",
       "  'Other specified',\n",
       "  '2']]"
      ]
     },
     "execution_count": 29,
     "metadata": {},
     "output_type": "execute_result"
    }
   ],
   "source": [
    "headers = data[0]\n",
    "data = data[1:]\n",
    "\n",
    "data[:5]"
   ]
  },
  {
   "cell_type": "markdown",
   "metadata": {},
   "source": [
    "Let's see the ammount of gun deaths in each year:"
   ]
  },
  {
   "cell_type": "code",
   "execution_count": 30,
   "metadata": {},
   "outputs": [
    {
     "data": {
      "text/plain": [
       "{'2012': 33563, '2013': 33636, '2014': 33599}"
      ]
     },
     "execution_count": 30,
     "metadata": {},
     "output_type": "execute_result"
    }
   ],
   "source": [
    "year_counts = {}\n",
    "years = [row[1] for row in data]\n",
    "for year in years:\n",
    "    if year in year_counts:\n",
    "        year_counts[year] += 1\n",
    "    else:\n",
    "        year_counts[year] = 1\n",
    "\n",
    "year_counts"
   ]
  },
  {
   "cell_type": "markdown",
   "metadata": {},
   "source": [
    "The ammount didn't really change by year from 2012 to 2014. Let's see if we can find any differences in months:"
   ]
  },
  {
   "cell_type": "code",
   "execution_count": 31,
   "metadata": {},
   "outputs": [
    {
     "data": {
      "text/plain": [
       "[datetime.datetime(2012, 1, 1, 0, 0),\n",
       " datetime.datetime(2012, 1, 1, 0, 0),\n",
       " datetime.datetime(2012, 1, 1, 0, 0),\n",
       " datetime.datetime(2012, 2, 1, 0, 0),\n",
       " datetime.datetime(2012, 2, 1, 0, 0)]"
      ]
     },
     "execution_count": 31,
     "metadata": {},
     "output_type": "execute_result"
    }
   ],
   "source": [
    "import datetime\n",
    "months = [row[2] for row in data]\n",
    "dates = [datetime.datetime(year = int(years[index]),\n",
    "                           month = int(months[index]), \n",
    "                           day = 1)\n",
    "         for index in range(len(years))]\n",
    "\n",
    "dates[:5]"
   ]
  },
  {
   "cell_type": "code",
   "execution_count": 32,
   "metadata": {},
   "outputs": [
    {
     "data": {
      "text/plain": [
       "{datetime.datetime(2012, 1, 1, 0, 0): 2758,\n",
       " datetime.datetime(2012, 2, 1, 0, 0): 2357,\n",
       " datetime.datetime(2012, 3, 1, 0, 0): 2743,\n",
       " datetime.datetime(2012, 4, 1, 0, 0): 2795,\n",
       " datetime.datetime(2012, 5, 1, 0, 0): 2999,\n",
       " datetime.datetime(2012, 6, 1, 0, 0): 2826,\n",
       " datetime.datetime(2012, 7, 1, 0, 0): 3026,\n",
       " datetime.datetime(2012, 8, 1, 0, 0): 2954,\n",
       " datetime.datetime(2012, 9, 1, 0, 0): 2852,\n",
       " datetime.datetime(2012, 10, 1, 0, 0): 2733,\n",
       " datetime.datetime(2012, 11, 1, 0, 0): 2729,\n",
       " datetime.datetime(2012, 12, 1, 0, 0): 2791,\n",
       " datetime.datetime(2013, 1, 1, 0, 0): 2864,\n",
       " datetime.datetime(2013, 2, 1, 0, 0): 2375,\n",
       " datetime.datetime(2013, 3, 1, 0, 0): 2862,\n",
       " datetime.datetime(2013, 4, 1, 0, 0): 2798,\n",
       " datetime.datetime(2013, 5, 1, 0, 0): 2806,\n",
       " datetime.datetime(2013, 6, 1, 0, 0): 2920,\n",
       " datetime.datetime(2013, 7, 1, 0, 0): 3079,\n",
       " datetime.datetime(2013, 8, 1, 0, 0): 2859,\n",
       " datetime.datetime(2013, 9, 1, 0, 0): 2742,\n",
       " datetime.datetime(2013, 10, 1, 0, 0): 2808,\n",
       " datetime.datetime(2013, 11, 1, 0, 0): 2758,\n",
       " datetime.datetime(2013, 12, 1, 0, 0): 2765,\n",
       " datetime.datetime(2014, 1, 1, 0, 0): 2651,\n",
       " datetime.datetime(2014, 2, 1, 0, 0): 2361,\n",
       " datetime.datetime(2014, 3, 1, 0, 0): 2684,\n",
       " datetime.datetime(2014, 4, 1, 0, 0): 2862,\n",
       " datetime.datetime(2014, 5, 1, 0, 0): 2864,\n",
       " datetime.datetime(2014, 6, 1, 0, 0): 2931,\n",
       " datetime.datetime(2014, 7, 1, 0, 0): 2884,\n",
       " datetime.datetime(2014, 8, 1, 0, 0): 2970,\n",
       " datetime.datetime(2014, 9, 1, 0, 0): 2914,\n",
       " datetime.datetime(2014, 10, 1, 0, 0): 2865,\n",
       " datetime.datetime(2014, 11, 1, 0, 0): 2756,\n",
       " datetime.datetime(2014, 12, 1, 0, 0): 2857}"
      ]
     },
     "execution_count": 32,
     "metadata": {},
     "output_type": "execute_result"
    }
   ],
   "source": [
    "date_counts = {}\n",
    "for date in dates:\n",
    "    if date in date_counts:\n",
    "        date_counts[date] += 1\n",
    "    else:\n",
    "        date_counts[date] = 1\n",
    "\n",
    "date_counts"
   ]
  },
  {
   "cell_type": "markdown",
   "metadata": {},
   "source": [
    "It seems that there's a minor seasonal correlation, with gun deaths peaking in the summer and declining in the winter.\n",
    "\n",
    "Sex and race columns also could contain some interesting data. Let's explore these columns as well:"
   ]
  },
  {
   "cell_type": "code",
   "execution_count": 33,
   "metadata": {},
   "outputs": [],
   "source": [
    "sex = []\n",
    "races = []\n",
    "[(sex.append(row[5]), races.append(row[7])) for row in data]\n",
    "sex_counts = {}\n",
    "race_counts = {}\n",
    "for index in range(len(data)):\n",
    "    if sex[index] in sex_counts:\n",
    "        sex_counts[sex[index]] += 1\n",
    "    elif sex[index] not in sex_counts:\n",
    "        sex_counts[sex[index]] = 1\n",
    "    if races[index] in race_counts:\n",
    "        race_counts[races[index]] += 1\n",
    "    elif races[index] not in race_counts:\n",
    "        race_counts[races[index]] = 1"
   ]
  },
  {
   "cell_type": "code",
   "execution_count": 34,
   "metadata": {},
   "outputs": [
    {
     "data": {
      "text/plain": [
       "{'M': 86349, 'F': 14449}"
      ]
     },
     "execution_count": 34,
     "metadata": {},
     "output_type": "execute_result"
    }
   ],
   "source": [
    "sex_counts"
   ]
  },
  {
   "cell_type": "code",
   "execution_count": 35,
   "metadata": {},
   "outputs": [
    {
     "data": {
      "text/plain": [
       "{'Asian/Pacific Islander': 1326,\n",
       " 'White': 66237,\n",
       " 'Native American/Native Alaskan': 917,\n",
       " 'Black': 23296,\n",
       " 'Hispanic': 9022}"
      ]
     },
     "execution_count": 35,
     "metadata": {},
     "output_type": "execute_result"
    }
   ],
   "source": [
    "race_counts"
   ]
  },
  {
   "cell_type": "markdown",
   "metadata": {},
   "source": [
    "To be more specific we'll need to find the proportions of each race in the US. Luckily, we have such dataset, census.csv."
   ]
  },
  {
   "cell_type": "code",
   "execution_count": 36,
   "metadata": {},
   "outputs": [
    {
     "data": {
      "text/plain": [
       "[['Id',\n",
       "  'Year',\n",
       "  'Id',\n",
       "  'Sex',\n",
       "  'Id',\n",
       "  'Hispanic Origin',\n",
       "  'Id',\n",
       "  'Id2',\n",
       "  'Geography',\n",
       "  'Total',\n",
       "  'Race Alone - White',\n",
       "  'Race Alone - Hispanic',\n",
       "  'Race Alone - Black or African American',\n",
       "  'Race Alone - American Indian and Alaska Native',\n",
       "  'Race Alone - Asian',\n",
       "  'Race Alone - Native Hawaiian and Other Pacific Islander',\n",
       "  'Two or More Races'],\n",
       " ['cen42010',\n",
       "  'April 1, 2010 Census',\n",
       "  'totsex',\n",
       "  'Both Sexes',\n",
       "  'tothisp',\n",
       "  'Total',\n",
       "  '0100000US',\n",
       "  '',\n",
       "  'United States',\n",
       "  '308745538',\n",
       "  '197318956',\n",
       "  '44618105',\n",
       "  '40250635',\n",
       "  '3739506',\n",
       "  '15159516',\n",
       "  '674625',\n",
       "  '6984195']]"
      ]
     },
     "execution_count": 36,
     "metadata": {},
     "output_type": "execute_result"
    }
   ],
   "source": [
    "f = open(\"census.csv\")\n",
    "census = list(csv.reader(f))\n",
    "\n",
    "census"
   ]
  },
  {
   "cell_type": "markdown",
   "metadata": {},
   "source": [
    "Let's see the rates for each census race (per hundred thousand)."
   ]
  },
  {
   "cell_type": "code",
   "execution_count": 37,
   "metadata": {},
   "outputs": [
    {
     "data": {
      "text/plain": [
       "{'Asian/Pacific Islander': 8.374309664161762,\n",
       " 'White': 33.56849303419181,\n",
       " 'Native American/Native Alaskan': 24.521955573811088,\n",
       " 'Black': 57.8773477735196,\n",
       " 'Hispanic': 20.220491210910907}"
      ]
     },
     "execution_count": 37,
     "metadata": {},
     "output_type": "execute_result"
    }
   ],
   "source": [
    "mapping = {\n",
    "    \"Asian/Pacific Islander\": 15159516 + 674625,\n",
    "    \"Native American/Native Alaskan\": 3739506,\n",
    "    \"Black\": 40250635,\n",
    "    \"Hispanic\": 44618105,\n",
    "    \"White\": 197318956\n",
    "}\n",
    "race_per_hundredk = {}\n",
    "for race in race_counts:\n",
    "    race_per_hundredk[race] = (race_counts[race] / mapping[race]) * 100000\n",
    "    \n",
    "race_per_hundredk"
   ]
  },
  {
   "cell_type": "markdown",
   "metadata": {},
   "source": [
    "It would be interesting to filter the results by the intent (Homicide)."
   ]
  },
  {
   "cell_type": "code",
   "execution_count": 38,
   "metadata": {},
   "outputs": [
    {
     "data": {
      "text/plain": [
       "{'White': 4.6356417981453335,\n",
       " 'Asian/Pacific Islander': 3.530346230970155,\n",
       " 'Black': 48.471284987180944,\n",
       " 'Native American/Native Alaskan': 8.717729026240365,\n",
       " 'Hispanic': 12.627161104219914}"
      ]
     },
     "execution_count": 38,
     "metadata": {},
     "output_type": "execute_result"
    }
   ],
   "source": [
    "intent = [row[3] for row in data]\n",
    "homicide_race_counts = {}\n",
    "for index, race in enumerate(races):\n",
    "    if intent[index] == \"Homicide\":\n",
    "        if race in homicide_race_counts:\n",
    "            homicide_race_counts[race] += 1\n",
    "        else:\n",
    "            homicide_race_counts[race] = 1\n",
    "\n",
    "homicide_race_per_hundredk = {}\n",
    "for race in homicide_race_counts:\n",
    "    homicide_race_per_hundredk[race] = (homicide_race_counts[race] / mapping[race]) * 100000\n",
    "\n",
    "homicide_race_per_hundredk"
   ]
  },
  {
   "cell_type": "markdown",
   "metadata": {},
   "source": [
    "Here we can see that in the US gun related homicides mostly affect people in the Black and Hispanic categories."
   ]
  }
 ],
 "metadata": {
  "kernelspec": {
   "display_name": "Python 3",
   "language": "python",
   "name": "python3"
  },
  "language_info": {
   "codemirror_mode": {
    "name": "ipython",
    "version": 3
   },
   "file_extension": ".py",
   "mimetype": "text/x-python",
   "name": "python",
   "nbconvert_exporter": "python",
   "pygments_lexer": "ipython3",
   "version": "3.6.5"
  }
 },
 "nbformat": 4,
 "nbformat_minor": 2
}
